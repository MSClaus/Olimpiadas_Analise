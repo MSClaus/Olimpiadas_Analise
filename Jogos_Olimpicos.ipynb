{
  "nbformat": 4,
  "nbformat_minor": 0,
  "metadata": {
    "colab": {
      "name": "Jogos_Olimpicos.ipynb",
      "provenance": [],
      "collapsed_sections": [
        "k3ZviCUJvhhl",
        "5kaQgpExBf0b",
        "vh9RPXLjHwHg",
        "JIxMXLcBlesZ",
        "qE968gIzLx7V",
        "o7oxxcTQFna_"
      ],
      "mount_file_id": "1np4vnTjwsUDh55L1xAomdzv8YTX_enqk",
      "authorship_tag": "ABX9TyMKleJ6F1rASA73pBgcItOu",
      "include_colab_link": true
    },
    "kernelspec": {
      "name": "python3",
      "display_name": "Python 3"
    },
    "language_info": {
      "name": "python"
    }
  },
  "cells": [
    {
      "cell_type": "markdown",
      "metadata": {
        "id": "view-in-github",
        "colab_type": "text"
      },
      "source": [
        "<a href=\"https://colab.research.google.com/github/MSClaus/Olimpiadas_Analise/blob/main/Jogos_Olimpicos.ipynb\" target=\"_parent\"><img src=\"https://colab.research.google.com/assets/colab-badge.svg\" alt=\"Open In Colab\"/></a>"
      ]
    },
    {
      "cell_type": "markdown",
      "source": [
        "#**EXPLORAÇÃO DE DADOS SOBRE A HISTÓRIA RECENTE DOS JOGOS OLÍMPICOS** \n",
        "#####**Autor:** Matheus Souza Claus\n",
        "#####**Origem da base de dados:** [Kaggle: 120 years of Olympic history: athletes and results](https://www.kaggle.com/heesoo37/120-years-of-olympic-history-athletes-and-results?select=athlete_events.csv)"
      ],
      "metadata": {
        "id": "T04Bups3qN6O"
      }
    },
    {
      "cell_type": "markdown",
      "source": [
        "# **1. INTRODUÇÃO**\n",
        "Neste projeto explorei um conjunto de dados sobre os Jogos Olímpicos modernos, incluindo todos os jogos de Atenas (1896) ao Rio (2016)."
      ],
      "metadata": {
        "id": "k3ZviCUJvhhl"
      }
    },
    {
      "cell_type": "markdown",
      "source": [
        "### Motivação:\n",
        "- O maior evento esportivo do planeta, os Jogos Olimpicos da Era Moderna, tiveram sua primeira edição em Atenas no ano de 1896 e é até o presente momento, sem sombra de duvidas, o maior sonho dos atletas de alta performance. \n",
        "Por ter como hobbie o esporte e por já ter participado de inúmeras competições esportivas de diferentes modalidades, decidi fazer algumas análises para entender algumas caracteristicas desse seleto grupo de atletas que participarão dos jogos olímpicos."
      ],
      "metadata": {
        "id": "XyPMM7rExIeh"
      }
    },
    {
      "cell_type": "markdown",
      "source": [
        "### Sobre a Base:\n",
        "* O arquivo atleta_events.csv contém 271.116 linhas e 15 colunas, ou seja, 271.116 atletas.\n",
        "<br>\n",
        "<br>\n",
        "* Cada linha correponde à um atleta competindo em uma modalidade olímpica diferente (portanto os atletas podem estar duplicados caso tenham participado de mais de uma modalidade ou caso tenham participado de mais de uma edição das Olímpiadas). \n",
        "<br>\n",
        "<br>\n",
        "* Existem 15 atributos para cada atleta-evento (como irei chamar cada linha do banco de dados). Sendo eles:\n",
        " * ID - Unique number for each athlete\n",
        " * Name - Athlete's name\n",
        " * Sex - M or F\n",
        " * Age - Integer\n",
        " * Height - In centimeters\n",
        " * Weight - In kilograms\n",
        " * Team - Team name\n",
        " * NOC - National Olympic Committee 3-letter code\n",
        " * Games - Year and season\n",
        " * Year - Integer\n",
        " * Season - Summer or Winter\n",
        " * City - Host city\n",
        " * Sport - Sport\n",
        " * Event - Event\n",
        " * Medal - Gold, Silver, Bronze, or NA"
      ],
      "metadata": {
        "id": "a_eSzdwFytnc"
      }
    },
    {
      "cell_type": "markdown",
      "source": [
        "#**2. IMPORTANDO MÓDULOS**\n"
      ],
      "metadata": {
        "id": "PJsqu1z1AepT"
      }
    },
    {
      "cell_type": "code",
      "source": [
        "import numpy as np\n",
        "import pandas as pd\n",
        "import seaborn as sns\n",
        "import matplotlib.pyplot as plt\n",
        "import plotly.express as px\n",
        "import warnings\n",
        "\n",
        "warnings.filterwarnings(\"ignore\") # ignorar warnings"
      ],
      "metadata": {
        "id": "aQjhkscF02ld"
      },
      "execution_count": 263,
      "outputs": []
    },
    {
      "cell_type": "markdown",
      "source": [
        "# **3. IMPORTANDO ARQUIVOS CSV**"
      ],
      "metadata": {
        "id": "5kaQgpExBf0b"
      }
    },
    {
      "cell_type": "code",
      "source": [
        "from google.colab import drive\n",
        "drive.mount('/content/drive')"
      ],
      "metadata": {
        "colab": {
          "base_uri": "https://localhost:8080/"
        },
        "id": "cF9dyST8WTGF",
        "outputId": "01b2ce7c-2d94-4fd8-d47f-cbdd5fbdf063"
      },
      "execution_count": 82,
      "outputs": [
        {
          "output_type": "stream",
          "name": "stdout",
          "text": [
            "Drive already mounted at /content/drive; to attempt to forcibly remount, call drive.mount(\"/content/drive\", force_remount=True).\n"
          ]
        }
      ]
    },
    {
      "cell_type": "code",
      "source": [
        "from google.colab import files \n",
        "\n",
        "dados = pd.read_csv('/content/drive/MyDrive/Colab Notebooks/data/athlete_events.csv')\n",
        "regioes = pd.read_csv('/content/drive/MyDrive/Colab Notebooks/data/noc_regions.csv')"
      ],
      "metadata": {
        "id": "7HJP4yNFHP_K"
      },
      "execution_count": 83,
      "outputs": []
    },
    {
      "cell_type": "markdown",
      "source": [
        "# **4. REVISÃO DE DADOS**\n"
      ],
      "metadata": {
        "id": "vh9RPXLjHwHg"
      }
    },
    {
      "cell_type": "markdown",
      "source": [
        "- Revisão da disposição dos dados.\n",
        "  - head | info | describe\n"
      ],
      "metadata": {
        "id": "JIxMXLcBlesZ"
      }
    },
    {
      "cell_type": "code",
      "source": [
        "dados.head(5)"
      ],
      "metadata": {
        "colab": {
          "base_uri": "https://localhost:8080/",
          "height": 337
        },
        "id": "y1t36EYPJNDd",
        "outputId": "2319b8ba-53f5-4282-e934-ade0029e87a6"
      },
      "execution_count": 84,
      "outputs": [
        {
          "output_type": "execute_result",
          "data": {
            "text/plain": [
              "   ID                      Name Sex   Age  Height  Weight            Team  \\\n",
              "0   1                 A Dijiang   M  24.0   180.0    80.0           China   \n",
              "1   2                  A Lamusi   M  23.0   170.0    60.0           China   \n",
              "2   3       Gunnar Nielsen Aaby   M  24.0     NaN     NaN         Denmark   \n",
              "3   4      Edgar Lindenau Aabye   M  34.0     NaN     NaN  Denmark/Sweden   \n",
              "4   5  Christine Jacoba Aaftink   F  21.0   185.0    82.0     Netherlands   \n",
              "\n",
              "   NOC        Games  Year  Season       City          Sport  \\\n",
              "0  CHN  1992 Summer  1992  Summer  Barcelona     Basketball   \n",
              "1  CHN  2012 Summer  2012  Summer     London           Judo   \n",
              "2  DEN  1920 Summer  1920  Summer  Antwerpen       Football   \n",
              "3  DEN  1900 Summer  1900  Summer      Paris     Tug-Of-War   \n",
              "4  NED  1988 Winter  1988  Winter    Calgary  Speed Skating   \n",
              "\n",
              "                              Event Medal  \n",
              "0       Basketball Men's Basketball   NaN  \n",
              "1      Judo Men's Extra-Lightweight   NaN  \n",
              "2           Football Men's Football   NaN  \n",
              "3       Tug-Of-War Men's Tug-Of-War  Gold  \n",
              "4  Speed Skating Women's 500 metres   NaN  "
            ],
            "text/html": [
              "\n",
              "  <div id=\"df-ff531791-8d80-4708-a3bf-f34768ec987d\">\n",
              "    <div class=\"colab-df-container\">\n",
              "      <div>\n",
              "<style scoped>\n",
              "    .dataframe tbody tr th:only-of-type {\n",
              "        vertical-align: middle;\n",
              "    }\n",
              "\n",
              "    .dataframe tbody tr th {\n",
              "        vertical-align: top;\n",
              "    }\n",
              "\n",
              "    .dataframe thead th {\n",
              "        text-align: right;\n",
              "    }\n",
              "</style>\n",
              "<table border=\"1\" class=\"dataframe\">\n",
              "  <thead>\n",
              "    <tr style=\"text-align: right;\">\n",
              "      <th></th>\n",
              "      <th>ID</th>\n",
              "      <th>Name</th>\n",
              "      <th>Sex</th>\n",
              "      <th>Age</th>\n",
              "      <th>Height</th>\n",
              "      <th>Weight</th>\n",
              "      <th>Team</th>\n",
              "      <th>NOC</th>\n",
              "      <th>Games</th>\n",
              "      <th>Year</th>\n",
              "      <th>Season</th>\n",
              "      <th>City</th>\n",
              "      <th>Sport</th>\n",
              "      <th>Event</th>\n",
              "      <th>Medal</th>\n",
              "    </tr>\n",
              "  </thead>\n",
              "  <tbody>\n",
              "    <tr>\n",
              "      <th>0</th>\n",
              "      <td>1</td>\n",
              "      <td>A Dijiang</td>\n",
              "      <td>M</td>\n",
              "      <td>24.0</td>\n",
              "      <td>180.0</td>\n",
              "      <td>80.0</td>\n",
              "      <td>China</td>\n",
              "      <td>CHN</td>\n",
              "      <td>1992 Summer</td>\n",
              "      <td>1992</td>\n",
              "      <td>Summer</td>\n",
              "      <td>Barcelona</td>\n",
              "      <td>Basketball</td>\n",
              "      <td>Basketball Men's Basketball</td>\n",
              "      <td>NaN</td>\n",
              "    </tr>\n",
              "    <tr>\n",
              "      <th>1</th>\n",
              "      <td>2</td>\n",
              "      <td>A Lamusi</td>\n",
              "      <td>M</td>\n",
              "      <td>23.0</td>\n",
              "      <td>170.0</td>\n",
              "      <td>60.0</td>\n",
              "      <td>China</td>\n",
              "      <td>CHN</td>\n",
              "      <td>2012 Summer</td>\n",
              "      <td>2012</td>\n",
              "      <td>Summer</td>\n",
              "      <td>London</td>\n",
              "      <td>Judo</td>\n",
              "      <td>Judo Men's Extra-Lightweight</td>\n",
              "      <td>NaN</td>\n",
              "    </tr>\n",
              "    <tr>\n",
              "      <th>2</th>\n",
              "      <td>3</td>\n",
              "      <td>Gunnar Nielsen Aaby</td>\n",
              "      <td>M</td>\n",
              "      <td>24.0</td>\n",
              "      <td>NaN</td>\n",
              "      <td>NaN</td>\n",
              "      <td>Denmark</td>\n",
              "      <td>DEN</td>\n",
              "      <td>1920 Summer</td>\n",
              "      <td>1920</td>\n",
              "      <td>Summer</td>\n",
              "      <td>Antwerpen</td>\n",
              "      <td>Football</td>\n",
              "      <td>Football Men's Football</td>\n",
              "      <td>NaN</td>\n",
              "    </tr>\n",
              "    <tr>\n",
              "      <th>3</th>\n",
              "      <td>4</td>\n",
              "      <td>Edgar Lindenau Aabye</td>\n",
              "      <td>M</td>\n",
              "      <td>34.0</td>\n",
              "      <td>NaN</td>\n",
              "      <td>NaN</td>\n",
              "      <td>Denmark/Sweden</td>\n",
              "      <td>DEN</td>\n",
              "      <td>1900 Summer</td>\n",
              "      <td>1900</td>\n",
              "      <td>Summer</td>\n",
              "      <td>Paris</td>\n",
              "      <td>Tug-Of-War</td>\n",
              "      <td>Tug-Of-War Men's Tug-Of-War</td>\n",
              "      <td>Gold</td>\n",
              "    </tr>\n",
              "    <tr>\n",
              "      <th>4</th>\n",
              "      <td>5</td>\n",
              "      <td>Christine Jacoba Aaftink</td>\n",
              "      <td>F</td>\n",
              "      <td>21.0</td>\n",
              "      <td>185.0</td>\n",
              "      <td>82.0</td>\n",
              "      <td>Netherlands</td>\n",
              "      <td>NED</td>\n",
              "      <td>1988 Winter</td>\n",
              "      <td>1988</td>\n",
              "      <td>Winter</td>\n",
              "      <td>Calgary</td>\n",
              "      <td>Speed Skating</td>\n",
              "      <td>Speed Skating Women's 500 metres</td>\n",
              "      <td>NaN</td>\n",
              "    </tr>\n",
              "  </tbody>\n",
              "</table>\n",
              "</div>\n",
              "      <button class=\"colab-df-convert\" onclick=\"convertToInteractive('df-ff531791-8d80-4708-a3bf-f34768ec987d')\"\n",
              "              title=\"Convert this dataframe to an interactive table.\"\n",
              "              style=\"display:none;\">\n",
              "        \n",
              "  <svg xmlns=\"http://www.w3.org/2000/svg\" height=\"24px\"viewBox=\"0 0 24 24\"\n",
              "       width=\"24px\">\n",
              "    <path d=\"M0 0h24v24H0V0z\" fill=\"none\"/>\n",
              "    <path d=\"M18.56 5.44l.94 2.06.94-2.06 2.06-.94-2.06-.94-.94-2.06-.94 2.06-2.06.94zm-11 1L8.5 8.5l.94-2.06 2.06-.94-2.06-.94L8.5 2.5l-.94 2.06-2.06.94zm10 10l.94 2.06.94-2.06 2.06-.94-2.06-.94-.94-2.06-.94 2.06-2.06.94z\"/><path d=\"M17.41 7.96l-1.37-1.37c-.4-.4-.92-.59-1.43-.59-.52 0-1.04.2-1.43.59L10.3 9.45l-7.72 7.72c-.78.78-.78 2.05 0 2.83L4 21.41c.39.39.9.59 1.41.59.51 0 1.02-.2 1.41-.59l7.78-7.78 2.81-2.81c.8-.78.8-2.07 0-2.86zM5.41 20L4 18.59l7.72-7.72 1.47 1.35L5.41 20z\"/>\n",
              "  </svg>\n",
              "      </button>\n",
              "      \n",
              "  <style>\n",
              "    .colab-df-container {\n",
              "      display:flex;\n",
              "      flex-wrap:wrap;\n",
              "      gap: 12px;\n",
              "    }\n",
              "\n",
              "    .colab-df-convert {\n",
              "      background-color: #E8F0FE;\n",
              "      border: none;\n",
              "      border-radius: 50%;\n",
              "      cursor: pointer;\n",
              "      display: none;\n",
              "      fill: #1967D2;\n",
              "      height: 32px;\n",
              "      padding: 0 0 0 0;\n",
              "      width: 32px;\n",
              "    }\n",
              "\n",
              "    .colab-df-convert:hover {\n",
              "      background-color: #E2EBFA;\n",
              "      box-shadow: 0px 1px 2px rgba(60, 64, 67, 0.3), 0px 1px 3px 1px rgba(60, 64, 67, 0.15);\n",
              "      fill: #174EA6;\n",
              "    }\n",
              "\n",
              "    [theme=dark] .colab-df-convert {\n",
              "      background-color: #3B4455;\n",
              "      fill: #D2E3FC;\n",
              "    }\n",
              "\n",
              "    [theme=dark] .colab-df-convert:hover {\n",
              "      background-color: #434B5C;\n",
              "      box-shadow: 0px 1px 3px 1px rgba(0, 0, 0, 0.15);\n",
              "      filter: drop-shadow(0px 1px 2px rgba(0, 0, 0, 0.3));\n",
              "      fill: #FFFFFF;\n",
              "    }\n",
              "  </style>\n",
              "\n",
              "      <script>\n",
              "        const buttonEl =\n",
              "          document.querySelector('#df-ff531791-8d80-4708-a3bf-f34768ec987d button.colab-df-convert');\n",
              "        buttonEl.style.display =\n",
              "          google.colab.kernel.accessAllowed ? 'block' : 'none';\n",
              "\n",
              "        async function convertToInteractive(key) {\n",
              "          const element = document.querySelector('#df-ff531791-8d80-4708-a3bf-f34768ec987d');\n",
              "          const dataTable =\n",
              "            await google.colab.kernel.invokeFunction('convertToInteractive',\n",
              "                                                     [key], {});\n",
              "          if (!dataTable) return;\n",
              "\n",
              "          const docLinkHtml = 'Like what you see? Visit the ' +\n",
              "            '<a target=\"_blank\" href=https://colab.research.google.com/notebooks/data_table.ipynb>data table notebook</a>'\n",
              "            + ' to learn more about interactive tables.';\n",
              "          element.innerHTML = '';\n",
              "          dataTable['output_type'] = 'display_data';\n",
              "          await google.colab.output.renderOutput(dataTable, element);\n",
              "          const docLink = document.createElement('div');\n",
              "          docLink.innerHTML = docLinkHtml;\n",
              "          element.appendChild(docLink);\n",
              "        }\n",
              "      </script>\n",
              "    </div>\n",
              "  </div>\n",
              "  "
            ]
          },
          "metadata": {},
          "execution_count": 84
        }
      ]
    },
    {
      "cell_type": "code",
      "source": [
        "dados.describe()"
      ],
      "metadata": {
        "colab": {
          "base_uri": "https://localhost:8080/",
          "height": 300
        },
        "id": "0QWKc1fjJXEf",
        "outputId": "fe9198a0-627d-4adf-81c0-b2f050c1acba"
      },
      "execution_count": 85,
      "outputs": [
        {
          "output_type": "execute_result",
          "data": {
            "text/plain": [
              "                  ID            Age         Height         Weight  \\\n",
              "count  271116.000000  261642.000000  210945.000000  208241.000000   \n",
              "mean    68248.954396      25.556898     175.338970      70.702393   \n",
              "std     39022.286345       6.393561      10.518462      14.348020   \n",
              "min         1.000000      10.000000     127.000000      25.000000   \n",
              "25%     34643.000000      21.000000     168.000000      60.000000   \n",
              "50%     68205.000000      24.000000     175.000000      70.000000   \n",
              "75%    102097.250000      28.000000     183.000000      79.000000   \n",
              "max    135571.000000      97.000000     226.000000     214.000000   \n",
              "\n",
              "                Year  \n",
              "count  271116.000000  \n",
              "mean     1978.378480  \n",
              "std        29.877632  \n",
              "min      1896.000000  \n",
              "25%      1960.000000  \n",
              "50%      1988.000000  \n",
              "75%      2002.000000  \n",
              "max      2016.000000  "
            ],
            "text/html": [
              "\n",
              "  <div id=\"df-b42d3449-020c-48f5-b510-5e61724ac7cd\">\n",
              "    <div class=\"colab-df-container\">\n",
              "      <div>\n",
              "<style scoped>\n",
              "    .dataframe tbody tr th:only-of-type {\n",
              "        vertical-align: middle;\n",
              "    }\n",
              "\n",
              "    .dataframe tbody tr th {\n",
              "        vertical-align: top;\n",
              "    }\n",
              "\n",
              "    .dataframe thead th {\n",
              "        text-align: right;\n",
              "    }\n",
              "</style>\n",
              "<table border=\"1\" class=\"dataframe\">\n",
              "  <thead>\n",
              "    <tr style=\"text-align: right;\">\n",
              "      <th></th>\n",
              "      <th>ID</th>\n",
              "      <th>Age</th>\n",
              "      <th>Height</th>\n",
              "      <th>Weight</th>\n",
              "      <th>Year</th>\n",
              "    </tr>\n",
              "  </thead>\n",
              "  <tbody>\n",
              "    <tr>\n",
              "      <th>count</th>\n",
              "      <td>271116.000000</td>\n",
              "      <td>261642.000000</td>\n",
              "      <td>210945.000000</td>\n",
              "      <td>208241.000000</td>\n",
              "      <td>271116.000000</td>\n",
              "    </tr>\n",
              "    <tr>\n",
              "      <th>mean</th>\n",
              "      <td>68248.954396</td>\n",
              "      <td>25.556898</td>\n",
              "      <td>175.338970</td>\n",
              "      <td>70.702393</td>\n",
              "      <td>1978.378480</td>\n",
              "    </tr>\n",
              "    <tr>\n",
              "      <th>std</th>\n",
              "      <td>39022.286345</td>\n",
              "      <td>6.393561</td>\n",
              "      <td>10.518462</td>\n",
              "      <td>14.348020</td>\n",
              "      <td>29.877632</td>\n",
              "    </tr>\n",
              "    <tr>\n",
              "      <th>min</th>\n",
              "      <td>1.000000</td>\n",
              "      <td>10.000000</td>\n",
              "      <td>127.000000</td>\n",
              "      <td>25.000000</td>\n",
              "      <td>1896.000000</td>\n",
              "    </tr>\n",
              "    <tr>\n",
              "      <th>25%</th>\n",
              "      <td>34643.000000</td>\n",
              "      <td>21.000000</td>\n",
              "      <td>168.000000</td>\n",
              "      <td>60.000000</td>\n",
              "      <td>1960.000000</td>\n",
              "    </tr>\n",
              "    <tr>\n",
              "      <th>50%</th>\n",
              "      <td>68205.000000</td>\n",
              "      <td>24.000000</td>\n",
              "      <td>175.000000</td>\n",
              "      <td>70.000000</td>\n",
              "      <td>1988.000000</td>\n",
              "    </tr>\n",
              "    <tr>\n",
              "      <th>75%</th>\n",
              "      <td>102097.250000</td>\n",
              "      <td>28.000000</td>\n",
              "      <td>183.000000</td>\n",
              "      <td>79.000000</td>\n",
              "      <td>2002.000000</td>\n",
              "    </tr>\n",
              "    <tr>\n",
              "      <th>max</th>\n",
              "      <td>135571.000000</td>\n",
              "      <td>97.000000</td>\n",
              "      <td>226.000000</td>\n",
              "      <td>214.000000</td>\n",
              "      <td>2016.000000</td>\n",
              "    </tr>\n",
              "  </tbody>\n",
              "</table>\n",
              "</div>\n",
              "      <button class=\"colab-df-convert\" onclick=\"convertToInteractive('df-b42d3449-020c-48f5-b510-5e61724ac7cd')\"\n",
              "              title=\"Convert this dataframe to an interactive table.\"\n",
              "              style=\"display:none;\">\n",
              "        \n",
              "  <svg xmlns=\"http://www.w3.org/2000/svg\" height=\"24px\"viewBox=\"0 0 24 24\"\n",
              "       width=\"24px\">\n",
              "    <path d=\"M0 0h24v24H0V0z\" fill=\"none\"/>\n",
              "    <path d=\"M18.56 5.44l.94 2.06.94-2.06 2.06-.94-2.06-.94-.94-2.06-.94 2.06-2.06.94zm-11 1L8.5 8.5l.94-2.06 2.06-.94-2.06-.94L8.5 2.5l-.94 2.06-2.06.94zm10 10l.94 2.06.94-2.06 2.06-.94-2.06-.94-.94-2.06-.94 2.06-2.06.94z\"/><path d=\"M17.41 7.96l-1.37-1.37c-.4-.4-.92-.59-1.43-.59-.52 0-1.04.2-1.43.59L10.3 9.45l-7.72 7.72c-.78.78-.78 2.05 0 2.83L4 21.41c.39.39.9.59 1.41.59.51 0 1.02-.2 1.41-.59l7.78-7.78 2.81-2.81c.8-.78.8-2.07 0-2.86zM5.41 20L4 18.59l7.72-7.72 1.47 1.35L5.41 20z\"/>\n",
              "  </svg>\n",
              "      </button>\n",
              "      \n",
              "  <style>\n",
              "    .colab-df-container {\n",
              "      display:flex;\n",
              "      flex-wrap:wrap;\n",
              "      gap: 12px;\n",
              "    }\n",
              "\n",
              "    .colab-df-convert {\n",
              "      background-color: #E8F0FE;\n",
              "      border: none;\n",
              "      border-radius: 50%;\n",
              "      cursor: pointer;\n",
              "      display: none;\n",
              "      fill: #1967D2;\n",
              "      height: 32px;\n",
              "      padding: 0 0 0 0;\n",
              "      width: 32px;\n",
              "    }\n",
              "\n",
              "    .colab-df-convert:hover {\n",
              "      background-color: #E2EBFA;\n",
              "      box-shadow: 0px 1px 2px rgba(60, 64, 67, 0.3), 0px 1px 3px 1px rgba(60, 64, 67, 0.15);\n",
              "      fill: #174EA6;\n",
              "    }\n",
              "\n",
              "    [theme=dark] .colab-df-convert {\n",
              "      background-color: #3B4455;\n",
              "      fill: #D2E3FC;\n",
              "    }\n",
              "\n",
              "    [theme=dark] .colab-df-convert:hover {\n",
              "      background-color: #434B5C;\n",
              "      box-shadow: 0px 1px 3px 1px rgba(0, 0, 0, 0.15);\n",
              "      filter: drop-shadow(0px 1px 2px rgba(0, 0, 0, 0.3));\n",
              "      fill: #FFFFFF;\n",
              "    }\n",
              "  </style>\n",
              "\n",
              "      <script>\n",
              "        const buttonEl =\n",
              "          document.querySelector('#df-b42d3449-020c-48f5-b510-5e61724ac7cd button.colab-df-convert');\n",
              "        buttonEl.style.display =\n",
              "          google.colab.kernel.accessAllowed ? 'block' : 'none';\n",
              "\n",
              "        async function convertToInteractive(key) {\n",
              "          const element = document.querySelector('#df-b42d3449-020c-48f5-b510-5e61724ac7cd');\n",
              "          const dataTable =\n",
              "            await google.colab.kernel.invokeFunction('convertToInteractive',\n",
              "                                                     [key], {});\n",
              "          if (!dataTable) return;\n",
              "\n",
              "          const docLinkHtml = 'Like what you see? Visit the ' +\n",
              "            '<a target=\"_blank\" href=https://colab.research.google.com/notebooks/data_table.ipynb>data table notebook</a>'\n",
              "            + ' to learn more about interactive tables.';\n",
              "          element.innerHTML = '';\n",
              "          dataTable['output_type'] = 'display_data';\n",
              "          await google.colab.output.renderOutput(dataTable, element);\n",
              "          const docLink = document.createElement('div');\n",
              "          docLink.innerHTML = docLinkHtml;\n",
              "          element.appendChild(docLink);\n",
              "        }\n",
              "      </script>\n",
              "    </div>\n",
              "  </div>\n",
              "  "
            ]
          },
          "metadata": {},
          "execution_count": 85
        }
      ]
    },
    {
      "cell_type": "code",
      "source": [
        "dados.info()"
      ],
      "metadata": {
        "colab": {
          "base_uri": "https://localhost:8080/"
        },
        "id": "Br9CYjCrLIWW",
        "outputId": "a7df946c-967c-44ba-cf70-1412262d0fc4"
      },
      "execution_count": 86,
      "outputs": [
        {
          "output_type": "stream",
          "name": "stdout",
          "text": [
            "<class 'pandas.core.frame.DataFrame'>\n",
            "RangeIndex: 271116 entries, 0 to 271115\n",
            "Data columns (total 15 columns):\n",
            " #   Column  Non-Null Count   Dtype  \n",
            "---  ------  --------------   -----  \n",
            " 0   ID      271116 non-null  int64  \n",
            " 1   Name    271116 non-null  object \n",
            " 2   Sex     271116 non-null  object \n",
            " 3   Age     261642 non-null  float64\n",
            " 4   Height  210945 non-null  float64\n",
            " 5   Weight  208241 non-null  float64\n",
            " 6   Team    271116 non-null  object \n",
            " 7   NOC     271116 non-null  object \n",
            " 8   Games   271116 non-null  object \n",
            " 9   Year    271116 non-null  int64  \n",
            " 10  Season  271116 non-null  object \n",
            " 11  City    271116 non-null  object \n",
            " 12  Sport   271116 non-null  object \n",
            " 13  Event   271116 non-null  object \n",
            " 14  Medal   39783 non-null   object \n",
            "dtypes: float64(3), int64(2), object(10)\n",
            "memory usage: 31.0+ MB\n"
          ]
        }
      ]
    },
    {
      "cell_type": "code",
      "source": [
        "regioes.head(5)"
      ],
      "metadata": {
        "colab": {
          "base_uri": "https://localhost:8080/",
          "height": 206
        },
        "id": "4aTsp6fULOSl",
        "outputId": "6b1836ac-1b62-42ec-c5f7-3f792acc4a21"
      },
      "execution_count": 87,
      "outputs": [
        {
          "output_type": "execute_result",
          "data": {
            "text/plain": [
              "   NOC       region                 notes\n",
              "0  AFG  Afghanistan                   NaN\n",
              "1  AHO      Curacao  Netherlands Antilles\n",
              "2  ALB      Albania                   NaN\n",
              "3  ALG      Algeria                   NaN\n",
              "4  AND      Andorra                   NaN"
            ],
            "text/html": [
              "\n",
              "  <div id=\"df-019904fa-25ad-434a-aacf-d91d93407bea\">\n",
              "    <div class=\"colab-df-container\">\n",
              "      <div>\n",
              "<style scoped>\n",
              "    .dataframe tbody tr th:only-of-type {\n",
              "        vertical-align: middle;\n",
              "    }\n",
              "\n",
              "    .dataframe tbody tr th {\n",
              "        vertical-align: top;\n",
              "    }\n",
              "\n",
              "    .dataframe thead th {\n",
              "        text-align: right;\n",
              "    }\n",
              "</style>\n",
              "<table border=\"1\" class=\"dataframe\">\n",
              "  <thead>\n",
              "    <tr style=\"text-align: right;\">\n",
              "      <th></th>\n",
              "      <th>NOC</th>\n",
              "      <th>region</th>\n",
              "      <th>notes</th>\n",
              "    </tr>\n",
              "  </thead>\n",
              "  <tbody>\n",
              "    <tr>\n",
              "      <th>0</th>\n",
              "      <td>AFG</td>\n",
              "      <td>Afghanistan</td>\n",
              "      <td>NaN</td>\n",
              "    </tr>\n",
              "    <tr>\n",
              "      <th>1</th>\n",
              "      <td>AHO</td>\n",
              "      <td>Curacao</td>\n",
              "      <td>Netherlands Antilles</td>\n",
              "    </tr>\n",
              "    <tr>\n",
              "      <th>2</th>\n",
              "      <td>ALB</td>\n",
              "      <td>Albania</td>\n",
              "      <td>NaN</td>\n",
              "    </tr>\n",
              "    <tr>\n",
              "      <th>3</th>\n",
              "      <td>ALG</td>\n",
              "      <td>Algeria</td>\n",
              "      <td>NaN</td>\n",
              "    </tr>\n",
              "    <tr>\n",
              "      <th>4</th>\n",
              "      <td>AND</td>\n",
              "      <td>Andorra</td>\n",
              "      <td>NaN</td>\n",
              "    </tr>\n",
              "  </tbody>\n",
              "</table>\n",
              "</div>\n",
              "      <button class=\"colab-df-convert\" onclick=\"convertToInteractive('df-019904fa-25ad-434a-aacf-d91d93407bea')\"\n",
              "              title=\"Convert this dataframe to an interactive table.\"\n",
              "              style=\"display:none;\">\n",
              "        \n",
              "  <svg xmlns=\"http://www.w3.org/2000/svg\" height=\"24px\"viewBox=\"0 0 24 24\"\n",
              "       width=\"24px\">\n",
              "    <path d=\"M0 0h24v24H0V0z\" fill=\"none\"/>\n",
              "    <path d=\"M18.56 5.44l.94 2.06.94-2.06 2.06-.94-2.06-.94-.94-2.06-.94 2.06-2.06.94zm-11 1L8.5 8.5l.94-2.06 2.06-.94-2.06-.94L8.5 2.5l-.94 2.06-2.06.94zm10 10l.94 2.06.94-2.06 2.06-.94-2.06-.94-.94-2.06-.94 2.06-2.06.94z\"/><path d=\"M17.41 7.96l-1.37-1.37c-.4-.4-.92-.59-1.43-.59-.52 0-1.04.2-1.43.59L10.3 9.45l-7.72 7.72c-.78.78-.78 2.05 0 2.83L4 21.41c.39.39.9.59 1.41.59.51 0 1.02-.2 1.41-.59l7.78-7.78 2.81-2.81c.8-.78.8-2.07 0-2.86zM5.41 20L4 18.59l7.72-7.72 1.47 1.35L5.41 20z\"/>\n",
              "  </svg>\n",
              "      </button>\n",
              "      \n",
              "  <style>\n",
              "    .colab-df-container {\n",
              "      display:flex;\n",
              "      flex-wrap:wrap;\n",
              "      gap: 12px;\n",
              "    }\n",
              "\n",
              "    .colab-df-convert {\n",
              "      background-color: #E8F0FE;\n",
              "      border: none;\n",
              "      border-radius: 50%;\n",
              "      cursor: pointer;\n",
              "      display: none;\n",
              "      fill: #1967D2;\n",
              "      height: 32px;\n",
              "      padding: 0 0 0 0;\n",
              "      width: 32px;\n",
              "    }\n",
              "\n",
              "    .colab-df-convert:hover {\n",
              "      background-color: #E2EBFA;\n",
              "      box-shadow: 0px 1px 2px rgba(60, 64, 67, 0.3), 0px 1px 3px 1px rgba(60, 64, 67, 0.15);\n",
              "      fill: #174EA6;\n",
              "    }\n",
              "\n",
              "    [theme=dark] .colab-df-convert {\n",
              "      background-color: #3B4455;\n",
              "      fill: #D2E3FC;\n",
              "    }\n",
              "\n",
              "    [theme=dark] .colab-df-convert:hover {\n",
              "      background-color: #434B5C;\n",
              "      box-shadow: 0px 1px 3px 1px rgba(0, 0, 0, 0.15);\n",
              "      filter: drop-shadow(0px 1px 2px rgba(0, 0, 0, 0.3));\n",
              "      fill: #FFFFFF;\n",
              "    }\n",
              "  </style>\n",
              "\n",
              "      <script>\n",
              "        const buttonEl =\n",
              "          document.querySelector('#df-019904fa-25ad-434a-aacf-d91d93407bea button.colab-df-convert');\n",
              "        buttonEl.style.display =\n",
              "          google.colab.kernel.accessAllowed ? 'block' : 'none';\n",
              "\n",
              "        async function convertToInteractive(key) {\n",
              "          const element = document.querySelector('#df-019904fa-25ad-434a-aacf-d91d93407bea');\n",
              "          const dataTable =\n",
              "            await google.colab.kernel.invokeFunction('convertToInteractive',\n",
              "                                                     [key], {});\n",
              "          if (!dataTable) return;\n",
              "\n",
              "          const docLinkHtml = 'Like what you see? Visit the ' +\n",
              "            '<a target=\"_blank\" href=https://colab.research.google.com/notebooks/data_table.ipynb>data table notebook</a>'\n",
              "            + ' to learn more about interactive tables.';\n",
              "          element.innerHTML = '';\n",
              "          dataTable['output_type'] = 'display_data';\n",
              "          await google.colab.output.renderOutput(dataTable, element);\n",
              "          const docLink = document.createElement('div');\n",
              "          docLink.innerHTML = docLinkHtml;\n",
              "          element.appendChild(docLink);\n",
              "        }\n",
              "      </script>\n",
              "    </div>\n",
              "  </div>\n",
              "  "
            ]
          },
          "metadata": {},
          "execution_count": 87
        }
      ]
    },
    {
      "cell_type": "markdown",
      "source": [
        "#**5. JUNTAR ARQUIVOS** "
      ],
      "metadata": {
        "id": "qE968gIzLx7V"
      }
    },
    {
      "cell_type": "markdown",
      "source": [
        "- Vamos juntar os arquivos utilizando como conexão a coluna NOC (iniciais paises).\n",
        "\n",
        "- Usaremos a função \"Merge\" da biblioteca Pandas\n"
      ],
      "metadata": {
        "id": "5jm2PQQ9mYq9"
      }
    },
    {
      "cell_type": "code",
      "source": [
        "tabelaAgrupada = pd.merge(dados, regioes, on='NOC', how='left')"
      ],
      "metadata": {
        "id": "a_XM2y8LMg8h"
      },
      "execution_count": 88,
      "outputs": []
    },
    {
      "cell_type": "code",
      "source": [
        "tabelaAgrupada.head()"
      ],
      "metadata": {
        "colab": {
          "base_uri": "https://localhost:8080/",
          "height": 441
        },
        "id": "25tRcqlfMsbH",
        "outputId": "026bb0e1-3ace-45b9-c17a-eedf4584f00b"
      },
      "execution_count": 89,
      "outputs": [
        {
          "output_type": "execute_result",
          "data": {
            "text/plain": [
              "   ID                      Name Sex   Age  Height  Weight            Team  \\\n",
              "0   1                 A Dijiang   M  24.0   180.0    80.0           China   \n",
              "1   2                  A Lamusi   M  23.0   170.0    60.0           China   \n",
              "2   3       Gunnar Nielsen Aaby   M  24.0     NaN     NaN         Denmark   \n",
              "3   4      Edgar Lindenau Aabye   M  34.0     NaN     NaN  Denmark/Sweden   \n",
              "4   5  Christine Jacoba Aaftink   F  21.0   185.0    82.0     Netherlands   \n",
              "\n",
              "   NOC        Games  Year  Season       City          Sport  \\\n",
              "0  CHN  1992 Summer  1992  Summer  Barcelona     Basketball   \n",
              "1  CHN  2012 Summer  2012  Summer     London           Judo   \n",
              "2  DEN  1920 Summer  1920  Summer  Antwerpen       Football   \n",
              "3  DEN  1900 Summer  1900  Summer      Paris     Tug-Of-War   \n",
              "4  NED  1988 Winter  1988  Winter    Calgary  Speed Skating   \n",
              "\n",
              "                              Event Medal       region notes  \n",
              "0       Basketball Men's Basketball   NaN        China   NaN  \n",
              "1      Judo Men's Extra-Lightweight   NaN        China   NaN  \n",
              "2           Football Men's Football   NaN      Denmark   NaN  \n",
              "3       Tug-Of-War Men's Tug-Of-War  Gold      Denmark   NaN  \n",
              "4  Speed Skating Women's 500 metres   NaN  Netherlands   NaN  "
            ],
            "text/html": [
              "\n",
              "  <div id=\"df-f7c23d94-83b9-4e46-b4f7-7f39f766339a\">\n",
              "    <div class=\"colab-df-container\">\n",
              "      <div>\n",
              "<style scoped>\n",
              "    .dataframe tbody tr th:only-of-type {\n",
              "        vertical-align: middle;\n",
              "    }\n",
              "\n",
              "    .dataframe tbody tr th {\n",
              "        vertical-align: top;\n",
              "    }\n",
              "\n",
              "    .dataframe thead th {\n",
              "        text-align: right;\n",
              "    }\n",
              "</style>\n",
              "<table border=\"1\" class=\"dataframe\">\n",
              "  <thead>\n",
              "    <tr style=\"text-align: right;\">\n",
              "      <th></th>\n",
              "      <th>ID</th>\n",
              "      <th>Name</th>\n",
              "      <th>Sex</th>\n",
              "      <th>Age</th>\n",
              "      <th>Height</th>\n",
              "      <th>Weight</th>\n",
              "      <th>Team</th>\n",
              "      <th>NOC</th>\n",
              "      <th>Games</th>\n",
              "      <th>Year</th>\n",
              "      <th>Season</th>\n",
              "      <th>City</th>\n",
              "      <th>Sport</th>\n",
              "      <th>Event</th>\n",
              "      <th>Medal</th>\n",
              "      <th>region</th>\n",
              "      <th>notes</th>\n",
              "    </tr>\n",
              "  </thead>\n",
              "  <tbody>\n",
              "    <tr>\n",
              "      <th>0</th>\n",
              "      <td>1</td>\n",
              "      <td>A Dijiang</td>\n",
              "      <td>M</td>\n",
              "      <td>24.0</td>\n",
              "      <td>180.0</td>\n",
              "      <td>80.0</td>\n",
              "      <td>China</td>\n",
              "      <td>CHN</td>\n",
              "      <td>1992 Summer</td>\n",
              "      <td>1992</td>\n",
              "      <td>Summer</td>\n",
              "      <td>Barcelona</td>\n",
              "      <td>Basketball</td>\n",
              "      <td>Basketball Men's Basketball</td>\n",
              "      <td>NaN</td>\n",
              "      <td>China</td>\n",
              "      <td>NaN</td>\n",
              "    </tr>\n",
              "    <tr>\n",
              "      <th>1</th>\n",
              "      <td>2</td>\n",
              "      <td>A Lamusi</td>\n",
              "      <td>M</td>\n",
              "      <td>23.0</td>\n",
              "      <td>170.0</td>\n",
              "      <td>60.0</td>\n",
              "      <td>China</td>\n",
              "      <td>CHN</td>\n",
              "      <td>2012 Summer</td>\n",
              "      <td>2012</td>\n",
              "      <td>Summer</td>\n",
              "      <td>London</td>\n",
              "      <td>Judo</td>\n",
              "      <td>Judo Men's Extra-Lightweight</td>\n",
              "      <td>NaN</td>\n",
              "      <td>China</td>\n",
              "      <td>NaN</td>\n",
              "    </tr>\n",
              "    <tr>\n",
              "      <th>2</th>\n",
              "      <td>3</td>\n",
              "      <td>Gunnar Nielsen Aaby</td>\n",
              "      <td>M</td>\n",
              "      <td>24.0</td>\n",
              "      <td>NaN</td>\n",
              "      <td>NaN</td>\n",
              "      <td>Denmark</td>\n",
              "      <td>DEN</td>\n",
              "      <td>1920 Summer</td>\n",
              "      <td>1920</td>\n",
              "      <td>Summer</td>\n",
              "      <td>Antwerpen</td>\n",
              "      <td>Football</td>\n",
              "      <td>Football Men's Football</td>\n",
              "      <td>NaN</td>\n",
              "      <td>Denmark</td>\n",
              "      <td>NaN</td>\n",
              "    </tr>\n",
              "    <tr>\n",
              "      <th>3</th>\n",
              "      <td>4</td>\n",
              "      <td>Edgar Lindenau Aabye</td>\n",
              "      <td>M</td>\n",
              "      <td>34.0</td>\n",
              "      <td>NaN</td>\n",
              "      <td>NaN</td>\n",
              "      <td>Denmark/Sweden</td>\n",
              "      <td>DEN</td>\n",
              "      <td>1900 Summer</td>\n",
              "      <td>1900</td>\n",
              "      <td>Summer</td>\n",
              "      <td>Paris</td>\n",
              "      <td>Tug-Of-War</td>\n",
              "      <td>Tug-Of-War Men's Tug-Of-War</td>\n",
              "      <td>Gold</td>\n",
              "      <td>Denmark</td>\n",
              "      <td>NaN</td>\n",
              "    </tr>\n",
              "    <tr>\n",
              "      <th>4</th>\n",
              "      <td>5</td>\n",
              "      <td>Christine Jacoba Aaftink</td>\n",
              "      <td>F</td>\n",
              "      <td>21.0</td>\n",
              "      <td>185.0</td>\n",
              "      <td>82.0</td>\n",
              "      <td>Netherlands</td>\n",
              "      <td>NED</td>\n",
              "      <td>1988 Winter</td>\n",
              "      <td>1988</td>\n",
              "      <td>Winter</td>\n",
              "      <td>Calgary</td>\n",
              "      <td>Speed Skating</td>\n",
              "      <td>Speed Skating Women's 500 metres</td>\n",
              "      <td>NaN</td>\n",
              "      <td>Netherlands</td>\n",
              "      <td>NaN</td>\n",
              "    </tr>\n",
              "  </tbody>\n",
              "</table>\n",
              "</div>\n",
              "      <button class=\"colab-df-convert\" onclick=\"convertToInteractive('df-f7c23d94-83b9-4e46-b4f7-7f39f766339a')\"\n",
              "              title=\"Convert this dataframe to an interactive table.\"\n",
              "              style=\"display:none;\">\n",
              "        \n",
              "  <svg xmlns=\"http://www.w3.org/2000/svg\" height=\"24px\"viewBox=\"0 0 24 24\"\n",
              "       width=\"24px\">\n",
              "    <path d=\"M0 0h24v24H0V0z\" fill=\"none\"/>\n",
              "    <path d=\"M18.56 5.44l.94 2.06.94-2.06 2.06-.94-2.06-.94-.94-2.06-.94 2.06-2.06.94zm-11 1L8.5 8.5l.94-2.06 2.06-.94-2.06-.94L8.5 2.5l-.94 2.06-2.06.94zm10 10l.94 2.06.94-2.06 2.06-.94-2.06-.94-.94-2.06-.94 2.06-2.06.94z\"/><path d=\"M17.41 7.96l-1.37-1.37c-.4-.4-.92-.59-1.43-.59-.52 0-1.04.2-1.43.59L10.3 9.45l-7.72 7.72c-.78.78-.78 2.05 0 2.83L4 21.41c.39.39.9.59 1.41.59.51 0 1.02-.2 1.41-.59l7.78-7.78 2.81-2.81c.8-.78.8-2.07 0-2.86zM5.41 20L4 18.59l7.72-7.72 1.47 1.35L5.41 20z\"/>\n",
              "  </svg>\n",
              "      </button>\n",
              "      \n",
              "  <style>\n",
              "    .colab-df-container {\n",
              "      display:flex;\n",
              "      flex-wrap:wrap;\n",
              "      gap: 12px;\n",
              "    }\n",
              "\n",
              "    .colab-df-convert {\n",
              "      background-color: #E8F0FE;\n",
              "      border: none;\n",
              "      border-radius: 50%;\n",
              "      cursor: pointer;\n",
              "      display: none;\n",
              "      fill: #1967D2;\n",
              "      height: 32px;\n",
              "      padding: 0 0 0 0;\n",
              "      width: 32px;\n",
              "    }\n",
              "\n",
              "    .colab-df-convert:hover {\n",
              "      background-color: #E2EBFA;\n",
              "      box-shadow: 0px 1px 2px rgba(60, 64, 67, 0.3), 0px 1px 3px 1px rgba(60, 64, 67, 0.15);\n",
              "      fill: #174EA6;\n",
              "    }\n",
              "\n",
              "    [theme=dark] .colab-df-convert {\n",
              "      background-color: #3B4455;\n",
              "      fill: #D2E3FC;\n",
              "    }\n",
              "\n",
              "    [theme=dark] .colab-df-convert:hover {\n",
              "      background-color: #434B5C;\n",
              "      box-shadow: 0px 1px 3px 1px rgba(0, 0, 0, 0.15);\n",
              "      filter: drop-shadow(0px 1px 2px rgba(0, 0, 0, 0.3));\n",
              "      fill: #FFFFFF;\n",
              "    }\n",
              "  </style>\n",
              "\n",
              "      <script>\n",
              "        const buttonEl =\n",
              "          document.querySelector('#df-f7c23d94-83b9-4e46-b4f7-7f39f766339a button.colab-df-convert');\n",
              "        buttonEl.style.display =\n",
              "          google.colab.kernel.accessAllowed ? 'block' : 'none';\n",
              "\n",
              "        async function convertToInteractive(key) {\n",
              "          const element = document.querySelector('#df-f7c23d94-83b9-4e46-b4f7-7f39f766339a');\n",
              "          const dataTable =\n",
              "            await google.colab.kernel.invokeFunction('convertToInteractive',\n",
              "                                                     [key], {});\n",
              "          if (!dataTable) return;\n",
              "\n",
              "          const docLinkHtml = 'Like what you see? Visit the ' +\n",
              "            '<a target=\"_blank\" href=https://colab.research.google.com/notebooks/data_table.ipynb>data table notebook</a>'\n",
              "            + ' to learn more about interactive tables.';\n",
              "          element.innerHTML = '';\n",
              "          dataTable['output_type'] = 'display_data';\n",
              "          await google.colab.output.renderOutput(dataTable, element);\n",
              "          const docLink = document.createElement('div');\n",
              "          docLink.innerHTML = docLinkHtml;\n",
              "          element.appendChild(docLink);\n",
              "        }\n",
              "      </script>\n",
              "    </div>\n",
              "  </div>\n",
              "  "
            ]
          },
          "metadata": {},
          "execution_count": 89
        }
      ]
    },
    {
      "cell_type": "code",
      "source": [
        ""
      ],
      "metadata": {
        "id": "amgvIFGiHtE1"
      },
      "execution_count": 89,
      "outputs": []
    },
    {
      "cell_type": "markdown",
      "source": [
        "# **6. OLÍMPIADAS DE VERÃO**"
      ],
      "metadata": {
        "id": "o7oxxcTQFna_"
      }
    },
    {
      "cell_type": "markdown",
      "source": [
        "\"A etapa moderna dos Jogos Olímpicos (ou seja, sua retomada, ocorrida desde 1896, na cidade de Atenas), se refere a um dos dois tipos existentes dessa competição. Os Jogos Olímpicos que costumamos acompanhar e para os quais enviamos atletas são, na verdade, os Jogos Olímpicos de Verão (embora ocorram no mês de julho, estação do inverno para os países do hemisfério sul). Há também os Jogos Olímpicos de Inverno, cuja participação brasileira ainda é bastante restrita, e cuja transmissão televisiva ocorreu apenas no ano de 2010, pela rede Record.\"\n",
        "\n",
        "RONDINELLI, Paula. \"Como são Escolhidas as Cidades-Sede dos Jogos Olímpicos?\"; Brasil Escola. Disponível em: https://brasilescola.uol.com.br/educacao-fisica/como-escolhida-cidadesede-dos-jogos-olimpicos.htm. Acesso em 09 de maio de 2022."
      ],
      "metadata": {
        "id": "FX9Q5FRNnUkm"
      }
    },
    {
      "cell_type": "markdown",
      "source": [
        "- Nosso dataset é composto por dados das olímpiadas de verão e inverno.\n",
        "- Para a intenção das análises aqui dispostas vamos utilizar apenas as versões de verão.\n",
        "- Portanto será necessário filtrar tais informações. "
      ],
      "metadata": {
        "id": "ob0yQR9iF2kk"
      }
    },
    {
      "cell_type": "code",
      "source": [
        "olimpiadasVerao = tabelaAgrupada[(tabelaAgrupada.Season == 'Summer')]\n",
        "olimpiadasVerao.head()"
      ],
      "metadata": {
        "id": "Bu4hCnKvEfOS",
        "colab": {
          "base_uri": "https://localhost:8080/",
          "height": 441
        },
        "outputId": "726cf0eb-9bef-40c4-9fdb-bc99bc85b97b"
      },
      "execution_count": 90,
      "outputs": [
        {
          "output_type": "execute_result",
          "data": {
            "text/plain": [
              "    ID                                Name Sex   Age  Height  Weight  \\\n",
              "0    1                           A Dijiang   M  24.0   180.0    80.0   \n",
              "1    2                            A Lamusi   M  23.0   170.0    60.0   \n",
              "2    3                 Gunnar Nielsen Aaby   M  24.0     NaN     NaN   \n",
              "3    4                Edgar Lindenau Aabye   M  34.0     NaN     NaN   \n",
              "26   8  Cornelia \"Cor\" Aalten (-Strannood)   F  18.0   168.0     NaN   \n",
              "\n",
              "              Team  NOC        Games  Year  Season         City       Sport  \\\n",
              "0            China  CHN  1992 Summer  1992  Summer    Barcelona  Basketball   \n",
              "1            China  CHN  2012 Summer  2012  Summer       London        Judo   \n",
              "2          Denmark  DEN  1920 Summer  1920  Summer    Antwerpen    Football   \n",
              "3   Denmark/Sweden  DEN  1900 Summer  1900  Summer        Paris  Tug-Of-War   \n",
              "26     Netherlands  NED  1932 Summer  1932  Summer  Los Angeles   Athletics   \n",
              "\n",
              "                           Event Medal       region notes  \n",
              "0    Basketball Men's Basketball   NaN        China   NaN  \n",
              "1   Judo Men's Extra-Lightweight   NaN        China   NaN  \n",
              "2        Football Men's Football   NaN      Denmark   NaN  \n",
              "3    Tug-Of-War Men's Tug-Of-War  Gold      Denmark   NaN  \n",
              "26  Athletics Women's 100 metres   NaN  Netherlands   NaN  "
            ],
            "text/html": [
              "\n",
              "  <div id=\"df-96731ddc-bad7-41cc-855b-b323fde4de25\">\n",
              "    <div class=\"colab-df-container\">\n",
              "      <div>\n",
              "<style scoped>\n",
              "    .dataframe tbody tr th:only-of-type {\n",
              "        vertical-align: middle;\n",
              "    }\n",
              "\n",
              "    .dataframe tbody tr th {\n",
              "        vertical-align: top;\n",
              "    }\n",
              "\n",
              "    .dataframe thead th {\n",
              "        text-align: right;\n",
              "    }\n",
              "</style>\n",
              "<table border=\"1\" class=\"dataframe\">\n",
              "  <thead>\n",
              "    <tr style=\"text-align: right;\">\n",
              "      <th></th>\n",
              "      <th>ID</th>\n",
              "      <th>Name</th>\n",
              "      <th>Sex</th>\n",
              "      <th>Age</th>\n",
              "      <th>Height</th>\n",
              "      <th>Weight</th>\n",
              "      <th>Team</th>\n",
              "      <th>NOC</th>\n",
              "      <th>Games</th>\n",
              "      <th>Year</th>\n",
              "      <th>Season</th>\n",
              "      <th>City</th>\n",
              "      <th>Sport</th>\n",
              "      <th>Event</th>\n",
              "      <th>Medal</th>\n",
              "      <th>region</th>\n",
              "      <th>notes</th>\n",
              "    </tr>\n",
              "  </thead>\n",
              "  <tbody>\n",
              "    <tr>\n",
              "      <th>0</th>\n",
              "      <td>1</td>\n",
              "      <td>A Dijiang</td>\n",
              "      <td>M</td>\n",
              "      <td>24.0</td>\n",
              "      <td>180.0</td>\n",
              "      <td>80.0</td>\n",
              "      <td>China</td>\n",
              "      <td>CHN</td>\n",
              "      <td>1992 Summer</td>\n",
              "      <td>1992</td>\n",
              "      <td>Summer</td>\n",
              "      <td>Barcelona</td>\n",
              "      <td>Basketball</td>\n",
              "      <td>Basketball Men's Basketball</td>\n",
              "      <td>NaN</td>\n",
              "      <td>China</td>\n",
              "      <td>NaN</td>\n",
              "    </tr>\n",
              "    <tr>\n",
              "      <th>1</th>\n",
              "      <td>2</td>\n",
              "      <td>A Lamusi</td>\n",
              "      <td>M</td>\n",
              "      <td>23.0</td>\n",
              "      <td>170.0</td>\n",
              "      <td>60.0</td>\n",
              "      <td>China</td>\n",
              "      <td>CHN</td>\n",
              "      <td>2012 Summer</td>\n",
              "      <td>2012</td>\n",
              "      <td>Summer</td>\n",
              "      <td>London</td>\n",
              "      <td>Judo</td>\n",
              "      <td>Judo Men's Extra-Lightweight</td>\n",
              "      <td>NaN</td>\n",
              "      <td>China</td>\n",
              "      <td>NaN</td>\n",
              "    </tr>\n",
              "    <tr>\n",
              "      <th>2</th>\n",
              "      <td>3</td>\n",
              "      <td>Gunnar Nielsen Aaby</td>\n",
              "      <td>M</td>\n",
              "      <td>24.0</td>\n",
              "      <td>NaN</td>\n",
              "      <td>NaN</td>\n",
              "      <td>Denmark</td>\n",
              "      <td>DEN</td>\n",
              "      <td>1920 Summer</td>\n",
              "      <td>1920</td>\n",
              "      <td>Summer</td>\n",
              "      <td>Antwerpen</td>\n",
              "      <td>Football</td>\n",
              "      <td>Football Men's Football</td>\n",
              "      <td>NaN</td>\n",
              "      <td>Denmark</td>\n",
              "      <td>NaN</td>\n",
              "    </tr>\n",
              "    <tr>\n",
              "      <th>3</th>\n",
              "      <td>4</td>\n",
              "      <td>Edgar Lindenau Aabye</td>\n",
              "      <td>M</td>\n",
              "      <td>34.0</td>\n",
              "      <td>NaN</td>\n",
              "      <td>NaN</td>\n",
              "      <td>Denmark/Sweden</td>\n",
              "      <td>DEN</td>\n",
              "      <td>1900 Summer</td>\n",
              "      <td>1900</td>\n",
              "      <td>Summer</td>\n",
              "      <td>Paris</td>\n",
              "      <td>Tug-Of-War</td>\n",
              "      <td>Tug-Of-War Men's Tug-Of-War</td>\n",
              "      <td>Gold</td>\n",
              "      <td>Denmark</td>\n",
              "      <td>NaN</td>\n",
              "    </tr>\n",
              "    <tr>\n",
              "      <th>26</th>\n",
              "      <td>8</td>\n",
              "      <td>Cornelia \"Cor\" Aalten (-Strannood)</td>\n",
              "      <td>F</td>\n",
              "      <td>18.0</td>\n",
              "      <td>168.0</td>\n",
              "      <td>NaN</td>\n",
              "      <td>Netherlands</td>\n",
              "      <td>NED</td>\n",
              "      <td>1932 Summer</td>\n",
              "      <td>1932</td>\n",
              "      <td>Summer</td>\n",
              "      <td>Los Angeles</td>\n",
              "      <td>Athletics</td>\n",
              "      <td>Athletics Women's 100 metres</td>\n",
              "      <td>NaN</td>\n",
              "      <td>Netherlands</td>\n",
              "      <td>NaN</td>\n",
              "    </tr>\n",
              "  </tbody>\n",
              "</table>\n",
              "</div>\n",
              "      <button class=\"colab-df-convert\" onclick=\"convertToInteractive('df-96731ddc-bad7-41cc-855b-b323fde4de25')\"\n",
              "              title=\"Convert this dataframe to an interactive table.\"\n",
              "              style=\"display:none;\">\n",
              "        \n",
              "  <svg xmlns=\"http://www.w3.org/2000/svg\" height=\"24px\"viewBox=\"0 0 24 24\"\n",
              "       width=\"24px\">\n",
              "    <path d=\"M0 0h24v24H0V0z\" fill=\"none\"/>\n",
              "    <path d=\"M18.56 5.44l.94 2.06.94-2.06 2.06-.94-2.06-.94-.94-2.06-.94 2.06-2.06.94zm-11 1L8.5 8.5l.94-2.06 2.06-.94-2.06-.94L8.5 2.5l-.94 2.06-2.06.94zm10 10l.94 2.06.94-2.06 2.06-.94-2.06-.94-.94-2.06-.94 2.06-2.06.94z\"/><path d=\"M17.41 7.96l-1.37-1.37c-.4-.4-.92-.59-1.43-.59-.52 0-1.04.2-1.43.59L10.3 9.45l-7.72 7.72c-.78.78-.78 2.05 0 2.83L4 21.41c.39.39.9.59 1.41.59.51 0 1.02-.2 1.41-.59l7.78-7.78 2.81-2.81c.8-.78.8-2.07 0-2.86zM5.41 20L4 18.59l7.72-7.72 1.47 1.35L5.41 20z\"/>\n",
              "  </svg>\n",
              "      </button>\n",
              "      \n",
              "  <style>\n",
              "    .colab-df-container {\n",
              "      display:flex;\n",
              "      flex-wrap:wrap;\n",
              "      gap: 12px;\n",
              "    }\n",
              "\n",
              "    .colab-df-convert {\n",
              "      background-color: #E8F0FE;\n",
              "      border: none;\n",
              "      border-radius: 50%;\n",
              "      cursor: pointer;\n",
              "      display: none;\n",
              "      fill: #1967D2;\n",
              "      height: 32px;\n",
              "      padding: 0 0 0 0;\n",
              "      width: 32px;\n",
              "    }\n",
              "\n",
              "    .colab-df-convert:hover {\n",
              "      background-color: #E2EBFA;\n",
              "      box-shadow: 0px 1px 2px rgba(60, 64, 67, 0.3), 0px 1px 3px 1px rgba(60, 64, 67, 0.15);\n",
              "      fill: #174EA6;\n",
              "    }\n",
              "\n",
              "    [theme=dark] .colab-df-convert {\n",
              "      background-color: #3B4455;\n",
              "      fill: #D2E3FC;\n",
              "    }\n",
              "\n",
              "    [theme=dark] .colab-df-convert:hover {\n",
              "      background-color: #434B5C;\n",
              "      box-shadow: 0px 1px 3px 1px rgba(0, 0, 0, 0.15);\n",
              "      filter: drop-shadow(0px 1px 2px rgba(0, 0, 0, 0.3));\n",
              "      fill: #FFFFFF;\n",
              "    }\n",
              "  </style>\n",
              "\n",
              "      <script>\n",
              "        const buttonEl =\n",
              "          document.querySelector('#df-96731ddc-bad7-41cc-855b-b323fde4de25 button.colab-df-convert');\n",
              "        buttonEl.style.display =\n",
              "          google.colab.kernel.accessAllowed ? 'block' : 'none';\n",
              "\n",
              "        async function convertToInteractive(key) {\n",
              "          const element = document.querySelector('#df-96731ddc-bad7-41cc-855b-b323fde4de25');\n",
              "          const dataTable =\n",
              "            await google.colab.kernel.invokeFunction('convertToInteractive',\n",
              "                                                     [key], {});\n",
              "          if (!dataTable) return;\n",
              "\n",
              "          const docLinkHtml = 'Like what you see? Visit the ' +\n",
              "            '<a target=\"_blank\" href=https://colab.research.google.com/notebooks/data_table.ipynb>data table notebook</a>'\n",
              "            + ' to learn more about interactive tables.';\n",
              "          element.innerHTML = '';\n",
              "          dataTable['output_type'] = 'display_data';\n",
              "          await google.colab.output.renderOutput(dataTable, element);\n",
              "          const docLink = document.createElement('div');\n",
              "          docLink.innerHTML = docLinkHtml;\n",
              "          element.appendChild(docLink);\n",
              "        }\n",
              "      </script>\n",
              "    </div>\n",
              "  </div>\n",
              "  "
            ]
          },
          "metadata": {},
          "execution_count": 90
        }
      ]
    },
    {
      "cell_type": "markdown",
      "source": [
        "# **7. MARATONA**"
      ],
      "metadata": {
        "id": "-asf6BIjIR1-"
      }
    },
    {
      "cell_type": "markdown",
      "source": [
        "- Por ter como hobbie a corrida e por já ter participado de Maratonas,  decidi fazer algumas análises para entender as caracteristicas que os campeões olímpicos dessa modalidade esportiva apresentam."
      ],
      "metadata": {
        "id": "zNSjl2owH27l"
      }
    },
    {
      "cell_type": "markdown",
      "source": [
        "## ***7.1 Caracteristicas dos atletas campeões olimpicos da maratona do gênero masculino.***"
      ],
      "metadata": {
        "id": "tZxCjn4RJbdb"
      }
    },
    {
      "cell_type": "markdown",
      "source": [
        "\n",
        "Vamos iniciar criando um dataframe, dividindo a população do nosso conjunto de dados pelos atletas campeões olimpicos do sexo masculino praticantes da modalidade esportiva maratona."
      ],
      "metadata": {
        "id": "y8_LVMcdJwny"
      }
    },
    {
      "cell_type": "code",
      "source": [
        "maratonaMasculino = olimpiadasVerao[(olimpiadasVerao.Sex == 'M') & (olimpiadasVerao.Event == \"Athletics Men's Marathon\") & (olimpiadasVerao.Medal == 'Gold')]"
      ],
      "metadata": {
        "id": "_QTpVuPrKHu8"
      },
      "execution_count": 91,
      "outputs": []
    },
    {
      "cell_type": "code",
      "source": [
        "maratonaMasculino.head(5)"
      ],
      "metadata": {
        "colab": {
          "base_uri": "https://localhost:8080/",
          "height": 337
        },
        "id": "TFFzAG9rLSzs",
        "outputId": "e4ebf184-ae2a-4b9e-fae1-7c0532708959"
      },
      "execution_count": 92,
      "outputs": [
        {
          "output_type": "execute_result",
          "data": {
            "text/plain": [
              "          ID             Name Sex   Age  Height  Weight      Team  NOC  \\\n",
              "720      411   Gezahgne Abera   M  22.0   166.0    58.0  Ethiopia  ETH   \n",
              "13302   7219  Stefano Baldini   M  33.0   176.0    62.0     Italy  ITA   \n",
              "21706  11467     Abebe Bikila   M  28.0   177.0    57.0  Ethiopia  ETH   \n",
              "21707  11467     Abebe Bikila   M  32.0   177.0    57.0  Ethiopia  ETH   \n",
              "25706  13428   Gelindo Bordin   M  29.0   180.0    68.0     Italy  ITA   \n",
              "\n",
              "             Games  Year  Season    City      Sport                     Event  \\\n",
              "720    2000 Summer  2000  Summer  Sydney  Athletics  Athletics Men's Marathon   \n",
              "13302  2004 Summer  2004  Summer  Athina  Athletics  Athletics Men's Marathon   \n",
              "21706  1960 Summer  1960  Summer    Roma  Athletics  Athletics Men's Marathon   \n",
              "21707  1964 Summer  1964  Summer   Tokyo  Athletics  Athletics Men's Marathon   \n",
              "25706  1988 Summer  1988  Summer   Seoul  Athletics  Athletics Men's Marathon   \n",
              "\n",
              "      Medal    region notes  \n",
              "720    Gold  Ethiopia   NaN  \n",
              "13302  Gold     Italy   NaN  \n",
              "21706  Gold  Ethiopia   NaN  \n",
              "21707  Gold  Ethiopia   NaN  \n",
              "25706  Gold     Italy   NaN  "
            ],
            "text/html": [
              "\n",
              "  <div id=\"df-b0218735-94e1-4fcc-9217-ba1b6660c4ee\">\n",
              "    <div class=\"colab-df-container\">\n",
              "      <div>\n",
              "<style scoped>\n",
              "    .dataframe tbody tr th:only-of-type {\n",
              "        vertical-align: middle;\n",
              "    }\n",
              "\n",
              "    .dataframe tbody tr th {\n",
              "        vertical-align: top;\n",
              "    }\n",
              "\n",
              "    .dataframe thead th {\n",
              "        text-align: right;\n",
              "    }\n",
              "</style>\n",
              "<table border=\"1\" class=\"dataframe\">\n",
              "  <thead>\n",
              "    <tr style=\"text-align: right;\">\n",
              "      <th></th>\n",
              "      <th>ID</th>\n",
              "      <th>Name</th>\n",
              "      <th>Sex</th>\n",
              "      <th>Age</th>\n",
              "      <th>Height</th>\n",
              "      <th>Weight</th>\n",
              "      <th>Team</th>\n",
              "      <th>NOC</th>\n",
              "      <th>Games</th>\n",
              "      <th>Year</th>\n",
              "      <th>Season</th>\n",
              "      <th>City</th>\n",
              "      <th>Sport</th>\n",
              "      <th>Event</th>\n",
              "      <th>Medal</th>\n",
              "      <th>region</th>\n",
              "      <th>notes</th>\n",
              "    </tr>\n",
              "  </thead>\n",
              "  <tbody>\n",
              "    <tr>\n",
              "      <th>720</th>\n",
              "      <td>411</td>\n",
              "      <td>Gezahgne Abera</td>\n",
              "      <td>M</td>\n",
              "      <td>22.0</td>\n",
              "      <td>166.0</td>\n",
              "      <td>58.0</td>\n",
              "      <td>Ethiopia</td>\n",
              "      <td>ETH</td>\n",
              "      <td>2000 Summer</td>\n",
              "      <td>2000</td>\n",
              "      <td>Summer</td>\n",
              "      <td>Sydney</td>\n",
              "      <td>Athletics</td>\n",
              "      <td>Athletics Men's Marathon</td>\n",
              "      <td>Gold</td>\n",
              "      <td>Ethiopia</td>\n",
              "      <td>NaN</td>\n",
              "    </tr>\n",
              "    <tr>\n",
              "      <th>13302</th>\n",
              "      <td>7219</td>\n",
              "      <td>Stefano Baldini</td>\n",
              "      <td>M</td>\n",
              "      <td>33.0</td>\n",
              "      <td>176.0</td>\n",
              "      <td>62.0</td>\n",
              "      <td>Italy</td>\n",
              "      <td>ITA</td>\n",
              "      <td>2004 Summer</td>\n",
              "      <td>2004</td>\n",
              "      <td>Summer</td>\n",
              "      <td>Athina</td>\n",
              "      <td>Athletics</td>\n",
              "      <td>Athletics Men's Marathon</td>\n",
              "      <td>Gold</td>\n",
              "      <td>Italy</td>\n",
              "      <td>NaN</td>\n",
              "    </tr>\n",
              "    <tr>\n",
              "      <th>21706</th>\n",
              "      <td>11467</td>\n",
              "      <td>Abebe Bikila</td>\n",
              "      <td>M</td>\n",
              "      <td>28.0</td>\n",
              "      <td>177.0</td>\n",
              "      <td>57.0</td>\n",
              "      <td>Ethiopia</td>\n",
              "      <td>ETH</td>\n",
              "      <td>1960 Summer</td>\n",
              "      <td>1960</td>\n",
              "      <td>Summer</td>\n",
              "      <td>Roma</td>\n",
              "      <td>Athletics</td>\n",
              "      <td>Athletics Men's Marathon</td>\n",
              "      <td>Gold</td>\n",
              "      <td>Ethiopia</td>\n",
              "      <td>NaN</td>\n",
              "    </tr>\n",
              "    <tr>\n",
              "      <th>21707</th>\n",
              "      <td>11467</td>\n",
              "      <td>Abebe Bikila</td>\n",
              "      <td>M</td>\n",
              "      <td>32.0</td>\n",
              "      <td>177.0</td>\n",
              "      <td>57.0</td>\n",
              "      <td>Ethiopia</td>\n",
              "      <td>ETH</td>\n",
              "      <td>1964 Summer</td>\n",
              "      <td>1964</td>\n",
              "      <td>Summer</td>\n",
              "      <td>Tokyo</td>\n",
              "      <td>Athletics</td>\n",
              "      <td>Athletics Men's Marathon</td>\n",
              "      <td>Gold</td>\n",
              "      <td>Ethiopia</td>\n",
              "      <td>NaN</td>\n",
              "    </tr>\n",
              "    <tr>\n",
              "      <th>25706</th>\n",
              "      <td>13428</td>\n",
              "      <td>Gelindo Bordin</td>\n",
              "      <td>M</td>\n",
              "      <td>29.0</td>\n",
              "      <td>180.0</td>\n",
              "      <td>68.0</td>\n",
              "      <td>Italy</td>\n",
              "      <td>ITA</td>\n",
              "      <td>1988 Summer</td>\n",
              "      <td>1988</td>\n",
              "      <td>Summer</td>\n",
              "      <td>Seoul</td>\n",
              "      <td>Athletics</td>\n",
              "      <td>Athletics Men's Marathon</td>\n",
              "      <td>Gold</td>\n",
              "      <td>Italy</td>\n",
              "      <td>NaN</td>\n",
              "    </tr>\n",
              "  </tbody>\n",
              "</table>\n",
              "</div>\n",
              "      <button class=\"colab-df-convert\" onclick=\"convertToInteractive('df-b0218735-94e1-4fcc-9217-ba1b6660c4ee')\"\n",
              "              title=\"Convert this dataframe to an interactive table.\"\n",
              "              style=\"display:none;\">\n",
              "        \n",
              "  <svg xmlns=\"http://www.w3.org/2000/svg\" height=\"24px\"viewBox=\"0 0 24 24\"\n",
              "       width=\"24px\">\n",
              "    <path d=\"M0 0h24v24H0V0z\" fill=\"none\"/>\n",
              "    <path d=\"M18.56 5.44l.94 2.06.94-2.06 2.06-.94-2.06-.94-.94-2.06-.94 2.06-2.06.94zm-11 1L8.5 8.5l.94-2.06 2.06-.94-2.06-.94L8.5 2.5l-.94 2.06-2.06.94zm10 10l.94 2.06.94-2.06 2.06-.94-2.06-.94-.94-2.06-.94 2.06-2.06.94z\"/><path d=\"M17.41 7.96l-1.37-1.37c-.4-.4-.92-.59-1.43-.59-.52 0-1.04.2-1.43.59L10.3 9.45l-7.72 7.72c-.78.78-.78 2.05 0 2.83L4 21.41c.39.39.9.59 1.41.59.51 0 1.02-.2 1.41-.59l7.78-7.78 2.81-2.81c.8-.78.8-2.07 0-2.86zM5.41 20L4 18.59l7.72-7.72 1.47 1.35L5.41 20z\"/>\n",
              "  </svg>\n",
              "      </button>\n",
              "      \n",
              "  <style>\n",
              "    .colab-df-container {\n",
              "      display:flex;\n",
              "      flex-wrap:wrap;\n",
              "      gap: 12px;\n",
              "    }\n",
              "\n",
              "    .colab-df-convert {\n",
              "      background-color: #E8F0FE;\n",
              "      border: none;\n",
              "      border-radius: 50%;\n",
              "      cursor: pointer;\n",
              "      display: none;\n",
              "      fill: #1967D2;\n",
              "      height: 32px;\n",
              "      padding: 0 0 0 0;\n",
              "      width: 32px;\n",
              "    }\n",
              "\n",
              "    .colab-df-convert:hover {\n",
              "      background-color: #E2EBFA;\n",
              "      box-shadow: 0px 1px 2px rgba(60, 64, 67, 0.3), 0px 1px 3px 1px rgba(60, 64, 67, 0.15);\n",
              "      fill: #174EA6;\n",
              "    }\n",
              "\n",
              "    [theme=dark] .colab-df-convert {\n",
              "      background-color: #3B4455;\n",
              "      fill: #D2E3FC;\n",
              "    }\n",
              "\n",
              "    [theme=dark] .colab-df-convert:hover {\n",
              "      background-color: #434B5C;\n",
              "      box-shadow: 0px 1px 3px 1px rgba(0, 0, 0, 0.15);\n",
              "      filter: drop-shadow(0px 1px 2px rgba(0, 0, 0, 0.3));\n",
              "      fill: #FFFFFF;\n",
              "    }\n",
              "  </style>\n",
              "\n",
              "      <script>\n",
              "        const buttonEl =\n",
              "          document.querySelector('#df-b0218735-94e1-4fcc-9217-ba1b6660c4ee button.colab-df-convert');\n",
              "        buttonEl.style.display =\n",
              "          google.colab.kernel.accessAllowed ? 'block' : 'none';\n",
              "\n",
              "        async function convertToInteractive(key) {\n",
              "          const element = document.querySelector('#df-b0218735-94e1-4fcc-9217-ba1b6660c4ee');\n",
              "          const dataTable =\n",
              "            await google.colab.kernel.invokeFunction('convertToInteractive',\n",
              "                                                     [key], {});\n",
              "          if (!dataTable) return;\n",
              "\n",
              "          const docLinkHtml = 'Like what you see? Visit the ' +\n",
              "            '<a target=\"_blank\" href=https://colab.research.google.com/notebooks/data_table.ipynb>data table notebook</a>'\n",
              "            + ' to learn more about interactive tables.';\n",
              "          element.innerHTML = '';\n",
              "          dataTable['output_type'] = 'display_data';\n",
              "          await google.colab.output.renderOutput(dataTable, element);\n",
              "          const docLink = document.createElement('div');\n",
              "          docLink.innerHTML = docLinkHtml;\n",
              "          element.appendChild(docLink);\n",
              "        }\n",
              "      </script>\n",
              "    </div>\n",
              "  </div>\n",
              "  "
            ]
          },
          "metadata": {},
          "execution_count": 92
        }
      ]
    },
    {
      "cell_type": "code",
      "source": [
        ""
      ],
      "metadata": {
        "id": "NwkP7qLgix4M"
      },
      "execution_count": 92,
      "outputs": []
    },
    {
      "cell_type": "markdown",
      "source": [
        "### *7.1.1 Distribuição de medalhas de ouro/características*"
      ],
      "metadata": {
        "id": "UfydOq1dMdDs"
      }
    },
    {
      "cell_type": "markdown",
      "source": [
        "- Distribuição de medalhas de ouro/idade\n",
        "- Distribuição de medalhas de ouro/altura\n",
        "- Distribuição de medalhas de ouro/peso\n",
        "- Distribuição de medalhas de ouro/país\n"
      ],
      "metadata": {
        "id": "9Ft2nr9OihY5"
      }
    },
    {
      "cell_type": "markdown",
      "source": [
        "- Para fazer esse tipo de análise é necessário verificar se existem valores nulos nas colunas: \n",
        "    - idade (Age)\n",
        "    - altura (Height)\n",
        "    - peso (Weight)\n",
        "    - país (region)\n",
        "\n",
        "- Havendo valores nulos deverão ser eliminados do grupo."
      ],
      "metadata": {
        "id": "0GeWM96ANWdn"
      }
    },
    {
      "cell_type": "code",
      "source": [
        "maratonaMasculino.isnull().any()"
      ],
      "metadata": {
        "colab": {
          "base_uri": "https://localhost:8080/"
        },
        "id": "x1_LxXs2N9Bu",
        "outputId": "9af6d140-5e8e-498c-f0d1-08525418e3f7"
      },
      "execution_count": 93,
      "outputs": [
        {
          "output_type": "execute_result",
          "data": {
            "text/plain": [
              "ID        False\n",
              "Name      False\n",
              "Sex       False\n",
              "Age       False\n",
              "Height     True\n",
              "Weight     True\n",
              "Team      False\n",
              "NOC       False\n",
              "Games     False\n",
              "Year      False\n",
              "Season    False\n",
              "City      False\n",
              "Sport     False\n",
              "Event     False\n",
              "Medal     False\n",
              "region    False\n",
              "notes      True\n",
              "dtype: bool"
            ]
          },
          "metadata": {},
          "execution_count": 93
        }
      ]
    },
    {
      "cell_type": "code",
      "source": [
        "maratonaMasculino = maratonaMasculino[np.isfinite(maratonaMasculino['Height'])]"
      ],
      "metadata": {
        "id": "b8YgPzCgjUEf"
      },
      "execution_count": 94,
      "outputs": []
    },
    {
      "cell_type": "code",
      "source": [
        "maratonaMasculino = maratonaMasculino[np.isfinite(maratonaMasculino['Weight'])]"
      ],
      "metadata": {
        "id": "Id9EHTsZjgKt"
      },
      "execution_count": 95,
      "outputs": []
    },
    {
      "cell_type": "markdown",
      "source": [
        "####7.1.1.1. Distribuição de Medalhas de Ouro/Idade"
      ],
      "metadata": {
        "id": "lT8j78mbkLTo"
      }
    },
    {
      "cell_type": "markdown",
      "source": [
        "- Vamos plotar um gráfico considerando a idade (anos) e e quantidade de medalhas de ouro obtidas."
      ],
      "metadata": {
        "id": "8AiN5g-lwjA1"
      }
    },
    {
      "cell_type": "code",
      "source": [
        "sns.countplot(data=maratonaMasculino, x='Age', hue='Medal');\n",
        "plt.xticks(rotation=70) \n",
        "plt.tight_layout()\n",
        "plt.title('Distribuição de Medalhas de Ouro/ Idade')"
      ],
      "metadata": {
        "colab": {
          "base_uri": "https://localhost:8080/",
          "height": 326
        },
        "id": "SMaQlUHwJW4P",
        "outputId": "ed3d4d9f-6989-4d68-cc7e-c13cdb278f89"
      },
      "execution_count": 253,
      "outputs": [
        {
          "output_type": "execute_result",
          "data": {
            "text/plain": [
              "Text(0.5, 1.0, 'Distribuição de Medalhas de Ouro/ Idade')"
            ]
          },
          "metadata": {},
          "execution_count": 253
        },
        {
          "output_type": "display_data",
          "data": {
            "text/plain": [
              "<Figure size 432x288 with 1 Axes>"
            ],
            "image/png": "[encoded data removed]"
          },
          "metadata": {}
        }
      ]
    },
    {
      "cell_type": "markdown",
      "source": [
        "####7.1.1.2. Distribuição de medalhas de Ouro/Altura"
      ],
      "metadata": {
        "id": "Pda7_l_4lLVK"
      }
    },
    {
      "cell_type": "markdown",
      "source": [
        "- Plotagem de gráfico com distribuição das medalhas de ouro por altura (cm) do atleta campeão da ocasião."
      ],
      "metadata": {
        "id": "q03Ni3JDyJgb"
      }
    },
    {
      "cell_type": "code",
      "source": [
        "plt.figure(figsize=(13, 4))\n",
        "plt.tight_layout()\n",
        "sns.histplot(x=maratonaMasculino['Height'])\n",
        "plt.title('Distribuição de Medalhas de Ouro por Altura(cm) dos Atletas')"
      ],
      "metadata": {
        "colab": {
          "base_uri": "https://localhost:8080/",
          "height": 318
        },
        "outputId": "599a2b2f-36f6-465a-96c9-e250cbc8447f",
        "id": "eZS8F4xnlLVK"
      },
      "execution_count": 254,
      "outputs": [
        {
          "output_type": "execute_result",
          "data": {
            "text/plain": [
              "Text(0.5, 1.0, 'Distribuição de Medalhas de Ouro por Altura(cm) dos Atletas')"
            ]
          },
          "metadata": {},
          "execution_count": 254
        },
        {
          "output_type": "display_data",
          "data": {
            "text/plain": [
              "<Figure size 936x288 with 1 Axes>"
            ],
            "image/png": "[encoded data removed]"
          },
          "metadata": {}
        }
      ]
    },
    {
      "cell_type": "code",
      "source": [
        "plt.figure(figsize=(13, 4))\n",
        "ax = sns.scatterplot(x=\"Year\", y=\"Height\", data=maratonaMasculino)\n",
        "plt.title('Edição x Altura (cm) dos Atletas')"
      ],
      "metadata": {
        "colab": {
          "base_uri": "https://localhost:8080/",
          "height": 318
        },
        "id": "fpUzizyF6evS",
        "outputId": "5c0f2d64-65a6-4c25-f186-53af6e66039c"
      },
      "execution_count": 255,
      "outputs": [
        {
          "output_type": "execute_result",
          "data": {
            "text/plain": [
              "Text(0.5, 1.0, 'Edição x Altura (cm) dos Atletas')"
            ]
          },
          "metadata": {},
          "execution_count": 255
        },
        {
          "output_type": "display_data",
          "data": {
            "text/plain": [
              "<Figure size 936x288 with 1 Axes>"
            ],
            "image/png": "[encoded data removed]"
          },
          "metadata": {}
        }
      ]
    },
    {
      "cell_type": "markdown",
      "source": [
        "- A grande maioria das amostras apresentam uma tendência de altura (1,70) entre os atletas com alguns pontos fora desta curva."
      ],
      "metadata": {
        "id": "NZ6-B_MpAf_o"
      }
    },
    {
      "cell_type": "markdown",
      "source": [
        "####7.1.1.3. Distribuição de Medalhas de Ouro/Peso (kg)"
      ],
      "metadata": {
        "id": "S0xrJ39Ylh9J"
      }
    },
    {
      "cell_type": "markdown",
      "source": [
        " - Vamos criar um gráfico do tipo distplot com o intuido de o mesmo nos mostrar visualmente a combinação de um histograma com a linha do KDE, ou seja, a visualização da quantidade de atletas através de barras divididas nos intervalos por peso(kg), e densidade desses dados, calculando a probabilidade de se ter um ponto naquele local do gráfico."
      ],
      "metadata": {
        "id": "agM0j3tYzYGk"
      }
    },
    {
      "cell_type": "code",
      "source": [
        "h=sns.distplot(maratonaMasculino['Weight'].dropna(),color='Yellow')\n",
        "h.set_title('Distribuição de Altura dos Atletas',fontsize=16,fontweight=200)"
      ],
      "metadata": {
        "colab": {
          "base_uri": "https://localhost:8080/",
          "height": 375
        },
        "id": "mpW5A3jmTXIw",
        "outputId": "13b20e5b-a1af-4244-e62a-deb9227c4662"
      },
      "execution_count": 251,
      "outputs": [
        {
          "output_type": "stream",
          "name": "stderr",
          "text": [
            "/usr/local/lib/python3.7/dist-packages/seaborn/distributions.py:2619: FutureWarning: `distplot` is a deprecated function and will be removed in a future version. Please adapt your code to use either `displot` (a figure-level function with similar flexibility) or `histplot` (an axes-level function for histograms).\n",
            "  warnings.warn(msg, FutureWarning)\n"
          ]
        },
        {
          "output_type": "execute_result",
          "data": {
            "text/plain": [
              "Text(0.5, 1.0, 'Distribuição de Altura dos Atletas')"
            ]
          },
          "metadata": {},
          "execution_count": 251
        },
        {
          "output_type": "display_data",
          "data": {
            "text/plain": [
              "<Figure size 432x288 with 1 Axes>"
            ],
            "image/png": "[encoded data removed]"
          },
          "metadata": {}
        }
      ]
    },
    {
      "cell_type": "markdown",
      "source": [
        "- Usando os **mesmos dados**, podemos plotar a mudança de peso ao longo do tempo usando um **gráfico de pontos** (com paleta colorida)."
      ],
      "metadata": {
        "id": "THkwo8uzMDDq"
      }
    },
    {
      "cell_type": "code",
      "source": [
        "plt.figure(figsize=(20, 8))\n",
        "sns.pointplot(x='Year', y='Weight', data=maratonaMasculino, color='Yellow')\n",
        "plt.title('Variação do Peso (kg) de Atletas Maratonistas Masculinos ao Longo do Tempo')"
      ],
      "metadata": {
        "id": "jr8zAu_2lh9L",
        "colab": {
          "base_uri": "https://localhost:8080/",
          "height": 523
        },
        "outputId": "f137933f-b67a-4731-ff0f-481ae146d05e"
      },
      "execution_count": 250,
      "outputs": [
        {
          "output_type": "execute_result",
          "data": {
            "text/plain": [
              "Text(0.5, 1.0, 'Variação do Peso (kg) de Atletas Maratonistas Masculinos ao Longo do Tempo')"
            ]
          },
          "metadata": {},
          "execution_count": 250
        },
        {
          "output_type": "display_data",
          "data": {
            "text/plain": [
              "<Figure size 1440x576 with 1 Axes>"
            ],
            "image/png": "[encoded data removed]"
          },
          "metadata": {}
        }
      ]
    },
    {
      "cell_type": "markdown",
      "source": [
        "####7.1.1.4. Distribuição de Medalhas de Ouro/País"
      ],
      "metadata": {
        "id": "Hcs1E7lc3Du-"
      }
    },
    {
      "cell_type": "markdown",
      "source": [
        "- Vamos agora analisar os **cinco principais países** formentadores de medalhistas de ouro na modalidade.\n"
      ],
      "metadata": {
        "id": "jwOQHWbd3htH"
      }
    },
    {
      "cell_type": "code",
      "source": [
        "maratonaMasculino.region.value_counts().reset_index(name='Medalhas').head(5)"
      ],
      "metadata": {
        "colab": {
          "base_uri": "https://localhost:8080/",
          "height": 206
        },
        "id": "o0aP3yV934pH",
        "outputId": "b8b3e737-831f-4f55-b6a8-90955572fe4d"
      },
      "execution_count": 100,
      "outputs": [
        {
          "output_type": "execute_result",
          "data": {
            "text/plain": [
              "       index  Medalhas\n",
              "0   Ethiopia         4\n",
              "1        USA         3\n",
              "2      Italy         2\n",
              "3  Argentina         2\n",
              "4    Germany         2"
            ],
            "text/html": [
              "\n",
              "  <div id=\"df-b1f5300c-3f35-4935-b55a-fabd28f09bf5\">\n",
              "    <div class=\"colab-df-container\">\n",
              "      <div>\n",
              "<style scoped>\n",
              "    .dataframe tbody tr th:only-of-type {\n",
              "        vertical-align: middle;\n",
              "    }\n",
              "\n",
              "    .dataframe tbody tr th {\n",
              "        vertical-align: top;\n",
              "    }\n",
              "\n",
              "    .dataframe thead th {\n",
              "        text-align: right;\n",
              "    }\n",
              "</style>\n",
              "<table border=\"1\" class=\"dataframe\">\n",
              "  <thead>\n",
              "    <tr style=\"text-align: right;\">\n",
              "      <th></th>\n",
              "      <th>index</th>\n",
              "      <th>Medalhas</th>\n",
              "    </tr>\n",
              "  </thead>\n",
              "  <tbody>\n",
              "    <tr>\n",
              "      <th>0</th>\n",
              "      <td>Ethiopia</td>\n",
              "      <td>4</td>\n",
              "    </tr>\n",
              "    <tr>\n",
              "      <th>1</th>\n",
              "      <td>USA</td>\n",
              "      <td>3</td>\n",
              "    </tr>\n",
              "    <tr>\n",
              "      <th>2</th>\n",
              "      <td>Italy</td>\n",
              "      <td>2</td>\n",
              "    </tr>\n",
              "    <tr>\n",
              "      <th>3</th>\n",
              "      <td>Argentina</td>\n",
              "      <td>2</td>\n",
              "    </tr>\n",
              "    <tr>\n",
              "      <th>4</th>\n",
              "      <td>Germany</td>\n",
              "      <td>2</td>\n",
              "    </tr>\n",
              "  </tbody>\n",
              "</table>\n",
              "</div>\n",
              "      <button class=\"colab-df-convert\" onclick=\"convertToInteractive('df-b1f5300c-3f35-4935-b55a-fabd28f09bf5')\"\n",
              "              title=\"Convert this dataframe to an interactive table.\"\n",
              "              style=\"display:none;\">\n",
              "        \n",
              "  <svg xmlns=\"http://www.w3.org/2000/svg\" height=\"24px\"viewBox=\"0 0 24 24\"\n",
              "       width=\"24px\">\n",
              "    <path d=\"M0 0h24v24H0V0z\" fill=\"none\"/>\n",
              "    <path d=\"M18.56 5.44l.94 2.06.94-2.06 2.06-.94-2.06-.94-.94-2.06-.94 2.06-2.06.94zm-11 1L8.5 8.5l.94-2.06 2.06-.94-2.06-.94L8.5 2.5l-.94 2.06-2.06.94zm10 10l.94 2.06.94-2.06 2.06-.94-2.06-.94-.94-2.06-.94 2.06-2.06.94z\"/><path d=\"M17.41 7.96l-1.37-1.37c-.4-.4-.92-.59-1.43-.59-.52 0-1.04.2-1.43.59L10.3 9.45l-7.72 7.72c-.78.78-.78 2.05 0 2.83L4 21.41c.39.39.9.59 1.41.59.51 0 1.02-.2 1.41-.59l7.78-7.78 2.81-2.81c.8-.78.8-2.07 0-2.86zM5.41 20L4 18.59l7.72-7.72 1.47 1.35L5.41 20z\"/>\n",
              "  </svg>\n",
              "      </button>\n",
              "      \n",
              "  <style>\n",
              "    .colab-df-container {\n",
              "      display:flex;\n",
              "      flex-wrap:wrap;\n",
              "      gap: 12px;\n",
              "    }\n",
              "\n",
              "    .colab-df-convert {\n",
              "      background-color: #E8F0FE;\n",
              "      border: none;\n",
              "      border-radius: 50%;\n",
              "      cursor: pointer;\n",
              "      display: none;\n",
              "      fill: #1967D2;\n",
              "      height: 32px;\n",
              "      padding: 0 0 0 0;\n",
              "      width: 32px;\n",
              "    }\n",
              "\n",
              "    .colab-df-convert:hover {\n",
              "      background-color: #E2EBFA;\n",
              "      box-shadow: 0px 1px 2px rgba(60, 64, 67, 0.3), 0px 1px 3px 1px rgba(60, 64, 67, 0.15);\n",
              "      fill: #174EA6;\n",
              "    }\n",
              "\n",
              "    [theme=dark] .colab-df-convert {\n",
              "      background-color: #3B4455;\n",
              "      fill: #D2E3FC;\n",
              "    }\n",
              "\n",
              "    [theme=dark] .colab-df-convert:hover {\n",
              "      background-color: #434B5C;\n",
              "      box-shadow: 0px 1px 3px 1px rgba(0, 0, 0, 0.15);\n",
              "      filter: drop-shadow(0px 1px 2px rgba(0, 0, 0, 0.3));\n",
              "      fill: #FFFFFF;\n",
              "    }\n",
              "  </style>\n",
              "\n",
              "      <script>\n",
              "        const buttonEl =\n",
              "          document.querySelector('#df-b1f5300c-3f35-4935-b55a-fabd28f09bf5 button.colab-df-convert');\n",
              "        buttonEl.style.display =\n",
              "          google.colab.kernel.accessAllowed ? 'block' : 'none';\n",
              "\n",
              "        async function convertToInteractive(key) {\n",
              "          const element = document.querySelector('#df-b1f5300c-3f35-4935-b55a-fabd28f09bf5');\n",
              "          const dataTable =\n",
              "            await google.colab.kernel.invokeFunction('convertToInteractive',\n",
              "                                                     [key], {});\n",
              "          if (!dataTable) return;\n",
              "\n",
              "          const docLinkHtml = 'Like what you see? Visit the ' +\n",
              "            '<a target=\"_blank\" href=https://colab.research.google.com/notebooks/data_table.ipynb>data table notebook</a>'\n",
              "            + ' to learn more about interactive tables.';\n",
              "          element.innerHTML = '';\n",
              "          dataTable['output_type'] = 'display_data';\n",
              "          await google.colab.output.renderOutput(dataTable, element);\n",
              "          const docLink = document.createElement('div');\n",
              "          docLink.innerHTML = docLinkHtml;\n",
              "          element.appendChild(docLink);\n",
              "        }\n",
              "      </script>\n",
              "    </div>\n",
              "  </div>\n",
              "  "
            ]
          },
          "metadata": {},
          "execution_count": 100
        }
      ]
    },
    {
      "cell_type": "markdown",
      "source": [
        "- Agora vamos plotar em um gráfico"
      ],
      "metadata": {
        "id": "I-1M7jEy4FhJ"
      }
    },
    {
      "cell_type": "code",
      "source": [
        "maratonaMasculinoPais = maratonaMasculino.region.value_counts().reset_index(name='Medal').head(5)\n",
        "g = sns.catplot(x=\"index\", y=\"Medal\", data=maratonaMasculinoPais,\n",
        "                height=6, kind=\"bar\", palette=\"muted\")\n",
        "g.despine(left=True)\n",
        "g.set_xlabels(\"Top 5 Países\")\n",
        "g.set_ylabels(\"Número de Medalhas de Ouro\")\n",
        "plt.title('Medalhas por Países')"
      ],
      "metadata": {
        "colab": {
          "base_uri": "https://localhost:8080/",
          "height": 470
        },
        "id": "67GuhXNu4UXs",
        "outputId": "a1333551-108a-49a2-af98-a2e7a00fe795"
      },
      "execution_count": 122,
      "outputs": [
        {
          "output_type": "execute_result",
          "data": {
            "text/plain": [
              "Text(0.5, 1.0, 'Medalhas por Países')"
            ]
          },
          "metadata": {},
          "execution_count": 122
        },
        {
          "output_type": "display_data",
          "data": {
            "text/plain": [
              "<Figure size 432x432 with 1 Axes>"
            ],
            "image/png": "[encoded data removed]"
          },
          "metadata": {}
        }
      ]
    },
    {
      "cell_type": "markdown",
      "source": [
        "- Agora vamos analisar os quatro **campeões da Ethiopia** e a edição dos jogos de suas conquistas."
      ],
      "metadata": {
        "id": "LsTKrx3C8qxf"
      }
    },
    {
      "cell_type": "code",
      "source": [
        "medalhistasETH = maratonaMasculino.loc[maratonaMasculino['NOC'] == 'ETH']\n"
      ],
      "metadata": {
        "id": "p01nvRbp5djr"
      },
      "execution_count": 102,
      "outputs": []
    },
    {
      "cell_type": "code",
      "source": [
        "grupoETH = medalhistasETH.groupby(['Year']).first()\n"
      ],
      "metadata": {
        "id": "nEWlpsjX7_4s"
      },
      "execution_count": 103,
      "outputs": []
    },
    {
      "cell_type": "code",
      "source": [
        "grupoETH.head()"
      ],
      "metadata": {
        "colab": {
          "base_uri": "https://localhost:8080/",
          "height": 320
        },
        "id": "lgcPKT8r7bos",
        "outputId": "f6ddcc1f-25e8-4833-f8b2-94d79eeaf7cf"
      },
      "execution_count": 104,
      "outputs": [
        {
          "output_type": "execute_result",
          "data": {
            "text/plain": [
              "          ID            Name Sex   Age  Height  Weight      Team  NOC  \\\n",
              "Year                                                                    \n",
              "1960   11467    Abebe Bikila   M  28.0   177.0    57.0  Ethiopia  ETH   \n",
              "1964   11467    Abebe Bikila   M  32.0   177.0    57.0  Ethiopia  ETH   \n",
              "1968  131283      Mamo Wolde   M  36.0   170.0    54.0  Ethiopia  ETH   \n",
              "2000     411  Gezahgne Abera   M  22.0   166.0    58.0  Ethiopia  ETH   \n",
              "\n",
              "            Games  Season         City      Sport                     Event  \\\n",
              "Year                                                                          \n",
              "1960  1960 Summer  Summer         Roma  Athletics  Athletics Men's Marathon   \n",
              "1964  1964 Summer  Summer        Tokyo  Athletics  Athletics Men's Marathon   \n",
              "1968  1968 Summer  Summer  Mexico City  Athletics  Athletics Men's Marathon   \n",
              "2000  2000 Summer  Summer       Sydney  Athletics  Athletics Men's Marathon   \n",
              "\n",
              "     Medal    region notes  \n",
              "Year                        \n",
              "1960  Gold  Ethiopia  None  \n",
              "1964  Gold  Ethiopia  None  \n",
              "1968  Gold  Ethiopia  None  \n",
              "2000  Gold  Ethiopia  None  "
            ],
            "text/html": [
              "\n",
              "  <div id=\"df-2b67009b-7ff4-445b-a74d-2c2d90ad8119\">\n",
              "    <div class=\"colab-df-container\">\n",
              "      <div>\n",
              "<style scoped>\n",
              "    .dataframe tbody tr th:only-of-type {\n",
              "        vertical-align: middle;\n",
              "    }\n",
              "\n",
              "    .dataframe tbody tr th {\n",
              "        vertical-align: top;\n",
              "    }\n",
              "\n",
              "    .dataframe thead th {\n",
              "        text-align: right;\n",
              "    }\n",
              "</style>\n",
              "<table border=\"1\" class=\"dataframe\">\n",
              "  <thead>\n",
              "    <tr style=\"text-align: right;\">\n",
              "      <th></th>\n",
              "      <th>ID</th>\n",
              "      <th>Name</th>\n",
              "      <th>Sex</th>\n",
              "      <th>Age</th>\n",
              "      <th>Height</th>\n",
              "      <th>Weight</th>\n",
              "      <th>Team</th>\n",
              "      <th>NOC</th>\n",
              "      <th>Games</th>\n",
              "      <th>Season</th>\n",
              "      <th>City</th>\n",
              "      <th>Sport</th>\n",
              "      <th>Event</th>\n",
              "      <th>Medal</th>\n",
              "      <th>region</th>\n",
              "      <th>notes</th>\n",
              "    </tr>\n",
              "    <tr>\n",
              "      <th>Year</th>\n",
              "      <th></th>\n",
              "      <th></th>\n",
              "      <th></th>\n",
              "      <th></th>\n",
              "      <th></th>\n",
              "      <th></th>\n",
              "      <th></th>\n",
              "      <th></th>\n",
              "      <th></th>\n",
              "      <th></th>\n",
              "      <th></th>\n",
              "      <th></th>\n",
              "      <th></th>\n",
              "      <th></th>\n",
              "      <th></th>\n",
              "      <th></th>\n",
              "    </tr>\n",
              "  </thead>\n",
              "  <tbody>\n",
              "    <tr>\n",
              "      <th>1960</th>\n",
              "      <td>11467</td>\n",
              "      <td>Abebe Bikila</td>\n",
              "      <td>M</td>\n",
              "      <td>28.0</td>\n",
              "      <td>177.0</td>\n",
              "      <td>57.0</td>\n",
              "      <td>Ethiopia</td>\n",
              "      <td>ETH</td>\n",
              "      <td>1960 Summer</td>\n",
              "      <td>Summer</td>\n",
              "      <td>Roma</td>\n",
              "      <td>Athletics</td>\n",
              "      <td>Athletics Men's Marathon</td>\n",
              "      <td>Gold</td>\n",
              "      <td>Ethiopia</td>\n",
              "      <td>None</td>\n",
              "    </tr>\n",
              "    <tr>\n",
              "      <th>1964</th>\n",
              "      <td>11467</td>\n",
              "      <td>Abebe Bikila</td>\n",
              "      <td>M</td>\n",
              "      <td>32.0</td>\n",
              "      <td>177.0</td>\n",
              "      <td>57.0</td>\n",
              "      <td>Ethiopia</td>\n",
              "      <td>ETH</td>\n",
              "      <td>1964 Summer</td>\n",
              "      <td>Summer</td>\n",
              "      <td>Tokyo</td>\n",
              "      <td>Athletics</td>\n",
              "      <td>Athletics Men's Marathon</td>\n",
              "      <td>Gold</td>\n",
              "      <td>Ethiopia</td>\n",
              "      <td>None</td>\n",
              "    </tr>\n",
              "    <tr>\n",
              "      <th>1968</th>\n",
              "      <td>131283</td>\n",
              "      <td>Mamo Wolde</td>\n",
              "      <td>M</td>\n",
              "      <td>36.0</td>\n",
              "      <td>170.0</td>\n",
              "      <td>54.0</td>\n",
              "      <td>Ethiopia</td>\n",
              "      <td>ETH</td>\n",
              "      <td>1968 Summer</td>\n",
              "      <td>Summer</td>\n",
              "      <td>Mexico City</td>\n",
              "      <td>Athletics</td>\n",
              "      <td>Athletics Men's Marathon</td>\n",
              "      <td>Gold</td>\n",
              "      <td>Ethiopia</td>\n",
              "      <td>None</td>\n",
              "    </tr>\n",
              "    <tr>\n",
              "      <th>2000</th>\n",
              "      <td>411</td>\n",
              "      <td>Gezahgne Abera</td>\n",
              "      <td>M</td>\n",
              "      <td>22.0</td>\n",
              "      <td>166.0</td>\n",
              "      <td>58.0</td>\n",
              "      <td>Ethiopia</td>\n",
              "      <td>ETH</td>\n",
              "      <td>2000 Summer</td>\n",
              "      <td>Summer</td>\n",
              "      <td>Sydney</td>\n",
              "      <td>Athletics</td>\n",
              "      <td>Athletics Men's Marathon</td>\n",
              "      <td>Gold</td>\n",
              "      <td>Ethiopia</td>\n",
              "      <td>None</td>\n",
              "    </tr>\n",
              "  </tbody>\n",
              "</table>\n",
              "</div>\n",
              "      <button class=\"colab-df-convert\" onclick=\"convertToInteractive('df-2b67009b-7ff4-445b-a74d-2c2d90ad8119')\"\n",
              "              title=\"Convert this dataframe to an interactive table.\"\n",
              "              style=\"display:none;\">\n",
              "        \n",
              "  <svg xmlns=\"http://www.w3.org/2000/svg\" height=\"24px\"viewBox=\"0 0 24 24\"\n",
              "       width=\"24px\">\n",
              "    <path d=\"M0 0h24v24H0V0z\" fill=\"none\"/>\n",
              "    <path d=\"M18.56 5.44l.94 2.06.94-2.06 2.06-.94-2.06-.94-.94-2.06-.94 2.06-2.06.94zm-11 1L8.5 8.5l.94-2.06 2.06-.94-2.06-.94L8.5 2.5l-.94 2.06-2.06.94zm10 10l.94 2.06.94-2.06 2.06-.94-2.06-.94-.94-2.06-.94 2.06-2.06.94z\"/><path d=\"M17.41 7.96l-1.37-1.37c-.4-.4-.92-.59-1.43-.59-.52 0-1.04.2-1.43.59L10.3 9.45l-7.72 7.72c-.78.78-.78 2.05 0 2.83L4 21.41c.39.39.9.59 1.41.59.51 0 1.02-.2 1.41-.59l7.78-7.78 2.81-2.81c.8-.78.8-2.07 0-2.86zM5.41 20L4 18.59l7.72-7.72 1.47 1.35L5.41 20z\"/>\n",
              "  </svg>\n",
              "      </button>\n",
              "      \n",
              "  <style>\n",
              "    .colab-df-container {\n",
              "      display:flex;\n",
              "      flex-wrap:wrap;\n",
              "      gap: 12px;\n",
              "    }\n",
              "\n",
              "    .colab-df-convert {\n",
              "      background-color: #E8F0FE;\n",
              "      border: none;\n",
              "      border-radius: 50%;\n",
              "      cursor: pointer;\n",
              "      display: none;\n",
              "      fill: #1967D2;\n",
              "      height: 32px;\n",
              "      padding: 0 0 0 0;\n",
              "      width: 32px;\n",
              "    }\n",
              "\n",
              "    .colab-df-convert:hover {\n",
              "      background-color: #E2EBFA;\n",
              "      box-shadow: 0px 1px 2px rgba(60, 64, 67, 0.3), 0px 1px 3px 1px rgba(60, 64, 67, 0.15);\n",
              "      fill: #174EA6;\n",
              "    }\n",
              "\n",
              "    [theme=dark] .colab-df-convert {\n",
              "      background-color: #3B4455;\n",
              "      fill: #D2E3FC;\n",
              "    }\n",
              "\n",
              "    [theme=dark] .colab-df-convert:hover {\n",
              "      background-color: #434B5C;\n",
              "      box-shadow: 0px 1px 3px 1px rgba(0, 0, 0, 0.15);\n",
              "      filter: drop-shadow(0px 1px 2px rgba(0, 0, 0, 0.3));\n",
              "      fill: #FFFFFF;\n",
              "    }\n",
              "  </style>\n",
              "\n",
              "      <script>\n",
              "        const buttonEl =\n",
              "          document.querySelector('#df-2b67009b-7ff4-445b-a74d-2c2d90ad8119 button.colab-df-convert');\n",
              "        buttonEl.style.display =\n",
              "          google.colab.kernel.accessAllowed ? 'block' : 'none';\n",
              "\n",
              "        async function convertToInteractive(key) {\n",
              "          const element = document.querySelector('#df-2b67009b-7ff4-445b-a74d-2c2d90ad8119');\n",
              "          const dataTable =\n",
              "            await google.colab.kernel.invokeFunction('convertToInteractive',\n",
              "                                                     [key], {});\n",
              "          if (!dataTable) return;\n",
              "\n",
              "          const docLinkHtml = 'Like what you see? Visit the ' +\n",
              "            '<a target=\"_blank\" href=https://colab.research.google.com/notebooks/data_table.ipynb>data table notebook</a>'\n",
              "            + ' to learn more about interactive tables.';\n",
              "          element.innerHTML = '';\n",
              "          dataTable['output_type'] = 'display_data';\n",
              "          await google.colab.output.renderOutput(dataTable, element);\n",
              "          const docLink = document.createElement('div');\n",
              "          docLink.innerHTML = docLinkHtml;\n",
              "          element.appendChild(docLink);\n",
              "        }\n",
              "      </script>\n",
              "    </div>\n",
              "  </div>\n",
              "  "
            ]
          },
          "metadata": {},
          "execution_count": 104
        }
      ]
    },
    {
      "cell_type": "markdown",
      "source": [
        "- Podemos observar que o **berço dos campeões é a Etiópia** com quatro conquistas com destaque para o atleta Abebe Bikila com duas conquitas olimpicas."
      ],
      "metadata": {
        "id": "wCqHepcetdkG"
      }
    },
    {
      "cell_type": "markdown",
      "source": [
        "####7.1.1.5. Análise Estatística dos Campeões"
      ],
      "metadata": {
        "id": "wAoh3tZ8-FmV"
      }
    },
    {
      "cell_type": "markdown",
      "source": [
        "- Vamos criar um gráfico de dispersão usando os pares de dados peso e altura dos atletas. O intuito é **tentar determinar se existe uma relação ou associação entre essas duas variáveis**. "
      ],
      "metadata": {
        "id": "SV8YJLwXJBY2"
      }
    },
    {
      "cell_type": "code",
      "source": [
        "plt.figure(figsize=(13, 4))\n",
        "ax = sns.scatterplot(x=\"Height\", y=\"Weight\", data=maratonaMasculino)\n",
        "plt.title('Altura x Peso dos Medalhistas Olímpicos')"
      ],
      "metadata": {
        "colab": {
          "base_uri": "https://localhost:8080/",
          "height": 318
        },
        "id": "XMJap1wtJ3ar",
        "outputId": "41203602-f007-4506-c8b5-dca643f84cfc"
      },
      "execution_count": 218,
      "outputs": [
        {
          "output_type": "execute_result",
          "data": {
            "text/plain": [
              "Text(0.5, 1.0, 'Altura x Peso dos Medalhistas Olímpicos')"
            ]
          },
          "metadata": {},
          "execution_count": 218
        },
        {
          "output_type": "display_data",
          "data": {
            "text/plain": [
              "<Figure size 936x288 with 1 Axes>"
            ],
            "image/png": "[encoded data removed]"
          },
          "metadata": {}
        }
      ]
    },
    {
      "cell_type": "markdown",
      "source": [
        "- É possível observar que grande **maioria** das amostras mostra uma relação linear entre altura e peso (quanto mais peso, mais altura)."
      ],
      "metadata": {
        "id": "Za7eqFPMI_Hp"
      }
    },
    {
      "cell_type": "markdown",
      "source": [
        "- Vamos utilizar a **função describe** para observar estatísticas descritivas dos campeões olimpicos.\n",
        "\n"
      ],
      "metadata": {
        "id": "5AagBfdm-FmV"
      }
    },
    {
      "cell_type": "code",
      "source": [
        "maratonaMasculino.describe()"
      ],
      "metadata": {
        "colab": {
          "base_uri": "https://localhost:8080/",
          "height": 300
        },
        "outputId": "7750eb8c-b5ac-44eb-fd98-79c7a2e4b09c",
        "id": "5L4wkPo7-FmW"
      },
      "execution_count": 106,
      "outputs": [
        {
          "output_type": "execute_result",
          "data": {
            "text/plain": [
              "                  ID        Age      Height     Weight         Year\n",
              "count      26.000000  26.000000   26.000000  26.000000    26.000000\n",
              "mean    67625.653846  27.846154  170.884615  58.673077  1962.230769\n",
              "std     45964.992763   5.033427    6.653281   6.344986    35.581240\n",
              "min       411.000000  20.000000  158.000000  45.000000  1904.000000\n",
              "25%     21550.000000  23.250000  167.000000  55.250000  1933.000000\n",
              "50%     61389.000000  28.500000  170.000000  57.250000  1966.000000\n",
              "75%    112299.500000  30.750000  175.250000  60.000000  1991.000000\n",
              "max    134080.000000  37.000000  188.000000  77.000000  2016.000000"
            ],
            "text/html": [
              "\n",
              "  <div id=\"df-04138266-781e-4231-b696-425bddb60362\">\n",
              "    <div class=\"colab-df-container\">\n",
              "      <div>\n",
              "<style scoped>\n",
              "    .dataframe tbody tr th:only-of-type {\n",
              "        vertical-align: middle;\n",
              "    }\n",
              "\n",
              "    .dataframe tbody tr th {\n",
              "        vertical-align: top;\n",
              "    }\n",
              "\n",
              "    .dataframe thead th {\n",
              "        text-align: right;\n",
              "    }\n",
              "</style>\n",
              "<table border=\"1\" class=\"dataframe\">\n",
              "  <thead>\n",
              "    <tr style=\"text-align: right;\">\n",
              "      <th></th>\n",
              "      <th>ID</th>\n",
              "      <th>Age</th>\n",
              "      <th>Height</th>\n",
              "      <th>Weight</th>\n",
              "      <th>Year</th>\n",
              "    </tr>\n",
              "  </thead>\n",
              "  <tbody>\n",
              "    <tr>\n",
              "      <th>count</th>\n",
              "      <td>26.000000</td>\n",
              "      <td>26.000000</td>\n",
              "      <td>26.000000</td>\n",
              "      <td>26.000000</td>\n",
              "      <td>26.000000</td>\n",
              "    </tr>\n",
              "    <tr>\n",
              "      <th>mean</th>\n",
              "      <td>67625.653846</td>\n",
              "      <td>27.846154</td>\n",
              "      <td>170.884615</td>\n",
              "      <td>58.673077</td>\n",
              "      <td>1962.230769</td>\n",
              "    </tr>\n",
              "    <tr>\n",
              "      <th>std</th>\n",
              "      <td>45964.992763</td>\n",
              "      <td>5.033427</td>\n",
              "      <td>6.653281</td>\n",
              "      <td>6.344986</td>\n",
              "      <td>35.581240</td>\n",
              "    </tr>\n",
              "    <tr>\n",
              "      <th>min</th>\n",
              "      <td>411.000000</td>\n",
              "      <td>20.000000</td>\n",
              "      <td>158.000000</td>\n",
              "      <td>45.000000</td>\n",
              "      <td>1904.000000</td>\n",
              "    </tr>\n",
              "    <tr>\n",
              "      <th>25%</th>\n",
              "      <td>21550.000000</td>\n",
              "      <td>23.250000</td>\n",
              "      <td>167.000000</td>\n",
              "      <td>55.250000</td>\n",
              "      <td>1933.000000</td>\n",
              "    </tr>\n",
              "    <tr>\n",
              "      <th>50%</th>\n",
              "      <td>61389.000000</td>\n",
              "      <td>28.500000</td>\n",
              "      <td>170.000000</td>\n",
              "      <td>57.250000</td>\n",
              "      <td>1966.000000</td>\n",
              "    </tr>\n",
              "    <tr>\n",
              "      <th>75%</th>\n",
              "      <td>112299.500000</td>\n",
              "      <td>30.750000</td>\n",
              "      <td>175.250000</td>\n",
              "      <td>60.000000</td>\n",
              "      <td>1991.000000</td>\n",
              "    </tr>\n",
              "    <tr>\n",
              "      <th>max</th>\n",
              "      <td>134080.000000</td>\n",
              "      <td>37.000000</td>\n",
              "      <td>188.000000</td>\n",
              "      <td>77.000000</td>\n",
              "      <td>2016.000000</td>\n",
              "    </tr>\n",
              "  </tbody>\n",
              "</table>\n",
              "</div>\n",
              "      <button class=\"colab-df-convert\" onclick=\"convertToInteractive('df-04138266-781e-4231-b696-425bddb60362')\"\n",
              "              title=\"Convert this dataframe to an interactive table.\"\n",
              "              style=\"display:none;\">\n",
              "        \n",
              "  <svg xmlns=\"http://www.w3.org/2000/svg\" height=\"24px\"viewBox=\"0 0 24 24\"\n",
              "       width=\"24px\">\n",
              "    <path d=\"M0 0h24v24H0V0z\" fill=\"none\"/>\n",
              "    <path d=\"M18.56 5.44l.94 2.06.94-2.06 2.06-.94-2.06-.94-.94-2.06-.94 2.06-2.06.94zm-11 1L8.5 8.5l.94-2.06 2.06-.94-2.06-.94L8.5 2.5l-.94 2.06-2.06.94zm10 10l.94 2.06.94-2.06 2.06-.94-2.06-.94-.94-2.06-.94 2.06-2.06.94z\"/><path d=\"M17.41 7.96l-1.37-1.37c-.4-.4-.92-.59-1.43-.59-.52 0-1.04.2-1.43.59L10.3 9.45l-7.72 7.72c-.78.78-.78 2.05 0 2.83L4 21.41c.39.39.9.59 1.41.59.51 0 1.02-.2 1.41-.59l7.78-7.78 2.81-2.81c.8-.78.8-2.07 0-2.86zM5.41 20L4 18.59l7.72-7.72 1.47 1.35L5.41 20z\"/>\n",
              "  </svg>\n",
              "      </button>\n",
              "      \n",
              "  <style>\n",
              "    .colab-df-container {\n",
              "      display:flex;\n",
              "      flex-wrap:wrap;\n",
              "      gap: 12px;\n",
              "    }\n",
              "\n",
              "    .colab-df-convert {\n",
              "      background-color: #E8F0FE;\n",
              "      border: none;\n",
              "      border-radius: 50%;\n",
              "      cursor: pointer;\n",
              "      display: none;\n",
              "      fill: #1967D2;\n",
              "      height: 32px;\n",
              "      padding: 0 0 0 0;\n",
              "      width: 32px;\n",
              "    }\n",
              "\n",
              "    .colab-df-convert:hover {\n",
              "      background-color: #E2EBFA;\n",
              "      box-shadow: 0px 1px 2px rgba(60, 64, 67, 0.3), 0px 1px 3px 1px rgba(60, 64, 67, 0.15);\n",
              "      fill: #174EA6;\n",
              "    }\n",
              "\n",
              "    [theme=dark] .colab-df-convert {\n",
              "      background-color: #3B4455;\n",
              "      fill: #D2E3FC;\n",
              "    }\n",
              "\n",
              "    [theme=dark] .colab-df-convert:hover {\n",
              "      background-color: #434B5C;\n",
              "      box-shadow: 0px 1px 3px 1px rgba(0, 0, 0, 0.15);\n",
              "      filter: drop-shadow(0px 1px 2px rgba(0, 0, 0, 0.3));\n",
              "      fill: #FFFFFF;\n",
              "    }\n",
              "  </style>\n",
              "\n",
              "      <script>\n",
              "        const buttonEl =\n",
              "          document.querySelector('#df-04138266-781e-4231-b696-425bddb60362 button.colab-df-convert');\n",
              "        buttonEl.style.display =\n",
              "          google.colab.kernel.accessAllowed ? 'block' : 'none';\n",
              "\n",
              "        async function convertToInteractive(key) {\n",
              "          const element = document.querySelector('#df-04138266-781e-4231-b696-425bddb60362');\n",
              "          const dataTable =\n",
              "            await google.colab.kernel.invokeFunction('convertToInteractive',\n",
              "                                                     [key], {});\n",
              "          if (!dataTable) return;\n",
              "\n",
              "          const docLinkHtml = 'Like what you see? Visit the ' +\n",
              "            '<a target=\"_blank\" href=https://colab.research.google.com/notebooks/data_table.ipynb>data table notebook</a>'\n",
              "            + ' to learn more about interactive tables.';\n",
              "          element.innerHTML = '';\n",
              "          dataTable['output_type'] = 'display_data';\n",
              "          await google.colab.output.renderOutput(dataTable, element);\n",
              "          const docLink = document.createElement('div');\n",
              "          docLink.innerHTML = docLinkHtml;\n",
              "          element.appendChild(docLink);\n",
              "        }\n",
              "      </script>\n",
              "    </div>\n",
              "  </div>\n",
              "  "
            ]
          },
          "metadata": {},
          "execution_count": 106
        }
      ]
    },
    {
      "cell_type": "markdown",
      "source": [
        "- De forma **simplória** é possível concluir que os expoentes dessa modalidade, utilizando como método uma análise em cima de uma **média simples**, possuem:\n",
        "  * Idade: ~ 28 anos\n",
        "  * Altura: ~ 1,71 metros\n",
        "  * Peso: ~ 59 kg\n"
      ],
      "metadata": {
        "id": "r4MrcuCOtZB9"
      }
    },
    {
      "cell_type": "markdown",
      "source": [
        "# **8. BRASIL OLÍMPICO**"
      ],
      "metadata": {
        "id": "r0EBIuwHrSAI"
      }
    },
    {
      "cell_type": "markdown",
      "source": [
        "- Como curioso, esportista e bom brasileiro,\n",
        "  * Fiz a análise da quantitade de participantes brasileiros em olímpiadas ao longo dos anos e;\n",
        "  * A quantidade de campeões olimpicos ao longo dos anos.\n",
        "\n",
        "\n"
      ],
      "metadata": {
        "id": "kLAo-JAEsueL"
      }
    },
    {
      "cell_type": "markdown",
      "source": [
        "##*8.1. Atletas Olímpicos Brasileiros*\n",
        "\n",
        "\n"
      ],
      "metadata": {
        "id": "IXd22aXO2dFE"
      }
    },
    {
      "cell_type": "markdown",
      "source": [
        "Vamos filtrar no nosso dataset os atletas brasileiros participantes das olimpiadas ao longo dos anos."
      ],
      "metadata": {
        "id": "IMIE7psI22mf"
      }
    },
    {
      "cell_type": "code",
      "source": [
        "brasilOlimpico = olimpiadasVerao.loc[olimpiadasVerao['region'] == 'Brazil']\n",
        "brasilOlimpico.head(5)\n"
      ],
      "metadata": {
        "colab": {
          "base_uri": "https://localhost:8080/",
          "height": 354
        },
        "id": "hrxkXrTrs8iS",
        "outputId": "e80f9b1f-e8d7-468d-d0eb-a077a183ade7"
      },
      "execution_count": 107,
      "outputs": [
        {
          "output_type": "execute_result",
          "data": {
            "text/plain": [
              "       ID                        Name Sex   Age  Height  Weight    Team  NOC  \\\n",
              "665   386             Alexandre Abeid   M  22.0   194.0    92.0  Brazil  BRA   \n",
              "666   386             Alexandre Abeid   M  26.0   194.0    92.0  Brazil  BRA   \n",
              "668   388  Abel Carlos da Silva Braga   M  19.0   190.0    73.0  Brazil  BRA   \n",
              "781   451         Diana Monteiro Abla   F  21.0   175.0    75.0  Brazil  BRA   \n",
              "1005  565        Glauclio Serro Abreu   M  26.0   185.0    75.0  Brazil  BRA   \n",
              "\n",
              "            Games  Year  Season            City       Sport  \\\n",
              "665   1972 Summer  1972  Summer          Munich  Volleyball   \n",
              "666   1976 Summer  1976  Summer        Montreal  Volleyball   \n",
              "668   1972 Summer  1972  Summer          Munich    Football   \n",
              "781   2016 Summer  2016  Summer  Rio de Janeiro  Water Polo   \n",
              "1005  2004 Summer  2004  Summer          Athina      Boxing   \n",
              "\n",
              "                              Event Medal  region notes  \n",
              "665     Volleyball Men's Volleyball   NaN  Brazil   NaN  \n",
              "666     Volleyball Men's Volleyball   NaN  Brazil   NaN  \n",
              "668         Football Men's Football   NaN  Brazil   NaN  \n",
              "781   Water Polo Women's Water Polo   NaN  Brazil   NaN  \n",
              "1005      Boxing Men's Middleweight   NaN  Brazil   NaN  "
            ],
            "text/html": [
              "\n",
              "  <div id=\"df-47b7d26b-bc57-4d17-9783-3468091f26f0\">\n",
              "    <div class=\"colab-df-container\">\n",
              "      <div>\n",
              "<style scoped>\n",
              "    .dataframe tbody tr th:only-of-type {\n",
              "        vertical-align: middle;\n",
              "    }\n",
              "\n",
              "    .dataframe tbody tr th {\n",
              "        vertical-align: top;\n",
              "    }\n",
              "\n",
              "    .dataframe thead th {\n",
              "        text-align: right;\n",
              "    }\n",
              "</style>\n",
              "<table border=\"1\" class=\"dataframe\">\n",
              "  <thead>\n",
              "    <tr style=\"text-align: right;\">\n",
              "      <th></th>\n",
              "      <th>ID</th>\n",
              "      <th>Name</th>\n",
              "      <th>Sex</th>\n",
              "      <th>Age</th>\n",
              "      <th>Height</th>\n",
              "      <th>Weight</th>\n",
              "      <th>Team</th>\n",
              "      <th>NOC</th>\n",
              "      <th>Games</th>\n",
              "      <th>Year</th>\n",
              "      <th>Season</th>\n",
              "      <th>City</th>\n",
              "      <th>Sport</th>\n",
              "      <th>Event</th>\n",
              "      <th>Medal</th>\n",
              "      <th>region</th>\n",
              "      <th>notes</th>\n",
              "    </tr>\n",
              "  </thead>\n",
              "  <tbody>\n",
              "    <tr>\n",
              "      <th>665</th>\n",
              "      <td>386</td>\n",
              "      <td>Alexandre Abeid</td>\n",
              "      <td>M</td>\n",
              "      <td>22.0</td>\n",
              "      <td>194.0</td>\n",
              "      <td>92.0</td>\n",
              "      <td>Brazil</td>\n",
              "      <td>BRA</td>\n",
              "      <td>1972 Summer</td>\n",
              "      <td>1972</td>\n",
              "      <td>Summer</td>\n",
              "      <td>Munich</td>\n",
              "      <td>Volleyball</td>\n",
              "      <td>Volleyball Men's Volleyball</td>\n",
              "      <td>NaN</td>\n",
              "      <td>Brazil</td>\n",
              "      <td>NaN</td>\n",
              "    </tr>\n",
              "    <tr>\n",
              "      <th>666</th>\n",
              "      <td>386</td>\n",
              "      <td>Alexandre Abeid</td>\n",
              "      <td>M</td>\n",
              "      <td>26.0</td>\n",
              "      <td>194.0</td>\n",
              "      <td>92.0</td>\n",
              "      <td>Brazil</td>\n",
              "      <td>BRA</td>\n",
              "      <td>1976 Summer</td>\n",
              "      <td>1976</td>\n",
              "      <td>Summer</td>\n",
              "      <td>Montreal</td>\n",
              "      <td>Volleyball</td>\n",
              "      <td>Volleyball Men's Volleyball</td>\n",
              "      <td>NaN</td>\n",
              "      <td>Brazil</td>\n",
              "      <td>NaN</td>\n",
              "    </tr>\n",
              "    <tr>\n",
              "      <th>668</th>\n",
              "      <td>388</td>\n",
              "      <td>Abel Carlos da Silva Braga</td>\n",
              "      <td>M</td>\n",
              "      <td>19.0</td>\n",
              "      <td>190.0</td>\n",
              "      <td>73.0</td>\n",
              "      <td>Brazil</td>\n",
              "      <td>BRA</td>\n",
              "      <td>1972 Summer</td>\n",
              "      <td>1972</td>\n",
              "      <td>Summer</td>\n",
              "      <td>Munich</td>\n",
              "      <td>Football</td>\n",
              "      <td>Football Men's Football</td>\n",
              "      <td>NaN</td>\n",
              "      <td>Brazil</td>\n",
              "      <td>NaN</td>\n",
              "    </tr>\n",
              "    <tr>\n",
              "      <th>781</th>\n",
              "      <td>451</td>\n",
              "      <td>Diana Monteiro Abla</td>\n",
              "      <td>F</td>\n",
              "      <td>21.0</td>\n",
              "      <td>175.0</td>\n",
              "      <td>75.0</td>\n",
              "      <td>Brazil</td>\n",
              "      <td>BRA</td>\n",
              "      <td>2016 Summer</td>\n",
              "      <td>2016</td>\n",
              "      <td>Summer</td>\n",
              "      <td>Rio de Janeiro</td>\n",
              "      <td>Water Polo</td>\n",
              "      <td>Water Polo Women's Water Polo</td>\n",
              "      <td>NaN</td>\n",
              "      <td>Brazil</td>\n",
              "      <td>NaN</td>\n",
              "    </tr>\n",
              "    <tr>\n",
              "      <th>1005</th>\n",
              "      <td>565</td>\n",
              "      <td>Glauclio Serro Abreu</td>\n",
              "      <td>M</td>\n",
              "      <td>26.0</td>\n",
              "      <td>185.0</td>\n",
              "      <td>75.0</td>\n",
              "      <td>Brazil</td>\n",
              "      <td>BRA</td>\n",
              "      <td>2004 Summer</td>\n",
              "      <td>2004</td>\n",
              "      <td>Summer</td>\n",
              "      <td>Athina</td>\n",
              "      <td>Boxing</td>\n",
              "      <td>Boxing Men's Middleweight</td>\n",
              "      <td>NaN</td>\n",
              "      <td>Brazil</td>\n",
              "      <td>NaN</td>\n",
              "    </tr>\n",
              "  </tbody>\n",
              "</table>\n",
              "</div>\n",
              "      <button class=\"colab-df-convert\" onclick=\"convertToInteractive('df-47b7d26b-bc57-4d17-9783-3468091f26f0')\"\n",
              "              title=\"Convert this dataframe to an interactive table.\"\n",
              "              style=\"display:none;\">\n",
              "        \n",
              "  <svg xmlns=\"http://www.w3.org/2000/svg\" height=\"24px\"viewBox=\"0 0 24 24\"\n",
              "       width=\"24px\">\n",
              "    <path d=\"M0 0h24v24H0V0z\" fill=\"none\"/>\n",
              "    <path d=\"M18.56 5.44l.94 2.06.94-2.06 2.06-.94-2.06-.94-.94-2.06-.94 2.06-2.06.94zm-11 1L8.5 8.5l.94-2.06 2.06-.94-2.06-.94L8.5 2.5l-.94 2.06-2.06.94zm10 10l.94 2.06.94-2.06 2.06-.94-2.06-.94-.94-2.06-.94 2.06-2.06.94z\"/><path d=\"M17.41 7.96l-1.37-1.37c-.4-.4-.92-.59-1.43-.59-.52 0-1.04.2-1.43.59L10.3 9.45l-7.72 7.72c-.78.78-.78 2.05 0 2.83L4 21.41c.39.39.9.59 1.41.59.51 0 1.02-.2 1.41-.59l7.78-7.78 2.81-2.81c.8-.78.8-2.07 0-2.86zM5.41 20L4 18.59l7.72-7.72 1.47 1.35L5.41 20z\"/>\n",
              "  </svg>\n",
              "      </button>\n",
              "      \n",
              "  <style>\n",
              "    .colab-df-container {\n",
              "      display:flex;\n",
              "      flex-wrap:wrap;\n",
              "      gap: 12px;\n",
              "    }\n",
              "\n",
              "    .colab-df-convert {\n",
              "      background-color: #E8F0FE;\n",
              "      border: none;\n",
              "      border-radius: 50%;\n",
              "      cursor: pointer;\n",
              "      display: none;\n",
              "      fill: #1967D2;\n",
              "      height: 32px;\n",
              "      padding: 0 0 0 0;\n",
              "      width: 32px;\n",
              "    }\n",
              "\n",
              "    .colab-df-convert:hover {\n",
              "      background-color: #E2EBFA;\n",
              "      box-shadow: 0px 1px 2px rgba(60, 64, 67, 0.3), 0px 1px 3px 1px rgba(60, 64, 67, 0.15);\n",
              "      fill: #174EA6;\n",
              "    }\n",
              "\n",
              "    [theme=dark] .colab-df-convert {\n",
              "      background-color: #3B4455;\n",
              "      fill: #D2E3FC;\n",
              "    }\n",
              "\n",
              "    [theme=dark] .colab-df-convert:hover {\n",
              "      background-color: #434B5C;\n",
              "      box-shadow: 0px 1px 3px 1px rgba(0, 0, 0, 0.15);\n",
              "      filter: drop-shadow(0px 1px 2px rgba(0, 0, 0, 0.3));\n",
              "      fill: #FFFFFF;\n",
              "    }\n",
              "  </style>\n",
              "\n",
              "      <script>\n",
              "        const buttonEl =\n",
              "          document.querySelector('#df-47b7d26b-bc57-4d17-9783-3468091f26f0 button.colab-df-convert');\n",
              "        buttonEl.style.display =\n",
              "          google.colab.kernel.accessAllowed ? 'block' : 'none';\n",
              "\n",
              "        async function convertToInteractive(key) {\n",
              "          const element = document.querySelector('#df-47b7d26b-bc57-4d17-9783-3468091f26f0');\n",
              "          const dataTable =\n",
              "            await google.colab.kernel.invokeFunction('convertToInteractive',\n",
              "                                                     [key], {});\n",
              "          if (!dataTable) return;\n",
              "\n",
              "          const docLinkHtml = 'Like what you see? Visit the ' +\n",
              "            '<a target=\"_blank\" href=https://colab.research.google.com/notebooks/data_table.ipynb>data table notebook</a>'\n",
              "            + ' to learn more about interactive tables.';\n",
              "          element.innerHTML = '';\n",
              "          dataTable['output_type'] = 'display_data';\n",
              "          await google.colab.output.renderOutput(dataTable, element);\n",
              "          const docLink = document.createElement('div');\n",
              "          docLink.innerHTML = docLinkHtml;\n",
              "          element.appendChild(docLink);\n",
              "        }\n",
              "      </script>\n",
              "    </div>\n",
              "  </div>\n",
              "  "
            ]
          },
          "metadata": {},
          "execution_count": 107
        }
      ]
    },
    {
      "cell_type": "markdown",
      "source": [
        "- Vamos verificar a quantidade de participações desses atletas nos jogos olímpicos modernos. "
      ],
      "metadata": {
        "id": "PY9ks-4R3LWD"
      }
    },
    {
      "cell_type": "code",
      "source": [
        "brasilOlimpico['ID'].count()"
      ],
      "metadata": {
        "colab": {
          "base_uri": "https://localhost:8080/"
        },
        "id": "9D5fv2B93uEq",
        "outputId": "df7a70a3-b0c8-4c2b-d760-335039b6892b"
      },
      "execution_count": 108,
      "outputs": [
        {
          "output_type": "execute_result",
          "data": {
            "text/plain": [
              "3784"
            ]
          },
          "metadata": {},
          "execution_count": 108
        }
      ]
    },
    {
      "cell_type": "markdown",
      "source": [
        "- Vamos plotar um gráfico para observar visualmente a evolução da quantidade de participações ao longo das edições dos jogos olímpicos."
      ],
      "metadata": {
        "id": "NmKqZ2KM5IIs"
      }
    },
    {
      "cell_type": "code",
      "source": [
        "sns.set(style=\"darkgrid\")\n",
        "plt.figure(figsize=(16, 8))\n",
        "sns.countplot(x='Year', data=brasilOlimpico, palette='Spectral')\n",
        "plt.title('Evolução da Quantidade de Participantes Olimpicos')"
      ],
      "metadata": {
        "colab": {
          "base_uri": "https://localhost:8080/",
          "height": 535
        },
        "id": "5bIRar8mtSJb",
        "outputId": "3fdce89e-f936-45aa-c942-b1691aeabbe5"
      },
      "execution_count": 260,
      "outputs": [
        {
          "output_type": "execute_result",
          "data": {
            "text/plain": [
              "Text(0.5, 1.0, 'Evolução da Quantidade de Participantes Olimpicos')"
            ]
          },
          "metadata": {},
          "execution_count": 260
        },
        {
          "output_type": "display_data",
          "data": {
            "text/plain": [
              "<Figure size 1152x576 with 1 Axes>"
            ],
            "image/png": "[encoded data removed]"
          },
          "metadata": {}
        }
      ]
    },
    {
      "cell_type": "markdown",
      "source": [
        "- As **três edições** com maiores participações de atletas brasileiros foram no anos de:"
      ],
      "metadata": {
        "id": "07yYJZar9NKR"
      }
    },
    {
      "cell_type": "code",
      "source": [
        "brasilOlimpico.Year.value_counts().reset_index(name='Medalhas').head(3)"
      ],
      "metadata": {
        "colab": {
          "base_uri": "https://localhost:8080/",
          "height": 143
        },
        "id": "txqH0IXkQWxB",
        "outputId": "a93a0ff1-dfd6-4506-8344-1e86039ca6db"
      },
      "execution_count": 110,
      "outputs": [
        {
          "output_type": "execute_result",
          "data": {
            "text/plain": [
              "   index  Medalhas\n",
              "0   2016       583\n",
              "1   2008       338\n",
              "2   2004       318"
            ],
            "text/html": [
              "\n",
              "  <div id=\"df-bfdb75e8-f538-4e05-b7b4-d0c7153f09b4\">\n",
              "    <div class=\"colab-df-container\">\n",
              "      <div>\n",
              "<style scoped>\n",
              "    .dataframe tbody tr th:only-of-type {\n",
              "        vertical-align: middle;\n",
              "    }\n",
              "\n",
              "    .dataframe tbody tr th {\n",
              "        vertical-align: top;\n",
              "    }\n",
              "\n",
              "    .dataframe thead th {\n",
              "        text-align: right;\n",
              "    }\n",
              "</style>\n",
              "<table border=\"1\" class=\"dataframe\">\n",
              "  <thead>\n",
              "    <tr style=\"text-align: right;\">\n",
              "      <th></th>\n",
              "      <th>index</th>\n",
              "      <th>Medalhas</th>\n",
              "    </tr>\n",
              "  </thead>\n",
              "  <tbody>\n",
              "    <tr>\n",
              "      <th>0</th>\n",
              "      <td>2016</td>\n",
              "      <td>583</td>\n",
              "    </tr>\n",
              "    <tr>\n",
              "      <th>1</th>\n",
              "      <td>2008</td>\n",
              "      <td>338</td>\n",
              "    </tr>\n",
              "    <tr>\n",
              "      <th>2</th>\n",
              "      <td>2004</td>\n",
              "      <td>318</td>\n",
              "    </tr>\n",
              "  </tbody>\n",
              "</table>\n",
              "</div>\n",
              "      <button class=\"colab-df-convert\" onclick=\"convertToInteractive('df-bfdb75e8-f538-4e05-b7b4-d0c7153f09b4')\"\n",
              "              title=\"Convert this dataframe to an interactive table.\"\n",
              "              style=\"display:none;\">\n",
              "        \n",
              "  <svg xmlns=\"http://www.w3.org/2000/svg\" height=\"24px\"viewBox=\"0 0 24 24\"\n",
              "       width=\"24px\">\n",
              "    <path d=\"M0 0h24v24H0V0z\" fill=\"none\"/>\n",
              "    <path d=\"M18.56 5.44l.94 2.06.94-2.06 2.06-.94-2.06-.94-.94-2.06-.94 2.06-2.06.94zm-11 1L8.5 8.5l.94-2.06 2.06-.94-2.06-.94L8.5 2.5l-.94 2.06-2.06.94zm10 10l.94 2.06.94-2.06 2.06-.94-2.06-.94-.94-2.06-.94 2.06-2.06.94z\"/><path d=\"M17.41 7.96l-1.37-1.37c-.4-.4-.92-.59-1.43-.59-.52 0-1.04.2-1.43.59L10.3 9.45l-7.72 7.72c-.78.78-.78 2.05 0 2.83L4 21.41c.39.39.9.59 1.41.59.51 0 1.02-.2 1.41-.59l7.78-7.78 2.81-2.81c.8-.78.8-2.07 0-2.86zM5.41 20L4 18.59l7.72-7.72 1.47 1.35L5.41 20z\"/>\n",
              "  </svg>\n",
              "      </button>\n",
              "      \n",
              "  <style>\n",
              "    .colab-df-container {\n",
              "      display:flex;\n",
              "      flex-wrap:wrap;\n",
              "      gap: 12px;\n",
              "    }\n",
              "\n",
              "    .colab-df-convert {\n",
              "      background-color: #E8F0FE;\n",
              "      border: none;\n",
              "      border-radius: 50%;\n",
              "      cursor: pointer;\n",
              "      display: none;\n",
              "      fill: #1967D2;\n",
              "      height: 32px;\n",
              "      padding: 0 0 0 0;\n",
              "      width: 32px;\n",
              "    }\n",
              "\n",
              "    .colab-df-convert:hover {\n",
              "      background-color: #E2EBFA;\n",
              "      box-shadow: 0px 1px 2px rgba(60, 64, 67, 0.3), 0px 1px 3px 1px rgba(60, 64, 67, 0.15);\n",
              "      fill: #174EA6;\n",
              "    }\n",
              "\n",
              "    [theme=dark] .colab-df-convert {\n",
              "      background-color: #3B4455;\n",
              "      fill: #D2E3FC;\n",
              "    }\n",
              "\n",
              "    [theme=dark] .colab-df-convert:hover {\n",
              "      background-color: #434B5C;\n",
              "      box-shadow: 0px 1px 3px 1px rgba(0, 0, 0, 0.15);\n",
              "      filter: drop-shadow(0px 1px 2px rgba(0, 0, 0, 0.3));\n",
              "      fill: #FFFFFF;\n",
              "    }\n",
              "  </style>\n",
              "\n",
              "      <script>\n",
              "        const buttonEl =\n",
              "          document.querySelector('#df-bfdb75e8-f538-4e05-b7b4-d0c7153f09b4 button.colab-df-convert');\n",
              "        buttonEl.style.display =\n",
              "          google.colab.kernel.accessAllowed ? 'block' : 'none';\n",
              "\n",
              "        async function convertToInteractive(key) {\n",
              "          const element = document.querySelector('#df-bfdb75e8-f538-4e05-b7b4-d0c7153f09b4');\n",
              "          const dataTable =\n",
              "            await google.colab.kernel.invokeFunction('convertToInteractive',\n",
              "                                                     [key], {});\n",
              "          if (!dataTable) return;\n",
              "\n",
              "          const docLinkHtml = 'Like what you see? Visit the ' +\n",
              "            '<a target=\"_blank\" href=https://colab.research.google.com/notebooks/data_table.ipynb>data table notebook</a>'\n",
              "            + ' to learn more about interactive tables.';\n",
              "          element.innerHTML = '';\n",
              "          dataTable['output_type'] = 'display_data';\n",
              "          await google.colab.output.renderOutput(dataTable, element);\n",
              "          const docLink = document.createElement('div');\n",
              "          docLink.innerHTML = docLinkHtml;\n",
              "          element.appendChild(docLink);\n",
              "        }\n",
              "      </script>\n",
              "    </div>\n",
              "  </div>\n",
              "  "
            ]
          },
          "metadata": {},
          "execution_count": 110
        }
      ]
    },
    {
      "cell_type": "markdown",
      "source": [
        "* Vale ressaltar que um atleta pode participar de mais de um evento por olímpiada."
      ],
      "metadata": {
        "id": "NHMKP6VCmjbn"
      }
    },
    {
      "cell_type": "markdown",
      "source": [
        "###8.1.1. Atletas Olímpicos Brasileiros - Masculino\n",
        "\n"
      ],
      "metadata": {
        "id": "-9bqt4oAP56G"
      }
    },
    {
      "cell_type": "markdown",
      "source": [
        "- Vamos plotar um gráfico de linhas para **avaliar a variação de atletas brasileiros masculinos olímpicos ao longo do tempo**."
      ],
      "metadata": {
        "id": "n7r1dLOEQDFQ"
      }
    },
    {
      "cell_type": "code",
      "source": [
        "part = brasilOlimpico.groupby('Year')['Sex'].value_counts()\n",
        "plt.figure(figsize=(18, 8))\n",
        "part.loc[:,'M'].plot()\n",
        "plt.title('Variação de Atletas Masculinos Olímpicos ao Longo do Tempo')"
      ],
      "metadata": {
        "colab": {
          "base_uri": "https://localhost:8080/",
          "height": 535
        },
        "id": "UOeEGzcVOh1J",
        "outputId": "02c13186-c7d1-4bec-a2aa-414217caa9c6"
      },
      "execution_count": 161,
      "outputs": [
        {
          "output_type": "execute_result",
          "data": {
            "text/plain": [
              "Text(0.5, 1.0, 'Variação de Atletas Masculinos Olímpicos ao Longo do Tempo')"
            ]
          },
          "metadata": {},
          "execution_count": 161
        },
        {
          "output_type": "display_data",
          "data": {
            "text/plain": [
              "<Figure size 1296x576 with 1 Axes>"
            ],
            "image/png": "[encoded data removed]"
          },
          "metadata": {}
        }
      ]
    },
    {
      "cell_type": "markdown",
      "source": [
        "- O crescimento da participação masculina nos jogos olímpicos é **constante mas não tão intensa** quanto ao crescimento do gênero feminino.\n",
        "<br>\n",
        "<br>\n",
        "- Nos jogos de Sydney observa-se uma diminuição na tendência de crescimento no número de participantes masculinos nos jogos de verão;\n",
        "<br>\n",
        "<br>\n",
        "- O crescimento recomeçou lentamente nos jogos de Atenas com um salto absurdo na Rio(2016).\n",
        "    * Devemos lembrar que o Brasil foi o país sede das Olímpiadas em 2016, garantindo assim vaga em todas as modalidades."
      ],
      "metadata": {
        "id": "uPX71Ak7RXwG"
      }
    },
    {
      "cell_type": "markdown",
      "source": [
        "###8.1.2. Atletas Olímpicos Brasileiros - Feminino"
      ],
      "metadata": {
        "id": "hQamW0JHQEfq"
      }
    },
    {
      "cell_type": "markdown",
      "source": [
        "- Vamos plotar um gráfico de linhas para **avaliar a variação de atletas brasileiros femininos olímpicos ao longo do tempo**."
      ],
      "metadata": {
        "id": "tt-KYzDoQF9Q"
      }
    },
    {
      "cell_type": "code",
      "source": [
        "part = brasilOlimpico.groupby('Year')['Sex'].value_counts()\n",
        "plt.figure(figsize=(18, 8))\n",
        "part.loc[:,'F'].plot()\n",
        "plt.title('Variação de Atletas Femininos Olímpicos ao Longo do Tempo')"
      ],
      "metadata": {
        "colab": {
          "base_uri": "https://localhost:8080/",
          "height": 535
        },
        "id": "bsaI_Wq7OlV3",
        "outputId": "ee7f8daa-a30b-4879-aca1-6fa9a91d0b0a"
      },
      "execution_count": 162,
      "outputs": [
        {
          "output_type": "execute_result",
          "data": {
            "text/plain": [
              "Text(0.5, 1.0, 'Variação de Atletas Femininos Olímpicos ao Longo do Tempo')"
            ]
          },
          "metadata": {},
          "execution_count": 162
        },
        {
          "output_type": "display_data",
          "data": {
            "text/plain": [
              "<Figure size 1296x576 with 1 Axes>"
            ],
            "image/png": "[encoded data removed]"
          },
          "metadata": {}
        }
      ]
    },
    {
      "cell_type": "markdown",
      "source": [
        "- Temos um **aumento acentuado** da participação feminina em jogos;\n",
        "<br>\n",
        "<br>\n",
        "- O crescimento é constante.\n",
        "<br>\n",
        "  * Devemos lembrar que o Brasil foi o país sede das Olímpiadas em 2016, garantindo assim vaga em todas as modalidades.\n",
        "<br>\n",
        "<br>\n",
        "- Vale ressaltar que:\n",
        "<br>     \n",
        "    - um atleta pode participar de mais de um categoria esportiva por olímpiada;\n",
        "<br>  \n",
        "    - Estamos considerando a quantidade por atletas e não por modalidade esportiva,ou seja, não levamos em consideração a especificidade (individual ou coletiva)."
      ],
      "metadata": {
        "id": "9YHQCSQNRN6G"
      }
    },
    {
      "cell_type": "markdown",
      "source": [
        "###8.1.3. Comparação dos Atletas Olímpicos Brasileiros por Gênero"
      ],
      "metadata": {
        "id": "dJqSK4F-aLE1"
      }
    },
    {
      "cell_type": "markdown",
      "source": [
        "- Vamos plotar um gráfico comparando a quantidade de participantes brasileiros por edições dos jogos olímpicos diferenciando os mesmos por gêneros."
      ],
      "metadata": {
        "id": "T9WwR2JraSVe"
      }
    },
    {
      "cell_type": "code",
      "source": [
        "# cor do marcador global\n",
        "m_color = \"rgb(47,138,196)\"\n",
        "\n",
        "\n",
        "brasilOlimpico = brasilOlimpico.copy()\n",
        "brasilOlimpico['Year'] = brasilOlimpico['Year'].dropna().astype('float')\n",
        "\n",
        "\n",
        "\n",
        "fig = px.histogram(brasilOlimpico, x=\"Year\",color=\"Sex\",barmode=\"overlay\", \n",
        "                   color_discrete_map={\"F\": \"rgb(237,100,90)\", \"M\": m_color})\n",
        "\n",
        "fig.update_layout(\n",
        "    {\"plot_bgcolor\": \"rgba(255,255,255, 0.9)\"},  # Fundo branco\n",
        "    title={\n",
        "        \"text\": \"Participantes Brasileiros dos Jogos por Gênero\",\n",
        "        \"y\": 0.98,\n",
        "        \"x\": 0.5,\n",
        "        \"xanchor\": \"center\",\n",
        "        \"yanchor\": \"top\",\n",
        "    }\n",
        ")\n",
        "\n",
        "\n",
        "fig.show()"
      ],
      "metadata": {
        "colab": {
          "base_uri": "https://localhost:8080/",
          "height": 542
        },
        "id": "4u_cuzodY2ql",
        "outputId": "5ce35951-7c75-47cf-d682-37c641dc4903"
      },
      "execution_count": 271,
      "outputs": [
        {
          "output_type": "display_data",
          "data": {
            "text/html": [
              "<html>\n",
              "<head><meta charset=\"utf-8\" /></head>\n",
              "<body>\n",
              "    <div>            <script src=\"https://cdnjs.cloudflare.com/ajax/libs/mathjax/2.7.5/MathJax.js?config=TeX-AMS-MML_SVG\"></script><script type=\"text/javascript\">if (window.MathJax) {MathJax.Hub.Config({SVG: {font: \"STIX-Web\"}});}</script>                <script type=\"text/javascript\">window.PlotlyConfig = {MathJaxConfig: 'local'};</script>\n",
              "        <script src=\"https://cdn.plot.ly/plotly-2.8.3.min.js\"></script>                <div id=\"d3cae980-560f-46de-a31b-da0d7f2b55ac\" class=\"plotly-graph-div\" style=\"height:525px; width:100%;\"></div>            <script type=\"text/javascript\">                                    window.PLOTLYENV=window.PLOTLYENV || {};                                    if (document.getElementById(\"d3cae980-560f-46de-a31b-da0d7f2b55ac\")) {                    Plotly.newPlot(                        \"d3cae980-560f-46de-a31b-da0d7f2b55ac\",                        [{\"alignmentgroup\":\"True\",\"bingroup\":\"x\",\"hovertemplate\":\"Sex=M<br>Year=%{x}<br>count=%{y}<extra></extra>\",\"legendgroup\":\"M\",\"marker\":{\"color\":\"rgb(47,138,196)\",\"opacity\":0.5,\"pattern\":{\"shape\":\"\"}},\"name\":\"M\",\"offsetgroup\":\"M\",\"orientation\":\"v\",\"showlegend\":true,\"x\":[1972.0,1976.0,1972.0,2004.0,1984.0,1988.0,2004.0,1984.0,1988.0,1952.0,1964.0,1972.0,1980.0,1984.0,1984.0,1988.0,1992.0,1984.0,1988.0,1992.0,1964.0,1996.0,2004.0,1984.0,2004.0,2008.0,2012.0,2016.0,1992.0,1936.0,1976.0,2008.0,2016.0,2016.0,1996.0,1968.0,1936.0,1936.0,1936.0,1948.0,2000.0,2012.0,2008.0,2012.0,1948.0,1952.0,1956.0,1960.0,2012.0,2016.0,1968.0,2016.0,2016.0,2016.0,2008.0,2008.0,2008.0,2016.0,2016.0,2004.0,2004.0,2004.0,2008.0,2008.0,2008.0,2012.0,2012.0,2012.0,2016.0,2016.0,2016.0,2008.0,1952.0,1988.0,1976.0,1984.0,1988.0,2016.0,1996.0,1980.0,1984.0,2000.0,2016.0,1976.0,2012.0,1996.0,1996.0,1936.0,1980.0,1984.0,1988.0,1992.0,1956.0,1960.0,1964.0,1920.0,1920.0,1932.0,2008.0,2004.0,2008.0,1988.0,1988.0,1988.0,1952.0,2016.0,1996.0,1996.0,1980.0,2012.0,2012.0,2016.0,1984.0,1952.0,1956.0,1972.0,2016.0,1968.0,1972.0,2016.0,2016.0,2000.0,1968.0,1968.0,1972.0,1972.0,1972.0,1972.0,1988.0,1972.0,1972.0,1972.0,1976.0,1976.0,1976.0,1980.0,1980.0,2012.0,2016.0,1956.0,1956.0,1960.0,1960.0,2016.0,1968.0,1988.0,1992.0,2004.0,1936.0,1972.0,1972.0,2000.0,2016.0,1988.0,1988.0,1976.0,1972.0,1972.0,1988.0,1992.0,2016.0,1980.0,1984.0,1972.0,1976.0,2004.0,2008.0,2016.0,2000.0,1936.0,2004.0,2016.0,1992.0,1996.0,1952.0,1956.0,1960.0,1920.0,1920.0,2008.0,2008.0,2012.0,1984.0,1984.0,1988.0,1988.0,1992.0,1996.0,2012.0,2016.0,2000.0,2016.0,2016.0,2016.0,2016.0,2016.0,2016.0,2016.0,2016.0,2016.0,2000.0,1988.0,2004.0,1976.0,1988.0,2016.0,1988.0,1996.0,1972.0,1976.0,1992.0,1992.0,1972.0,1948.0,1964.0,2008.0,2012.0,2012.0,2016.0,2016.0,2016.0,2004.0,1952.0,1956.0,1956.0,1984.0,1988.0,1992.0,1996.0,2000.0,2016.0,1976.0,1980.0,1984.0,1980.0,1984.0,1996.0,2016.0,1948.0,1948.0,1972.0,1976.0,1980.0,2000.0,2000.0,2004.0,2008.0,2012.0,2016.0,1964.0,1968.0,1972.0,1948.0,1980.0,1960.0,1960.0,1984.0,1984.0,1960.0,1948.0,1948.0,1952.0,1952.0,1972.0,1956.0,2016.0,2004.0,2004.0,2012.0,2016.0,2016.0,1988.0,1992.0,1948.0,1984.0,1948.0,1952.0,1952.0,1984.0,2016.0,2016.0,1992.0,1992.0,1992.0,1992.0,1992.0,1996.0,1996.0,1996.0,1996.0,2000.0,2000.0,2000.0,2004.0,2016.0,2016.0,2016.0,1964.0,1968.0,1960.0,1960.0,1948.0,1952.0,1984.0,1932.0,1936.0,1948.0,1976.0,1980.0,1980.0,1924.0,1932.0,1924.0,1960.0,1948.0,1952.0,2016.0,1932.0,2008.0,1992.0,1964.0,1968.0,1972.0,1976.0,1980.0,1976.0,1980.0,2008.0,2012.0,2016.0,1972.0,2016.0,1948.0,1952.0,2016.0,1924.0,1936.0,1996.0,1980.0,1984.0,1988.0,1992.0,1996.0,1984.0,1984.0,2008.0,2012.0,2016.0,2016.0,2016.0,1936.0,2000.0,2008.0,2012.0,2016.0,1984.0,1976.0,2016.0,1996.0,2004.0,1976.0,1980.0,1984.0,1964.0,1932.0,1992.0,1988.0,1992.0,1988.0,1980.0,1984.0,1988.0,1992.0,1984.0,1976.0,1952.0,1960.0,1980.0,1980.0,1984.0,1988.0,1992.0,1984.0,1984.0,1952.0,1964.0,1968.0,1984.0,1984.0,1984.0,1984.0,2008.0,1980.0,1984.0,1952.0,1988.0,1988.0,1932.0,2000.0,2000.0,2004.0,2004.0,2004.0,2008.0,2008.0,2008.0,1992.0,1936.0,1972.0,2000.0,2000.0,1952.0,1952.0,1952.0,1976.0,1972.0,2012.0,2016.0,1964.0,1972.0,1984.0,1992.0,1996.0,2016.0,1984.0,1976.0,2012.0,2012.0,2016.0,2016.0,2016.0,1968.0,1960.0,1996.0,2008.0,1960.0,2016.0,1920.0,2008.0,2008.0,2008.0,2012.0,2012.0,2016.0,2012.0,1964.0,1948.0,1948.0,1948.0,2008.0,2012.0,2000.0,1996.0,2008.0,2012.0,2016.0,1960.0,1968.0,1972.0,1976.0,1980.0,1996.0,1968.0,1972.0,1936.0,2016.0,2008.0,2012.0,1980.0,1980.0,1984.0,1984.0,1996.0,2000.0,2000.0,1924.0,1924.0,2016.0,1968.0,1968.0,2008.0,1968.0,1968.0,1976.0,1960.0,2016.0,1988.0,2004.0,1984.0,1984.0,1988.0,1988.0,1996.0,1960.0,1984.0,1960.0,1992.0,1992.0,1996.0,1996.0,2000.0,2000.0,2004.0,2004.0,2004.0,1980.0,2012.0,1952.0,1952.0,1956.0,1956.0,1956.0,1960.0,1920.0,1920.0,1964.0,1968.0,1996.0,2016.0,1996.0,1960.0,1932.0,2012.0,2000.0,2004.0,2008.0,1948.0,1952.0,2012.0,2012.0,2016.0,2016.0,1948.0,1952.0,1992.0,1992.0,1936.0,1948.0,1948.0,2000.0,1960.0,1948.0,1952.0,1956.0,1960.0,2016.0,1960.0,1992.0,1996.0,1996.0,2000.0,2000.0,2004.0,2004.0,2008.0,1960.0,1960.0,1984.0,1984.0,1988.0,1992.0,1996.0,1996.0,1996.0,2000.0,2000.0,1996.0,1976.0,2004.0,2012.0,2016.0,2016.0,1984.0,1948.0,1948.0,1948.0,1952.0,1948.0,1948.0,1948.0,1964.0,2016.0,1984.0,1984.0,1932.0,1988.0,1992.0,1984.0,1984.0,1992.0,1924.0,1936.0,1936.0,1932.0,1972.0,1972.0,1956.0,1956.0,1960.0,1960.0,1988.0,2016.0,2012.0,2016.0,1984.0,1984.0,1988.0,1988.0,1992.0,1992.0,1992.0,1996.0,1996.0,1976.0,1976.0,1996.0,1996.0,1980.0,2004.0,2008.0,1992.0,2012.0,2012.0,2016.0,1932.0,1996.0,1980.0,2012.0,1988.0,1960.0,1964.0,2008.0,1976.0,2012.0,1988.0,1992.0,1996.0,2000.0,2004.0,2008.0,2012.0,1960.0,1984.0,2008.0,2016.0,2016.0,2016.0,1960.0,1960.0,1932.0,1996.0,1992.0,2008.0,1960.0,1932.0,1936.0,1936.0,1968.0,1972.0,1992.0,1992.0,1996.0,1996.0,2000.0,1980.0,1980.0,1996.0,2000.0,1964.0,1968.0,1988.0,1996.0,1996.0,2000.0,2000.0,2008.0,2008.0,2012.0,2012.0,2016.0,2016.0,1948.0,1948.0,1956.0,1956.0,1956.0,1936.0,1932.0,1932.0,1936.0,1936.0,2004.0,2008.0,2012.0,1980.0,1984.0,1988.0,1980.0,1984.0,1988.0,1932.0,1956.0,1936.0,2004.0,2008.0,2012.0,2016.0,1932.0,1932.0,1980.0,1980.0,2012.0,2012.0,2016.0,2016.0,2000.0,1948.0,1924.0,1948.0,1952.0,1936.0,2004.0,2004.0,1976.0,1980.0,2008.0,2012.0,2016.0,2004.0,2008.0,1980.0,1980.0,1996.0,2000.0,2004.0,2000.0,2000.0,2004.0,2004.0,2008.0,2008.0,1932.0,2016.0,2016.0,2016.0,2000.0,2004.0,2000.0,2004.0,2016.0,1952.0,1952.0,1988.0,1948.0,1948.0,1952.0,1952.0,1956.0,1956.0,1988.0,1992.0,1992.0,1980.0,2004.0,2016.0,1992.0,1996.0,1976.0,1936.0,1936.0,1936.0,1936.0,1948.0,1952.0,1952.0,1964.0,1976.0,1976.0,1980.0,1980.0,2016.0,1952.0,2016.0,1936.0,2000.0,1968.0,1972.0,1960.0,1960.0,1964.0,1964.0,1936.0,1932.0,1952.0,1948.0,1952.0,1952.0,1936.0,1988.0,1972.0,1952.0,1956.0,1956.0,1936.0,1968.0,1968.0,1976.0,1980.0,2004.0,2004.0,1952.0,1972.0,1976.0,1996.0,1980.0,1984.0,1972.0,1984.0,1984.0,1988.0,2000.0,2004.0,2008.0,1968.0,2008.0,2000.0,2004.0,1936.0,1992.0,1992.0,1992.0,1996.0,1956.0,1996.0,1952.0,1952.0,2016.0,1968.0,1960.0,2000.0,1972.0,1980.0,1980.0,1980.0,1980.0,1984.0,1984.0,1984.0,1984.0,1984.0,1968.0,2008.0,1992.0,1996.0,1964.0,1988.0,1992.0,1988.0,1992.0,1948.0,1960.0,1952.0,1996.0,1948.0,2008.0,1972.0,1952.0,1952.0,1968.0,1968.0,1932.0,2008.0,2016.0,1992.0,1996.0,1948.0,1996.0,1996.0,2000.0,2000.0,2004.0,2004.0,2012.0,2012.0,2016.0,2016.0,1972.0,2016.0,1984.0,1988.0,1988.0,1936.0,2008.0,2012.0,2016.0,1932.0,2004.0,1936.0,2004.0,1988.0,1992.0,1996.0,1984.0,1996.0,1996.0,2008.0,2012.0,2016.0,1952.0,1960.0,1964.0,1980.0,1980.0,1984.0,1984.0,1996.0,1996.0,2000.0,2004.0,2016.0,1952.0,1984.0,1984.0,1952.0,1952.0,1956.0,2016.0,1956.0,1948.0,2016.0,2016.0,1984.0,1984.0,1996.0,1948.0,1948.0,1952.0,1960.0,1960.0,2004.0,2008.0,2016.0,1992.0,2000.0,2016.0,1992.0,1996.0,2016.0,2016.0,2004.0,2008.0,1936.0,2008.0,2012.0,1984.0,1936.0,1936.0,1936.0,1936.0,1936.0,1968.0,2016.0,2016.0,2000.0,2000.0,2004.0,2008.0,1968.0,1992.0,2016.0,1980.0,1984.0,1988.0,1992.0,1980.0,2016.0,1976.0,1988.0,1952.0,1956.0,1960.0,1964.0,2000.0,1976.0,1964.0,1996.0,2000.0,2004.0,2008.0,2012.0,1960.0,1976.0,1980.0,2004.0,2008.0,2012.0,2016.0,1952.0,2016.0,1976.0,2016.0,1948.0,2000.0,2008.0,2000.0,1964.0,1952.0,1956.0,1972.0,1988.0,2012.0,1988.0,1932.0,2016.0,1956.0,1936.0,1964.0,1968.0,2016.0,2016.0,1976.0,1984.0,1992.0,1932.0,1968.0,1968.0,2012.0,2012.0,1960.0,1996.0,1984.0,1948.0,1956.0,1980.0,1980.0,1984.0,1984.0,1992.0,1992.0,1996.0,2000.0,2004.0,2016.0,2016.0,1948.0,1948.0,1952.0,1952.0,1956.0,1956.0,1960.0,1960.0,1948.0,1992.0,1992.0,1996.0,2000.0,1936.0,1968.0,2000.0,1972.0,1976.0,1952.0,1968.0,1968.0,1968.0,1992.0,1968.0,1968.0,1968.0,1972.0,1972.0,1972.0,1976.0,2016.0,2000.0,2000.0,2004.0,2004.0,2004.0,1980.0,1980.0,1984.0,1984.0,2000.0,2004.0,2008.0,2012.0,2016.0,1984.0,1988.0,1996.0,2012.0,1972.0,1920.0,1992.0,1996.0,2000.0,2012.0,2012.0,1980.0,1988.0,1988.0,1988.0,1964.0,1964.0,2008.0,2012.0,1932.0,1988.0,1988.0,1988.0,1988.0,1988.0,1992.0,1992.0,1992.0,1964.0,1992.0,2008.0,2008.0,2012.0,2012.0,2016.0,2016.0,2016.0,1972.0,1936.0,1936.0,1936.0,2012.0,2012.0,2016.0,1972.0,1980.0,1988.0,1988.0,1988.0,1992.0,1992.0,1964.0,1952.0,2012.0,2012.0,2016.0,2016.0,1952.0,1992.0,1996.0,2004.0,1924.0,1924.0,1984.0,1920.0,1920.0,2012.0,1996.0,2012.0,2016.0,1996.0,1968.0,1972.0,1956.0,1948.0,1988.0,2000.0,1976.0,1984.0,1988.0,1992.0,1960.0,1968.0,2016.0,2016.0,2000.0,2004.0,2008.0,2012.0,1968.0,1984.0,1984.0,1980.0,1996.0,1932.0,1992.0,1996.0,2000.0,2004.0,1996.0,2012.0,2016.0,1932.0,1996.0,1984.0,1984.0,1984.0,1984.0,1984.0,1984.0,1984.0,1952.0,1996.0,1924.0,1924.0,2016.0,2008.0,2012.0,1980.0,2016.0,2016.0,1932.0,1932.0,2004.0,2008.0,1932.0,1936.0,1952.0,1952.0,1956.0,1960.0,1964.0,1968.0,2004.0,1972.0,1984.0,1988.0,1992.0,1996.0,2016.0,1984.0,1988.0,1992.0,1996.0,2000.0,2004.0,1980.0,2004.0,2004.0,2008.0,2016.0,1984.0,1952.0,1960.0,1964.0,1992.0,1952.0,1956.0,2016.0,1988.0,1992.0,2004.0,2008.0,1996.0,2008.0,2008.0,2016.0,2016.0,2004.0,2008.0,2012.0,1980.0,1980.0,1984.0,1984.0,1988.0,1932.0,1936.0,1948.0,1952.0,1936.0,1968.0,1968.0,1972.0,1976.0,1980.0,1984.0,2016.0,1996.0,2000.0,2004.0,1984.0,2016.0,1948.0,1932.0,2000.0,2004.0,2008.0,2000.0,2000.0,2016.0,1968.0,2004.0,1952.0,1948.0,1948.0,1948.0,1936.0,1936.0,1952.0,1984.0,2004.0,2008.0,2000.0,2004.0,2008.0,2000.0,1964.0,2000.0,2004.0,2008.0,2016.0,1936.0,1984.0,1992.0,1996.0,2000.0,2004.0,1992.0,1992.0,1996.0,1996.0,2000.0,2000.0,2004.0,2004.0,2008.0,2012.0,2012.0,2016.0,2012.0,2016.0,2012.0,1952.0,1964.0,2008.0,2008.0,2012.0,2016.0,2016.0,2008.0,2016.0,2004.0,1972.0,1972.0,1952.0,1984.0,1988.0,1992.0,1992.0,1996.0,1932.0,2004.0,1984.0,1988.0,1992.0,1996.0,1952.0,2004.0,2004.0,1976.0,2008.0,1960.0,1964.0,2000.0,2004.0,2004.0,1968.0,1972.0,2008.0,2008.0,2008.0,1988.0,1956.0,1980.0,1988.0,1988.0,1996.0,1996.0,2000.0,2000.0,1948.0,1948.0,2004.0,1968.0,2012.0,2012.0,2016.0,2016.0,1992.0,1988.0,1920.0,1920.0,1992.0,1996.0,1976.0,1976.0,2012.0,1980.0,1980.0,1984.0,1984.0,1984.0,1984.0,2012.0,1976.0,1996.0,1976.0,1960.0,1972.0,1976.0,1992.0,1988.0,1988.0,1992.0,1992.0,1980.0,1988.0,1988.0,2000.0,1948.0,1980.0,1980.0,1980.0,1948.0,1948.0,2000.0,1984.0,2012.0,2016.0,1960.0,1968.0,1936.0,1900.0,1900.0,1900.0,1956.0,1992.0,1992.0,1936.0,1992.0,2000.0,2000.0,2004.0,1976.0,1980.0,1988.0,1996.0,1996.0,1992.0,1992.0,1936.0,1936.0,1976.0,2016.0,1952.0,1952.0,1956.0,1952.0,1988.0,1988.0,1988.0,1992.0,1980.0,1996.0,2004.0,1936.0,1992.0,1920.0,1980.0,1980.0,1980.0,1980.0,1984.0,1984.0,1984.0,1988.0,1988.0,1988.0,1988.0,1960.0,1960.0,1960.0,1960.0,1956.0,1956.0,2008.0,1996.0,2016.0,1968.0,1952.0,1932.0,2012.0,1996.0,1996.0,1996.0,2000.0,2000.0,2000.0,1932.0,1936.0,1956.0,2000.0,2008.0,2012.0,1996.0,1936.0,1996.0,2016.0,1988.0,1988.0,1988.0,1988.0,1920.0,1984.0,1992.0,2000.0,2008.0,1932.0,2016.0,1980.0,1980.0,1988.0,1988.0,1992.0,1992.0,2016.0,2016.0,2016.0,2000.0,2008.0,2012.0,1976.0,2000.0,2016.0,1968.0,1996.0,2016.0,1992.0,1996.0,2004.0,1924.0,2016.0,1972.0,1972.0,1972.0,1972.0,1988.0,1988.0,1988.0,1980.0,1984.0,2012.0,2004.0,2004.0,1976.0,1976.0,1976.0,1980.0,1980.0,1980.0,1980.0,1984.0,1984.0,1984.0,2016.0,1932.0,1996.0,2000.0,1988.0,1988.0,1992.0,1976.0,1936.0,2008.0,2016.0,1952.0,1956.0,1956.0,1960.0,1960.0,1980.0,1984.0,1984.0,2004.0,2008.0,1920.0,1952.0,1972.0,1968.0,2004.0,1980.0,1984.0,1988.0,1992.0,2000.0,2008.0,1996.0,1972.0,2008.0,2012.0,1980.0,1984.0,2004.0,2008.0,1932.0,2000.0,1984.0,2016.0,2016.0,2016.0,2016.0,2016.0,2016.0,2016.0,1948.0,1976.0,1984.0,1988.0,1996.0,2004.0,2004.0,2016.0,1952.0,1952.0,1952.0,2016.0,2016.0,1932.0,1956.0,1960.0,1964.0,1968.0,1996.0,2012.0,2016.0,1972.0,1980.0,1984.0,2016.0,1968.0,1968.0,1948.0,1976.0,2016.0,2016.0,1960.0,1960.0,1960.0,2000.0,1972.0,2004.0,1996.0,2000.0,2000.0,2016.0,1964.0,1988.0,1988.0,1992.0,1992.0,1980.0,1980.0,1980.0,1980.0,1988.0,1992.0,1996.0,2000.0,2004.0,1920.0,1920.0,1976.0,1952.0,1988.0,1992.0,1992.0,1996.0,2004.0,1984.0,1988.0,1988.0,2016.0,1932.0,2016.0,2016.0,1992.0,1996.0,1936.0,1936.0,1952.0,2016.0,2016.0,2008.0,2012.0,2016.0,2016.0,1992.0,1936.0,2016.0,2012.0,2016.0,2016.0,1984.0,1984.0,1968.0,1972.0,1996.0,2008.0,1988.0,1988.0,1988.0,1988.0,1988.0,1992.0,1992.0,1992.0,1968.0,1988.0,1992.0,1996.0,1992.0,1996.0,1988.0,1952.0,2004.0,1992.0,1996.0,1972.0,1964.0,1964.0,2004.0,1932.0,1952.0,1956.0,1948.0,1952.0,1936.0,1980.0,1984.0,1988.0,2016.0,1992.0,1992.0,1992.0,1992.0,1992.0,1992.0,1992.0,2004.0,2008.0,2008.0,2012.0,1932.0,1936.0,1936.0,1992.0,1996.0,2008.0,2008.0,1988.0,2008.0,2008.0,1952.0,1952.0,1956.0,1956.0,2000.0,2004.0,2008.0,1968.0,1968.0,1972.0,1976.0,1980.0,2008.0,2004.0,1952.0,1960.0,1964.0,1968.0,1972.0,1976.0,1980.0,2000.0,1964.0,2008.0,2012.0,1936.0,1980.0,1980.0,1984.0,1984.0,1996.0,2000.0,2004.0,1996.0,2004.0,2008.0,1952.0,1960.0,2016.0,2012.0,2012.0,1992.0,1996.0,1984.0,1932.0,2012.0,2016.0,1988.0,2012.0,1996.0,2012.0,2016.0,1936.0,2012.0,2008.0,1988.0,1988.0,1992.0,1964.0,2012.0,2016.0,1972.0,1968.0,1968.0,1976.0,1984.0,1988.0,2000.0,2004.0,2008.0,2012.0,2016.0,1964.0,1960.0,1932.0,1932.0,1936.0,1964.0,1952.0,1952.0,2016.0,2016.0,2016.0,2016.0,2016.0,2016.0,2008.0,2008.0,2008.0,2012.0,2012.0,2016.0,2016.0,2016.0,2012.0,2012.0,1972.0,1972.0,1972.0,1972.0,1992.0,1988.0,2016.0,1996.0,1956.0,1972.0,1976.0,1980.0,1984.0,1992.0,1992.0,2000.0,1980.0,1984.0,1988.0,2012.0,2012.0,1972.0,2016.0,1976.0,1948.0,1932.0,1932.0,1936.0,2016.0,2016.0,2004.0,2008.0,2000.0,1920.0,2016.0,1984.0,1988.0,1992.0,1948.0,1988.0,1992.0,2012.0,1992.0,2000.0,2004.0,1976.0,1984.0,1920.0,1920.0,1920.0,1920.0,1988.0,1992.0,2004.0,2008.0,2012.0,2016.0,2016.0,2004.0,2004.0,2008.0,2008.0,2000.0,2016.0,2016.0,1996.0,1996.0,2000.0,2016.0,2012.0,2016.0,1988.0,1992.0,1996.0,1960.0,1988.0,1992.0,1952.0,1936.0,2008.0,2012.0,1972.0,1980.0,1980.0,1920.0,1920.0,1996.0,1952.0,1952.0,1996.0,2000.0,2016.0,1980.0,2016.0,1996.0,1980.0,1932.0,1968.0,1996.0,2000.0,1932.0,1932.0,1996.0,2004.0,2004.0,2008.0,2008.0,2008.0,2012.0,2012.0,2012.0,2016.0,2000.0,1952.0,1996.0,2016.0,2016.0,2016.0,1960.0,1960.0,1992.0,1992.0,1996.0,1996.0,2000.0,2000.0,2004.0,2004.0,2008.0,2008.0,2012.0,2012.0,1988.0,1956.0,1956.0,1964.0,1968.0,1968.0,1972.0,1992.0,1992.0,1996.0,2000.0,1968.0,1976.0,2008.0,1984.0,1964.0,1968.0,1984.0,1996.0,1996.0,1968.0,1952.0,1956.0,1988.0,1988.0,1988.0,1988.0,1988.0,1988.0,1988.0,2000.0,1960.0,1988.0,1992.0,1996.0,1964.0,1964.0,1968.0,1956.0,1956.0,1956.0,1976.0,1968.0,1964.0,1988.0,1988.0,1988.0,1948.0,1948.0,1960.0,1932.0,2016.0,2016.0,2008.0,2012.0,1980.0,1980.0,1984.0,1984.0,1984.0,1984.0,1984.0,1968.0,1972.0,1968.0,1972.0,1972.0,1932.0,1968.0,1972.0,1976.0,1932.0,1932.0,1992.0,1992.0,1996.0,1996.0,2016.0,2016.0,2016.0,2012.0,2008.0,2016.0,1932.0,1936.0,1964.0,1988.0,1988.0,1992.0,1992.0,2008.0,2004.0,2016.0,1964.0,1948.0,1948.0,1948.0,1932.0,1936.0,1936.0,1996.0,2012.0,2016.0,1996.0,1988.0,1992.0,1932.0,2012.0,2016.0,1996.0,1980.0,1984.0,1988.0,2008.0,2016.0,2004.0,2004.0,2008.0,2008.0,2012.0,2016.0,2012.0,1924.0,1924.0,1996.0,1996.0,1996.0,2000.0,2004.0,2008.0,1956.0,1960.0,2016.0,2016.0,1980.0,1980.0,1980.0,1980.0,1980.0,1980.0,1980.0,1992.0,1996.0,1936.0,1948.0,1948.0,1976.0,1976.0,1980.0,1980.0,1988.0,1988.0,1988.0,2004.0,2012.0,2000.0,2004.0,2008.0,2012.0,1956.0,1948.0,1952.0,1960.0,2016.0,2016.0,2016.0,1996.0,1992.0,1996.0,1972.0,1952.0,1956.0,1960.0,1960.0,2016.0,2016.0,1988.0,1956.0,1964.0,2004.0,2008.0,2012.0,2016.0,2016.0,1984.0,1988.0,2008.0,2012.0,2016.0,1988.0,1996.0,2004.0,2004.0,2004.0,2004.0,2004.0,2004.0,2004.0,1948.0,1948.0,1952.0,1988.0,1996.0,2000.0,1996.0,1988.0,1992.0,2016.0,1988.0,1988.0,1988.0,1988.0,1992.0,1992.0,1996.0,1996.0,2000.0,2000.0,2004.0,2012.0,1996.0,2000.0,2008.0,1984.0,2016.0,1952.0,1952.0,1960.0,1964.0,1968.0,1976.0,1984.0,1988.0,1952.0,2016.0,1960.0,1972.0,1984.0,2016.0,2004.0,2008.0,2012.0,2016.0,2012.0,2016.0,2008.0,2000.0,2004.0,1960.0,1996.0,1980.0,2004.0,2008.0,2008.0,2016.0,1920.0,1920.0,1960.0,2008.0,2016.0,2016.0,1968.0,2012.0,1984.0,2000.0,2004.0,2004.0,2008.0,1988.0,2016.0,1976.0,2008.0,1988.0,2016.0,1996.0,2016.0,2008.0,2012.0,1984.0,2004.0,2004.0,2012.0,2012.0,2012.0,2012.0,2012.0,2012.0,2016.0,2016.0,2016.0,2016.0,2016.0,2016.0,2016.0,2016.0,1936.0,1996.0,1992.0,1996.0,2004.0,1968.0,2016.0,2016.0,1992.0,1992.0,1996.0,2000.0,2004.0,2008.0,2012.0,2016.0,1952.0,1996.0,1996.0,1996.0,2000.0,2000.0,2000.0,2004.0,1984.0,2008.0,2016.0,1980.0,1984.0,1988.0,1992.0,1996.0,2016.0,1968.0,1996.0,2012.0,2016.0,2016.0,1948.0,1948.0,2012.0,2016.0,1960.0,2000.0,1924.0,1992.0,1996.0,1992.0,1996.0,1984.0,1964.0,1968.0,1932.0,1972.0,1980.0,1984.0,1964.0,1972.0,2012.0,2004.0,1952.0,1992.0,2008.0,2016.0,2016.0,2016.0,1992.0,1996.0,2012.0,2016.0,2008.0,1984.0,2012.0,1996.0,2008.0,2008.0,1992.0,2000.0,1948.0,1988.0,2016.0,2008.0,2012.0,2008.0,2016.0,2000.0,2000.0,2000.0,1972.0,1980.0,1980.0,1988.0,1988.0,2008.0,1984.0,1984.0,1948.0,1952.0,1956.0,1972.0,1964.0,1968.0,1980.0,2016.0,2016.0,2016.0,2016.0,2012.0,2016.0,1964.0,1980.0,1980.0,1984.0,2008.0,1948.0,1956.0,1956.0,2004.0,1992.0,1980.0,2016.0,2016.0,1920.0,1920.0,1920.0,1920.0,1948.0,2016.0,2000.0,2000.0,2004.0,2004.0,2016.0,1984.0,2004.0,2008.0,2016.0,2016.0,2004.0,2004.0,2004.0,1932.0,2008.0,1992.0,1992.0,1992.0,2016.0,1980.0,1984.0,1988.0,1988.0,2012.0,2016.0,1996.0,1988.0,1988.0,1932.0,1936.0,1996.0,1960.0,1964.0,1968.0,2008.0,2016.0,1976.0,1980.0,1964.0,1976.0,2004.0,1936.0,1988.0,1996.0,1992.0,1992.0,1996.0,2000.0,1936.0,1992.0,2012.0,1976.0,1992.0,1996.0,1996.0,1996.0,1996.0,2016.0,2016.0,2016.0,1984.0,1988.0,1988.0,1992.0,1992.0,2016.0,2004.0,2004.0,1984.0,1988.0,1992.0,1992.0,1992.0,1972.0,1996.0,1952.0,1932.0,2016.0,1952.0,1968.0,1960.0,2012.0,2016.0,2016.0,1976.0,1932.0,1984.0,1996.0,1984.0,1968.0,2012.0,1988.0,1988.0,1988.0,2008.0,2008.0,2012.0,2012.0,1992.0,2008.0,2008.0,1980.0,1988.0,2008.0,2008.0,2012.0,2012.0,2016.0,2016.0,2004.0,2008.0,2012.0,1972.0,1936.0,1936.0,1936.0,1964.0,1960.0,1952.0,2016.0,1996.0,1936.0,1936.0,1948.0,1948.0,2016.0,2016.0,2012.0,2004.0,2008.0,1972.0,1952.0,1920.0,2016.0,2008.0,2008.0,2016.0,2016.0,2008.0,2008.0,2008.0,2012.0,2012.0,2016.0,2016.0,1980.0,1984.0,1952.0,1992.0,1932.0,1932.0,1936.0,1936.0,1936.0,1936.0,1952.0,1952.0,1964.0,1968.0,2016.0,2004.0,1972.0,1972.0,2016.0,2012.0,2016.0,1960.0,1988.0,1980.0,1972.0,1920.0,1920.0,1920.0,1980.0,2004.0,2008.0,1976.0,2016.0,1976.0,1980.0,1984.0,1988.0,2016.0,1960.0,1960.0,1964.0,1984.0,1988.0,1932.0,1920.0,1920.0,1920.0,1920.0,2016.0,2016.0,1980.0,1984.0,2012.0,2016.0,2016.0,1992.0,1996.0,2004.0,2008.0,2008.0,1992.0,1960.0,1960.0,1964.0,1964.0,1948.0,2012.0,2016.0,2016.0,1972.0,1972.0,1972.0,1924.0,1924.0,1924.0,1996.0,2012.0,2016.0,1984.0,1988.0,1976.0,1972.0,1996.0,1968.0,1972.0,1952.0,1956.0,1964.0,1996.0,2000.0,1996.0,1976.0,1964.0,2008.0,2016.0,1972.0,2016.0,1952.0,1948.0],\"xaxis\":\"x\",\"yaxis\":\"y\",\"type\":\"histogram\"},{\"alignmentgroup\":\"True\",\"bingroup\":\"x\",\"hovertemplate\":\"Sex=F<br>Year=%{x}<br>count=%{y}<extra></extra>\",\"legendgroup\":\"F\",\"marker\":{\"color\":\"rgb(237,100,90)\",\"opacity\":0.5,\"pattern\":{\"shape\":\"\"}},\"name\":\"F\",\"offsetgroup\":\"F\",\"orientation\":\"v\",\"showlegend\":true,\"x\":[2016.0,2012.0,2016.0,1992.0,1996.0,2000.0,2000.0,2004.0,2008.0,2012.0,2016.0,1996.0,2004.0,2004.0,2008.0,1980.0,2000.0,2008.0,1996.0,2000.0,2004.0,2004.0,2008.0,2012.0,2016.0,2016.0,2004.0,2012.0,2004.0,2008.0,2008.0,2012.0,2016.0,2016.0,2004.0,2004.0,2008.0,2008.0,2012.0,2016.0,1992.0,1996.0,1988.0,1988.0,2004.0,1988.0,1988.0,1988.0,1988.0,2008.0,2012.0,2016.0,1992.0,1996.0,1988.0,1992.0,2008.0,2012.0,2016.0,1992.0,1996.0,2004.0,2008.0,1992.0,2016.0,2016.0,2016.0,2016.0,2016.0,1992.0,2000.0,2004.0,2008.0,2012.0,2016.0,2016.0,2012.0,2016.0,2016.0,2012.0,2016.0,1980.0,2016.0,2004.0,2016.0,2016.0,2016.0,2016.0,2004.0,2004.0,2012.0,2016.0,2016.0,2008.0,2016.0,2008.0,2008.0,2008.0,2008.0,2008.0,2008.0,2008.0,2016.0,2016.0,2016.0,2016.0,2016.0,2016.0,2016.0,2000.0,2004.0,2004.0,2008.0,2012.0,2008.0,2008.0,1976.0,1992.0,2004.0,2016.0,2016.0,2004.0,1996.0,2004.0,2004.0,2012.0,2016.0,2016.0,2016.0,2016.0,2016.0,2004.0,1972.0,1972.0,2000.0,2004.0,2016.0,1992.0,1996.0,2016.0,2016.0,2016.0,2012.0,2012.0,1992.0,2000.0,2016.0,2008.0,2016.0,2008.0,2016.0,1984.0,1984.0,1988.0,1984.0,1984.0,1980.0,1988.0,2016.0,2004.0,2016.0,1992.0,2016.0,2000.0,2004.0,2008.0,2012.0,2016.0,2000.0,2004.0,2008.0,2012.0,2000.0,1992.0,1996.0,2000.0,2004.0,1968.0,1996.0,2000.0,2008.0,2004.0,2004.0,2008.0,2012.0,2016.0,2000.0,2000.0,2000.0,2000.0,2000.0,2004.0,2004.0,2004.0,2004.0,2004.0,2004.0,2016.0,2008.0,2000.0,2000.0,1980.0,1980.0,1980.0,1980.0,1980.0,2016.0,2004.0,2008.0,2012.0,2016.0,2016.0,2012.0,2016.0,2016.0,2004.0,2004.0,2012.0,2012.0,2016.0,2016.0,1936.0,1936.0,1948.0,1948.0,1948.0,1952.0,2016.0,2004.0,2008.0,2012.0,2016.0,2008.0,2016.0,1996.0,1984.0,1988.0,1948.0,1948.0,2016.0,2012.0,2016.0,1996.0,2000.0,2004.0,2008.0,2012.0,2016.0,2016.0,2000.0,2004.0,2004.0,2012.0,2012.0,2008.0,2012.0,2016.0,1984.0,2012.0,2000.0,2004.0,2008.0,2000.0,2004.0,2008.0,2012.0,2016.0,2004.0,2008.0,2012.0,2016.0,2004.0,2008.0,1980.0,2000.0,1988.0,2012.0,2016.0,1952.0,1952.0,2000.0,2012.0,2012.0,2016.0,2012.0,2012.0,2016.0,2016.0,2016.0,1984.0,1948.0,1948.0,1952.0,1952.0,2012.0,2016.0,2004.0,2004.0,2008.0,2008.0,1948.0,1948.0,1992.0,1996.0,1948.0,1952.0,2016.0,2016.0,2000.0,2000.0,2008.0,2012.0,2012.0,2016.0,2016.0,2016.0,2008.0,1936.0,2016.0,2016.0,1996.0,1996.0,2016.0,2016.0,2004.0,2004.0,2008.0,2008.0,2008.0,2012.0,2016.0,2016.0,1996.0,2004.0,2004.0,1964.0,1968.0,2012.0,2016.0,2016.0,2012.0,2016.0,2004.0,2004.0,2004.0,2004.0,2004.0,2008.0,2008.0,2008.0,2012.0,2012.0,2012.0,2008.0,2012.0,2012.0,2016.0,2000.0,2000.0,2004.0,2008.0,2016.0,2000.0,1952.0,1952.0,1960.0,1992.0,1992.0,1996.0,1996.0,2016.0,2008.0,2004.0,1996.0,2000.0,2004.0,2000.0,2008.0,2012.0,2016.0,2004.0,2012.0,2016.0,2008.0,2012.0,2008.0,2012.0,2008.0,2012.0,2016.0,2004.0,2008.0,2012.0,2016.0,2016.0,2004.0,2008.0,2012.0,1996.0,1968.0,1968.0,2016.0,2008.0,1988.0,1988.0,1992.0,1992.0,1984.0,2012.0,2016.0,2016.0,2000.0,2000.0,1988.0,1992.0,1996.0,2004.0,2008.0,2008.0,2000.0,2004.0,2012.0,2012.0,2016.0,2016.0,2012.0,2016.0,2004.0,2004.0,2008.0,2008.0,2008.0,2000.0,2012.0,2008.0,2012.0,1988.0,1988.0,1988.0,1996.0,2004.0,1984.0,1984.0,1984.0,1984.0,1984.0,1996.0,1992.0,1996.0,2000.0,2004.0,2008.0,1996.0,2000.0,2004.0,2008.0,2012.0,2016.0,1992.0,1996.0,2000.0,2004.0,2008.0,2012.0,2008.0,2012.0,2008.0,2008.0,2008.0,2008.0,2008.0,2012.0,2012.0,2012.0,2012.0,2012.0,2008.0,2012.0,2016.0,2016.0,2012.0,2016.0,1976.0,1984.0,1984.0,2016.0,1980.0,1984.0,1984.0,1988.0,2016.0,2016.0,2016.0,2016.0,2008.0,2008.0,2004.0,2012.0,1972.0,1972.0,1972.0,1976.0,2004.0,2004.0,2004.0,2004.0,1992.0,2000.0,2004.0,2004.0,1992.0,2012.0,2016.0,1992.0,1996.0,1992.0,1996.0,2004.0,2000.0,2000.0,2000.0,2000.0,2000.0,2004.0,2004.0,2004.0,2004.0,2004.0,2004.0,2008.0,2008.0,2008.0,2008.0,2008.0,2012.0,2012.0,2012.0,2012.0,2012.0,2016.0,2016.0,2016.0,1984.0,1992.0,1996.0,1980.0,1984.0,2016.0,2016.0,1992.0,2000.0,2004.0,2004.0,2016.0,2000.0,2004.0,2008.0,1992.0,1996.0,2000.0,2004.0,2000.0,2008.0,2012.0,2016.0,1988.0,1988.0,2000.0,1992.0,2016.0,2000.0,2004.0,2012.0,2008.0,2000.0,2004.0,2008.0,2012.0,2000.0,1996.0,2000.0,2000.0,2004.0,2008.0,2016.0,2004.0,2000.0,2000.0,2004.0,1988.0,2016.0,2004.0,2008.0,2012.0,1992.0,1992.0,1996.0,1996.0,2004.0,2012.0,2000.0,2012.0,2016.0,2016.0,2004.0,2012.0,2012.0,2016.0,2016.0,2016.0,2008.0,2012.0,2016.0,2012.0,2012.0,2012.0,2012.0,2012.0,1996.0,2004.0,1992.0,1996.0,2000.0,2008.0,1980.0,1984.0,1988.0,2012.0,2012.0,2004.0,2008.0,2008.0,2008.0,2008.0,1932.0,1932.0,1932.0,1936.0,2000.0,2016.0,2016.0,2012.0,2016.0,2016.0,2012.0,2016.0,1992.0,1992.0,2016.0,2016.0,2016.0,2000.0,2004.0,2008.0,1948.0,1948.0,2016.0,2016.0,2016.0,1988.0,1988.0,1984.0,2004.0,2008.0,2016.0,1996.0,2004.0,2000.0,2008.0,2012.0,2016.0,2016.0,2008.0,2004.0,2008.0,2004.0,2004.0,2004.0,2008.0,2008.0,2008.0,2012.0,2012.0,2016.0,2016.0,2016.0,2016.0,2016.0,1988.0,1992.0,1996.0,2004.0,2008.0,2012.0,1996.0,2000.0,2008.0,2012.0,2016.0,2004.0,2008.0,2012.0,2016.0,2016.0,2016.0,2000.0,2012.0,2008.0,1980.0,2008.0,2012.0,2012.0,2016.0,1992.0,2000.0,2004.0,2008.0,2016.0,2016.0,2016.0,2016.0,1996.0,1980.0,1996.0,2004.0,2008.0,2008.0,2012.0,2016.0,1996.0,2000.0,2008.0,2016.0,2016.0,1996.0,2016.0,2012.0,2016.0,1988.0,1988.0,2016.0,2016.0,2000.0,2000.0,2008.0,2008.0,2012.0,2004.0,2004.0,2004.0,2016.0,2000.0,2004.0,2016.0,1988.0,2000.0,2004.0,2000.0,2004.0,2016.0,2000.0,2004.0,2000.0,2004.0,1948.0,1948.0,1988.0,1992.0,1996.0,2004.0,2008.0,2016.0,1948.0,1948.0,1948.0,2008.0,2008.0,2012.0,2016.0,1976.0,1992.0,2016.0,2000.0,1992.0,1996.0,2004.0,2012.0,2016.0,1992.0,1996.0,2000.0,2016.0,2016.0,2016.0,2004.0,2008.0,2008.0,2016.0,2000.0,2004.0,2008.0,2008.0,2012.0,2016.0,2016.0,2000.0,2004.0,2008.0,2012.0,2016.0,2016.0,2016.0,2008.0,2004.0,2016.0,2016.0,2016.0,2016.0,2016.0,1980.0,2016.0,2016.0,2012.0,2016.0,2016.0,2004.0,2008.0,1996.0,2016.0,2016.0,2004.0,1992.0,1996.0,2008.0,2012.0,2016.0,2016.0,1988.0,1992.0,1996.0,1988.0,1988.0,1988.0,2016.0,1984.0,1976.0,1976.0,2016.0,2016.0,2016.0,2012.0,2016.0,2004.0,2004.0,2008.0,2012.0,2016.0,2008.0,2012.0,1948.0,1948.0,2016.0,2004.0,1992.0,2012.0,2016.0,2008.0,1996.0,2000.0,2004.0,2008.0,1956.0,2008.0,2012.0,2016.0,2016.0,2016.0,1988.0,2000.0,2000.0,2016.0,2008.0,2008.0,1988.0,1988.0,1984.0,1984.0,1988.0,1988.0,1988.0,1988.0,1988.0,1988.0,1992.0,1992.0,1992.0,1992.0,1992.0,1976.0,1976.0,2000.0,1984.0,1988.0,1988.0,1988.0,2016.0,2012.0,2016.0,2016.0,2004.0,2004.0,2004.0,2004.0,2004.0,2004.0,1992.0,1996.0,2012.0,2016.0,1996.0,1948.0,2000.0,1984.0,2016.0,2008.0,2016.0,2000.0,2004.0,2008.0,2012.0,1996.0,1996.0,1996.0,1996.0,1996.0,2000.0,2004.0,1992.0,2008.0,2008.0,2008.0,1996.0,2000.0,1984.0,1988.0,1996.0,1996.0,2000.0,2004.0,2016.0,2016.0,2016.0,2016.0,2004.0,1988.0,2016.0,2008.0,2012.0,2012.0,2016.0,2016.0,2016.0,2016.0,2016.0,2016.0,2016.0,2016.0,2004.0,2008.0,2012.0,2016.0,2016.0,1992.0,2000.0,1992.0,1948.0,1948.0,2008.0,2012.0,2016.0,2000.0,2004.0,2008.0,2008.0,2008.0,2008.0,2008.0,2000.0,2008.0,2012.0,2012.0,2016.0,1980.0,1984.0,2008.0,2008.0,1980.0,1984.0,1996.0,2012.0,2016.0,2016.0,2008.0,2012.0,2016.0,2012.0,2016.0,1996.0,2000.0,2004.0,2012.0,2016.0,2016.0,2000.0,2008.0,2016.0,1996.0,2000.0,2016.0,1992.0,1996.0,2000.0,2000.0,2004.0,1996.0,2012.0,2012.0,2016.0,1992.0,2012.0,2004.0,2004.0,2004.0,2004.0,2004.0,2004.0,2008.0,2008.0,2008.0,2008.0,2012.0,2012.0,2008.0,2016.0,1984.0,2012.0,1988.0,2000.0,1996.0,1992.0,2008.0,2016.0,1996.0,2016.0,2016.0,2008.0,2012.0,2016.0,2016.0,2012.0,1996.0,2000.0,2004.0,2008.0,1972.0,1972.0,1976.0,1976.0,2016.0,2008.0,2012.0,2016.0,1980.0,2016.0,1988.0,1988.0,2004.0,2008.0,2008.0,2012.0,2008.0,2012.0,2016.0,2016.0,1992.0,2004.0,2008.0,2004.0,2008.0,1992.0,1992.0,2000.0,2000.0,2004.0,2004.0,2008.0,2012.0,2016.0,2016.0,2016.0,2016.0,1936.0,1936.0,2016.0,2016.0,2016.0,1992.0,1992.0,1988.0,1988.0,2008.0,1980.0,1996.0,2000.0,2004.0,2004.0,1936.0,2000.0,2004.0,2008.0,2016.0,2000.0,1996.0,2004.0,2000.0,1992.0,1936.0],\"xaxis\":\"x\",\"yaxis\":\"y\",\"type\":\"histogram\"}],                        {\"template\":{\"data\":{\"bar\":[{\"error_x\":{\"color\":\"#2a3f5f\"},\"error_y\":{\"color\":\"#2a3f5f\"},\"marker\":{\"line\":{\"color\":\"#E5ECF6\",\"width\":0.5},\"pattern\":{\"fillmode\":\"overlay\",\"size\":10,\"solidity\":0.2}},\"type\":\"bar\"}],\"barpolar\":[{\"marker\":{\"line\":{\"color\":\"#E5ECF6\",\"width\":0.5},\"pattern\":{\"fillmode\":\"overlay\",\"size\":10,\"solidity\":0.2}},\"type\":\"barpolar\"}],\"carpet\":[{\"aaxis\":{\"endlinecolor\":\"#2a3f5f\",\"gridcolor\":\"white\",\"linecolor\":\"white\",\"minorgridcolor\":\"white\",\"startlinecolor\":\"#2a3f5f\"},\"baxis\":{\"endlinecolor\":\"#2a3f5f\",\"gridcolor\":\"white\",\"linecolor\":\"white\",\"minorgridcolor\":\"white\",\"startlinecolor\":\"#2a3f5f\"},\"type\":\"carpet\"}],\"choropleth\":[{\"colorbar\":{\"outlinewidth\":0,\"ticks\":\"\"},\"type\":\"choropleth\"}],\"contour\":[{\"colorbar\":{\"outlinewidth\":0,\"ticks\":\"\"},\"colorscale\":[[0.0,\"#0d0887\"],[0.1111111111111111,\"#46039f\"],[0.2222222222222222,\"#7201a8\"],[0.3333333333333333,\"#9c179e\"],[0.4444444444444444,\"#bd3786\"],[0.5555555555555556,\"#d8576b\"],[0.6666666666666666,\"#ed7953\"],[0.7777777777777778,\"#fb9f3a\"],[0.8888888888888888,\"#fdca26\"],[1.0,\"#f0f921\"]],\"type\":\"contour\"}],\"contourcarpet\":[{\"colorbar\":{\"outlinewidth\":0,\"ticks\":\"\"},\"type\":\"contourcarpet\"}],\"heatmap\":[{\"colorbar\":{\"outlinewidth\":0,\"ticks\":\"\"},\"colorscale\":[[0.0,\"#0d0887\"],[0.1111111111111111,\"#46039f\"],[0.2222222222222222,\"#7201a8\"],[0.3333333333333333,\"#9c179e\"],[0.4444444444444444,\"#bd3786\"],[0.5555555555555556,\"#d8576b\"],[0.6666666666666666,\"#ed7953\"],[0.7777777777777778,\"#fb9f3a\"],[0.8888888888888888,\"#fdca26\"],[1.0,\"#f0f921\"]],\"type\":\"heatmap\"}],\"heatmapgl\":[{\"colorbar\":{\"outlinewidth\":0,\"ticks\":\"\"},\"colorscale\":[[0.0,\"#0d0887\"],[0.1111111111111111,\"#46039f\"],[0.2222222222222222,\"#7201a8\"],[0.3333333333333333,\"#9c179e\"],[0.4444444444444444,\"#bd3786\"],[0.5555555555555556,\"#d8576b\"],[0.6666666666666666,\"#ed7953\"],[0.7777777777777778,\"#fb9f3a\"],[0.8888888888888888,\"#fdca26\"],[1.0,\"#f0f921\"]],\"type\":\"heatmapgl\"}],\"histogram\":[{\"marker\":{\"pattern\":{\"fillmode\":\"overlay\",\"size\":10,\"solidity\":0.2}},\"type\":\"histogram\"}],\"histogram2d\":[{\"colorbar\":{\"outlinewidth\":0,\"ticks\":\"\"},\"colorscale\":[[0.0,\"#0d0887\"],[0.1111111111111111,\"#46039f\"],[0.2222222222222222,\"#7201a8\"],[0.3333333333333333,\"#9c179e\"],[0.4444444444444444,\"#bd3786\"],[0.5555555555555556,\"#d8576b\"],[0.6666666666666666,\"#ed7953\"],[0.7777777777777778,\"#fb9f3a\"],[0.8888888888888888,\"#fdca26\"],[1.0,\"#f0f921\"]],\"type\":\"histogram2d\"}],\"histogram2dcontour\":[{\"colorbar\":{\"outlinewidth\":0,\"ticks\":\"\"},\"colorscale\":[[0.0,\"#0d0887\"],[0.1111111111111111,\"#46039f\"],[0.2222222222222222,\"#7201a8\"],[0.3333333333333333,\"#9c179e\"],[0.4444444444444444,\"#bd3786\"],[0.5555555555555556,\"#d8576b\"],[0.6666666666666666,\"#ed7953\"],[0.7777777777777778,\"#fb9f3a\"],[0.8888888888888888,\"#fdca26\"],[1.0,\"#f0f921\"]],\"type\":\"histogram2dcontour\"}],\"mesh3d\":[{\"colorbar\":{\"outlinewidth\":0,\"ticks\":\"\"},\"type\":\"mesh3d\"}],\"parcoords\":[{\"line\":{\"colorbar\":{\"outlinewidth\":0,\"ticks\":\"\"}},\"type\":\"parcoords\"}],\"pie\":[{\"automargin\":true,\"type\":\"pie\"}],\"scatter\":[{\"marker\":{\"colorbar\":{\"outlinewidth\":0,\"ticks\":\"\"}},\"type\":\"scatter\"}],\"scatter3d\":[{\"line\":{\"colorbar\":{\"outlinewidth\":0,\"ticks\":\"\"}},\"marker\":{\"colorbar\":{\"outlinewidth\":0,\"ticks\":\"\"}},\"type\":\"scatter3d\"}],\"scattercarpet\":[{\"marker\":{\"colorbar\":{\"outlinewidth\":0,\"ticks\":\"\"}},\"type\":\"scattercarpet\"}],\"scattergeo\":[{\"marker\":{\"colorbar\":{\"outlinewidth\":0,\"ticks\":\"\"}},\"type\":\"scattergeo\"}],\"scattergl\":[{\"marker\":{\"colorbar\":{\"outlinewidth\":0,\"ticks\":\"\"}},\"type\":\"scattergl\"}],\"scattermapbox\":[{\"marker\":{\"colorbar\":{\"outlinewidth\":0,\"ticks\":\"\"}},\"type\":\"scattermapbox\"}],\"scatterpolar\":[{\"marker\":{\"colorbar\":{\"outlinewidth\":0,\"ticks\":\"\"}},\"type\":\"scatterpolar\"}],\"scatterpolargl\":[{\"marker\":{\"colorbar\":{\"outlinewidth\":0,\"ticks\":\"\"}},\"type\":\"scatterpolargl\"}],\"scatterternary\":[{\"marker\":{\"colorbar\":{\"outlinewidth\":0,\"ticks\":\"\"}},\"type\":\"scatterternary\"}],\"surface\":[{\"colorbar\":{\"outlinewidth\":0,\"ticks\":\"\"},\"colorscale\":[[0.0,\"#0d0887\"],[0.1111111111111111,\"#46039f\"],[0.2222222222222222,\"#7201a8\"],[0.3333333333333333,\"#9c179e\"],[0.4444444444444444,\"#bd3786\"],[0.5555555555555556,\"#d8576b\"],[0.6666666666666666,\"#ed7953\"],[0.7777777777777778,\"#fb9f3a\"],[0.8888888888888888,\"#fdca26\"],[1.0,\"#f0f921\"]],\"type\":\"surface\"}],\"table\":[{\"cells\":{\"fill\":{\"color\":\"#EBF0F8\"},\"line\":{\"color\":\"white\"}},\"header\":{\"fill\":{\"color\":\"#C8D4E3\"},\"line\":{\"color\":\"white\"}},\"type\":\"table\"}]},\"layout\":{\"annotationdefaults\":{\"arrowcolor\":\"#2a3f5f\",\"arrowhead\":0,\"arrowwidth\":1},\"autotypenumbers\":\"strict\",\"coloraxis\":{\"colorbar\":{\"outlinewidth\":0,\"ticks\":\"\"}},\"colorscale\":{\"diverging\":[[0,\"#8e0152\"],[0.1,\"#c51b7d\"],[0.2,\"#de77ae\"],[0.3,\"#f1b6da\"],[0.4,\"#fde0ef\"],[0.5,\"#f7f7f7\"],[0.6,\"#e6f5d0\"],[0.7,\"#b8e186\"],[0.8,\"#7fbc41\"],[0.9,\"#4d9221\"],[1,\"#276419\"]],\"sequential\":[[0.0,\"#0d0887\"],[0.1111111111111111,\"#46039f\"],[0.2222222222222222,\"#7201a8\"],[0.3333333333333333,\"#9c179e\"],[0.4444444444444444,\"#bd3786\"],[0.5555555555555556,\"#d8576b\"],[0.6666666666666666,\"#ed7953\"],[0.7777777777777778,\"#fb9f3a\"],[0.8888888888888888,\"#fdca26\"],[1.0,\"#f0f921\"]],\"sequentialminus\":[[0.0,\"#0d0887\"],[0.1111111111111111,\"#46039f\"],[0.2222222222222222,\"#7201a8\"],[0.3333333333333333,\"#9c179e\"],[0.4444444444444444,\"#bd3786\"],[0.5555555555555556,\"#d8576b\"],[0.6666666666666666,\"#ed7953\"],[0.7777777777777778,\"#fb9f3a\"],[0.8888888888888888,\"#fdca26\"],[1.0,\"#f0f921\"]]},\"colorway\":[\"#636efa\",\"#EF553B\",\"#00cc96\",\"#ab63fa\",\"#FFA15A\",\"#19d3f3\",\"#FF6692\",\"#B6E880\",\"#FF97FF\",\"#FECB52\"],\"font\":{\"color\":\"#2a3f5f\"},\"geo\":{\"bgcolor\":\"white\",\"lakecolor\":\"white\",\"landcolor\":\"#E5ECF6\",\"showlakes\":true,\"showland\":true,\"subunitcolor\":\"white\"},\"hoverlabel\":{\"align\":\"left\"},\"hovermode\":\"closest\",\"mapbox\":{\"style\":\"light\"},\"paper_bgcolor\":\"white\",\"plot_bgcolor\":\"#E5ECF6\",\"polar\":{\"angularaxis\":{\"gridcolor\":\"white\",\"linecolor\":\"white\",\"ticks\":\"\"},\"bgcolor\":\"#E5ECF6\",\"radialaxis\":{\"gridcolor\":\"white\",\"linecolor\":\"white\",\"ticks\":\"\"}},\"scene\":{\"xaxis\":{\"backgroundcolor\":\"#E5ECF6\",\"gridcolor\":\"white\",\"gridwidth\":2,\"linecolor\":\"white\",\"showbackground\":true,\"ticks\":\"\",\"zerolinecolor\":\"white\"},\"yaxis\":{\"backgroundcolor\":\"#E5ECF6\",\"gridcolor\":\"white\",\"gridwidth\":2,\"linecolor\":\"white\",\"showbackground\":true,\"ticks\":\"\",\"zerolinecolor\":\"white\"},\"zaxis\":{\"backgroundcolor\":\"#E5ECF6\",\"gridcolor\":\"white\",\"gridwidth\":2,\"linecolor\":\"white\",\"showbackground\":true,\"ticks\":\"\",\"zerolinecolor\":\"white\"}},\"shapedefaults\":{\"line\":{\"color\":\"#2a3f5f\"}},\"ternary\":{\"aaxis\":{\"gridcolor\":\"white\",\"linecolor\":\"white\",\"ticks\":\"\"},\"baxis\":{\"gridcolor\":\"white\",\"linecolor\":\"white\",\"ticks\":\"\"},\"bgcolor\":\"#E5ECF6\",\"caxis\":{\"gridcolor\":\"white\",\"linecolor\":\"white\",\"ticks\":\"\"}},\"title\":{\"x\":0.05},\"xaxis\":{\"automargin\":true,\"gridcolor\":\"white\",\"linecolor\":\"white\",\"ticks\":\"\",\"title\":{\"standoff\":15},\"zerolinecolor\":\"white\",\"zerolinewidth\":2},\"yaxis\":{\"automargin\":true,\"gridcolor\":\"white\",\"linecolor\":\"white\",\"ticks\":\"\",\"title\":{\"standoff\":15},\"zerolinecolor\":\"white\",\"zerolinewidth\":2}}},\"xaxis\":{\"anchor\":\"y\",\"domain\":[0.0,1.0],\"title\":{\"text\":\"Year\"}},\"yaxis\":{\"anchor\":\"x\",\"domain\":[0.0,1.0],\"title\":{\"text\":\"count\"}},\"legend\":{\"title\":{\"text\":\"Sex\"},\"tracegroupgap\":0},\"margin\":{\"t\":60},\"barmode\":\"overlay\",\"title\":{\"text\":\"Participantes Brasileiros dos Jogos por G\\u00eanero\",\"y\":0.98,\"x\":0.5,\"xanchor\":\"center\",\"yanchor\":\"top\"},\"plot_bgcolor\":\"rgba(255,255,255, 0.9)\"},                        {\"responsive\": true}                    ).then(function(){\n",
              "                            \n",
              "var gd = document.getElementById('d3cae980-560f-46de-a31b-da0d7f2b55ac');\n",
              "var x = new MutationObserver(function (mutations, observer) {{\n",
              "        var display = window.getComputedStyle(gd).display;\n",
              "        if (!display || display === 'none') {{\n",
              "            console.log([gd, 'removed!']);\n",
              "            Plotly.purge(gd);\n",
              "            observer.disconnect();\n",
              "        }}\n",
              "}});\n",
              "\n",
              "// Listen for the removal of the full notebook cells\n",
              "var notebookContainer = gd.closest('#notebook-container');\n",
              "if (notebookContainer) {{\n",
              "    x.observe(notebookContainer, {childList: true});\n",
              "}}\n",
              "\n",
              "// Listen for the clearing of the current output cell\n",
              "var outputEl = gd.closest('.output');\n",
              "if (outputEl) {{\n",
              "    x.observe(outputEl, {childList: true});\n",
              "}}\n",
              "\n",
              "                        })                };                            </script>        </div>\n",
              "</body>\n",
              "</html>"
            ]
          },
          "metadata": {}
        }
      ]
    },
    {
      "cell_type": "markdown",
      "source": [
        "- É possivel observar ao longo dos anos o crescimento da participação feminina brasileira nos jogos.\n",
        "- No evento de 2004 tivemos uma maior participação feminina (160) do que masculina (158).\n",
        "- No evento Rio (2016) é possível observar que o gênero masculino voltou a abrir uma diferença nas participações de forma mais relevante."
      ],
      "metadata": {
        "id": "DUVavHndaiNX"
      }
    },
    {
      "cell_type": "markdown",
      "source": [
        "##*8.2. Atletas Campeões Olímpicos Brasileiros*"
      ],
      "metadata": {
        "id": "DVHAaVDp9sHD"
      }
    },
    {
      "cell_type": "markdown",
      "source": [
        "- Vamos filtrar os atletas brasileiros que obtiveram medalhas de ouro."
      ],
      "metadata": {
        "id": "_TruJ-Be_Agw"
      }
    },
    {
      "cell_type": "code",
      "source": [
        "brasilOuro = brasilOlimpico[(brasilOlimpico.Medal == 'Gold')]"
      ],
      "metadata": {
        "id": "gEuY52xy-Pyu"
      },
      "execution_count": 113,
      "outputs": []
    },
    {
      "cell_type": "markdown",
      "source": [
        "- Vamos verificar a distribuição dos atletas medalhistas de ouro ao longo das edições."
      ],
      "metadata": {
        "id": "yE_gj1bnByUn"
      }
    },
    {
      "cell_type": "code",
      "source": [
        "sns.set(style=\"darkgrid\")\n",
        "plt.figure(figsize=(13, 4))\n",
        "sns.countplot(x='Year', data=brasilOuro, color='Green')\n",
        "plt.title('Brasileiros Campeões Olimpicos ao Longo dos Anos')"
      ],
      "metadata": {
        "colab": {
          "base_uri": "https://localhost:8080/",
          "height": 318
        },
        "id": "YcDfIPf6zAs1",
        "outputId": "131f0a0b-e2ad-4fcb-9daa-39acf1a88822"
      },
      "execution_count": 252,
      "outputs": [
        {
          "output_type": "execute_result",
          "data": {
            "text/plain": [
              "Text(0.5, 1.0, 'Brasileiros Campeões Olimpicos ao Longo dos Anos')"
            ]
          },
          "metadata": {},
          "execution_count": 252
        },
        {
          "output_type": "display_data",
          "data": {
            "text/plain": [
              "<Figure size 936x288 with 1 Axes>"
            ],
            "image/png": "[encoded data removed]"
          },
          "metadata": {}
        }
      ]
    },
    {
      "cell_type": "markdown",
      "source": [
        " - Vamos criar um gráfico do tipo distplot com o intuido do mesmo nos mostrar a combinação de um histograma com a linha do KDE, ou seja, a visualização da quantidade de atletas através barras divididas nos intervalos das edições, e densidade desses dados, calculando a probabilidade de se ter um ponto naquele local do gráfico."
      ],
      "metadata": {
        "id": "cSOagMBoQVUF"
      }
    },
    {
      "cell_type": "code",
      "source": [
        "x=sns.distplot(x=brasilOuro['Year'].dropna(),color='Green')\n",
        "x.set_title('Edições por Medalhas de Ouro',fontsize=16,fontweight=200)  "
      ],
      "metadata": {
        "colab": {
          "base_uri": "https://localhost:8080/",
          "height": 358
        },
        "id": "sZtfMPdfKWCm",
        "outputId": "61ec0d26-acd3-4463-b3c2-10c17734699c"
      },
      "execution_count": 245,
      "outputs": [
        {
          "output_type": "stream",
          "name": "stderr",
          "text": [
            "/usr/local/lib/python3.7/dist-packages/seaborn/distributions.py:2619: FutureWarning: `distplot` is a deprecated function and will be removed in a future version. Please adapt your code to use either `displot` (a figure-level function with similar flexibility) or `histplot` (an axes-level function for histograms).\n",
            "  warnings.warn(msg, FutureWarning)\n"
          ]
        },
        {
          "output_type": "execute_result",
          "data": {
            "text/plain": [
              "Text(0.5, 1.0, 'Edições por Medalhas de Ouro')"
            ]
          },
          "metadata": {},
          "execution_count": 245
        },
        {
          "output_type": "display_data",
          "data": {
            "text/plain": [
              "<Figure size 432x288 with 1 Axes>"
            ],
            "image/png": "[encoded data removed]"
          },
          "metadata": {}
        }
      ]
    },
    {
      "cell_type": "markdown",
      "source": [
        "- O gráfico nos mostra uma **tendência** de ganho de medalhas de ouro muito **inferior ao realizado** na Rio 2016.\n",
        " * Deve-se atentar a campanha existente de esportes coletivos na Rio- 2016."
      ],
      "metadata": {
        "id": "Cndu7ukGRMcT"
      }
    },
    {
      "cell_type": "markdown",
      "source": [
        "- Vamos verificar as **modalidades esportivas** que proporcioaram medalhas de ouro ao Brasil."
      ],
      "metadata": {
        "id": "OiyKmAA52UPG"
      }
    },
    {
      "cell_type": "code",
      "source": [
        "esportesOuro= brasilOuro['Event'].unique().tolist()"
      ],
      "metadata": {
        "id": "gQXSfiEA2J7N"
      },
      "execution_count": 115,
      "outputs": []
    },
    {
      "cell_type": "code",
      "source": [
        "esportesOuro"
      ],
      "metadata": {
        "colab": {
          "base_uri": "https://localhost:8080/"
        },
        "id": "ZX_F6nuk35sI",
        "outputId": "6669c5c3-fe66-4109-d67c-395af39ffc96"
      },
      "execution_count": 116,
      "outputs": [
        {
          "output_type": "execute_result",
          "data": {
            "text/plain": [
              "[\"Volleyball Women's Volleyball\",\n",
              " \"Beach Volleyball Men's Beach Volleyball\",\n",
              " \"Volleyball Men's Volleyball\",\n",
              " 'Sailing Mixed Multihull',\n",
              " \"Athletics Men's Pole Vault\",\n",
              " \"Judo Men's Half-Lightweight\",\n",
              " \"Swimming Men's 50 metres Freestyle\",\n",
              " \"Boxing Men's Lightweight\",\n",
              " \"Athletics Men's 800 metres\",\n",
              " \"Athletics Men's Triple Jump\",\n",
              " \"Football Men's Football\",\n",
              " 'Sailing Mixed Two Person Keelboat',\n",
              " \"Sailing Men's Two Person Keelboat\",\n",
              " \"Sailing Women's Skiff\",\n",
              " \"Athletics Women's Long Jump\",\n",
              " \"Judo Women's Extra-Lightweight\",\n",
              " \"Judo Men's Half-Heavyweight\",\n",
              " \"Shooting Men's Military Pistol, 30 metres\",\n",
              " 'Sailing Mixed Two Person Dinghy',\n",
              " 'Equestrianism Mixed Jumping, Individual',\n",
              " \"Beach Volleyball Women's Beach Volleyball\",\n",
              " 'Sailing Mixed One Person Dinghy',\n",
              " \"Judo Women's Lightweight\",\n",
              " \"Gymnastics Men's Rings\"]"
            ]
          },
          "metadata": {},
          "execution_count": 116
        }
      ]
    },
    {
      "cell_type": "markdown",
      "source": [
        "- Identificando as **cinco principais** modalidades esportivas que mais distribuiram medalhas aos atletas brasileiros.\n",
        "\n",
        "  * Vale ressaltar que: \n",
        "    - Estamos considerando a quantidade por atletas e não por modalidade esportiva,ou seja, não levamos em consideração a especificidade (individual ou coletiva)."
      ],
      "metadata": {
        "id": "fKC6pWSY_6Tl"
      }
    },
    {
      "cell_type": "code",
      "source": [
        "brasilOuro.Event.value_counts().reset_index(name='Medalhas').head(5)\n"
      ],
      "metadata": {
        "colab": {
          "base_uri": "https://localhost:8080/",
          "height": 206
        },
        "id": "oe3XhKZZ4Hsk",
        "outputId": "88369dd9-0af2-4048-c7a3-84acd44aa590"
      },
      "execution_count": 127,
      "outputs": [
        {
          "output_type": "execute_result",
          "data": {
            "text/plain": [
              "                                     index  Medalhas\n",
              "0              Volleyball Men's Volleyball        36\n",
              "1            Volleyball Women's Volleyball        24\n",
              "2                  Football Men's Football        17\n",
              "3  Beach Volleyball Men's Beach Volleyball         4\n",
              "4          Sailing Mixed One Person Dinghy         2"
            ],
            "text/html": [
              "\n",
              "  <div id=\"df-49ba28a3-a105-4b11-ad8c-0dd44b55a95d\">\n",
              "    <div class=\"colab-df-container\">\n",
              "      <div>\n",
              "<style scoped>\n",
              "    .dataframe tbody tr th:only-of-type {\n",
              "        vertical-align: middle;\n",
              "    }\n",
              "\n",
              "    .dataframe tbody tr th {\n",
              "        vertical-align: top;\n",
              "    }\n",
              "\n",
              "    .dataframe thead th {\n",
              "        text-align: right;\n",
              "    }\n",
              "</style>\n",
              "<table border=\"1\" class=\"dataframe\">\n",
              "  <thead>\n",
              "    <tr style=\"text-align: right;\">\n",
              "      <th></th>\n",
              "      <th>index</th>\n",
              "      <th>Medalhas</th>\n",
              "    </tr>\n",
              "  </thead>\n",
              "  <tbody>\n",
              "    <tr>\n",
              "      <th>0</th>\n",
              "      <td>Volleyball Men's Volleyball</td>\n",
              "      <td>36</td>\n",
              "    </tr>\n",
              "    <tr>\n",
              "      <th>1</th>\n",
              "      <td>Volleyball Women's Volleyball</td>\n",
              "      <td>24</td>\n",
              "    </tr>\n",
              "    <tr>\n",
              "      <th>2</th>\n",
              "      <td>Football Men's Football</td>\n",
              "      <td>17</td>\n",
              "    </tr>\n",
              "    <tr>\n",
              "      <th>3</th>\n",
              "      <td>Beach Volleyball Men's Beach Volleyball</td>\n",
              "      <td>4</td>\n",
              "    </tr>\n",
              "    <tr>\n",
              "      <th>4</th>\n",
              "      <td>Sailing Mixed One Person Dinghy</td>\n",
              "      <td>2</td>\n",
              "    </tr>\n",
              "  </tbody>\n",
              "</table>\n",
              "</div>\n",
              "      <button class=\"colab-df-convert\" onclick=\"convertToInteractive('df-49ba28a3-a105-4b11-ad8c-0dd44b55a95d')\"\n",
              "              title=\"Convert this dataframe to an interactive table.\"\n",
              "              style=\"display:none;\">\n",
              "        \n",
              "  <svg xmlns=\"http://www.w3.org/2000/svg\" height=\"24px\"viewBox=\"0 0 24 24\"\n",
              "       width=\"24px\">\n",
              "    <path d=\"M0 0h24v24H0V0z\" fill=\"none\"/>\n",
              "    <path d=\"M18.56 5.44l.94 2.06.94-2.06 2.06-.94-2.06-.94-.94-2.06-.94 2.06-2.06.94zm-11 1L8.5 8.5l.94-2.06 2.06-.94-2.06-.94L8.5 2.5l-.94 2.06-2.06.94zm10 10l.94 2.06.94-2.06 2.06-.94-2.06-.94-.94-2.06-.94 2.06-2.06.94z\"/><path d=\"M17.41 7.96l-1.37-1.37c-.4-.4-.92-.59-1.43-.59-.52 0-1.04.2-1.43.59L10.3 9.45l-7.72 7.72c-.78.78-.78 2.05 0 2.83L4 21.41c.39.39.9.59 1.41.59.51 0 1.02-.2 1.41-.59l7.78-7.78 2.81-2.81c.8-.78.8-2.07 0-2.86zM5.41 20L4 18.59l7.72-7.72 1.47 1.35L5.41 20z\"/>\n",
              "  </svg>\n",
              "      </button>\n",
              "      \n",
              "  <style>\n",
              "    .colab-df-container {\n",
              "      display:flex;\n",
              "      flex-wrap:wrap;\n",
              "      gap: 12px;\n",
              "    }\n",
              "\n",
              "    .colab-df-convert {\n",
              "      background-color: #E8F0FE;\n",
              "      border: none;\n",
              "      border-radius: 50%;\n",
              "      cursor: pointer;\n",
              "      display: none;\n",
              "      fill: #1967D2;\n",
              "      height: 32px;\n",
              "      padding: 0 0 0 0;\n",
              "      width: 32px;\n",
              "    }\n",
              "\n",
              "    .colab-df-convert:hover {\n",
              "      background-color: #E2EBFA;\n",
              "      box-shadow: 0px 1px 2px rgba(60, 64, 67, 0.3), 0px 1px 3px 1px rgba(60, 64, 67, 0.15);\n",
              "      fill: #174EA6;\n",
              "    }\n",
              "\n",
              "    [theme=dark] .colab-df-convert {\n",
              "      background-color: #3B4455;\n",
              "      fill: #D2E3FC;\n",
              "    }\n",
              "\n",
              "    [theme=dark] .colab-df-convert:hover {\n",
              "      background-color: #434B5C;\n",
              "      box-shadow: 0px 1px 3px 1px rgba(0, 0, 0, 0.15);\n",
              "      filter: drop-shadow(0px 1px 2px rgba(0, 0, 0, 0.3));\n",
              "      fill: #FFFFFF;\n",
              "    }\n",
              "  </style>\n",
              "\n",
              "      <script>\n",
              "        const buttonEl =\n",
              "          document.querySelector('#df-49ba28a3-a105-4b11-ad8c-0dd44b55a95d button.colab-df-convert');\n",
              "        buttonEl.style.display =\n",
              "          google.colab.kernel.accessAllowed ? 'block' : 'none';\n",
              "\n",
              "        async function convertToInteractive(key) {\n",
              "          const element = document.querySelector('#df-49ba28a3-a105-4b11-ad8c-0dd44b55a95d');\n",
              "          const dataTable =\n",
              "            await google.colab.kernel.invokeFunction('convertToInteractive',\n",
              "                                                     [key], {});\n",
              "          if (!dataTable) return;\n",
              "\n",
              "          const docLinkHtml = 'Like what you see? Visit the ' +\n",
              "            '<a target=\"_blank\" href=https://colab.research.google.com/notebooks/data_table.ipynb>data table notebook</a>'\n",
              "            + ' to learn more about interactive tables.';\n",
              "          element.innerHTML = '';\n",
              "          dataTable['output_type'] = 'display_data';\n",
              "          await google.colab.output.renderOutput(dataTable, element);\n",
              "          const docLink = document.createElement('div');\n",
              "          docLink.innerHTML = docLinkHtml;\n",
              "          element.appendChild(docLink);\n",
              "        }\n",
              "      </script>\n",
              "    </div>\n",
              "  </div>\n",
              "  "
            ]
          },
          "metadata": {},
          "execution_count": 127
        }
      ]
    },
    {
      "cell_type": "markdown",
      "source": [
        "- Atletas olímpicos brasileiros com **mais** medalhas de ouro."
      ],
      "metadata": {
        "id": "uds66amMTASi"
      }
    },
    {
      "cell_type": "code",
      "source": [
        "biBrasileiro= brasilOuro.Name.value_counts().reset_index(name='Medal').head(15)\n",
        "biBrasileiro.head(15)\n"
      ],
      "metadata": {
        "colab": {
          "base_uri": "https://localhost:8080/",
          "height": 520
        },
        "id": "a5K2dLMvEypj",
        "outputId": "933fbe6d-a351-4d8d-b103-97f2cf4ffb11"
      },
      "execution_count": 126,
      "outputs": [
        {
          "output_type": "execute_result",
          "data": {
            "text/plain": [
              "                                                index  Medal\n",
              "0                             Marcelo Bastos Ferreira      2\n",
              "1                              Thasa Daher de Menezes      2\n",
              "2                                      Robert Scheidt      2\n",
              "3                              Giovane Farinazzo Gvio      2\n",
              "4                 Sheilla Tavares de Castro Blassioli      2\n",
              "5                          Fabiana Marcelino Claudino      2\n",
              "6                    Fabiana \"Fabi\" Alvim de Oliveira      2\n",
              "7                  Srgio \"Escadinha\" Dutra dos Santos      2\n",
              "8                                Torben Schmidt Grael      2\n",
              "9                           Adhemar Ferreira da Silva      2\n",
              "10  Jaqueline Maria \"Jaque\" Pereira de Carvalho En...      2\n",
              "11                       Paula Renata Marques Pequeno      2\n",
              "12                               Maurcio Camargo Lima      2\n",
              "13                            Rodrigo de Paula Pessoa      1\n",
              "14                                Natlia Zlio Pereira      1"
            ],
            "text/html": [
              "\n",
              "  <div id=\"df-c9ff3c01-3504-4f8a-aa36-9b2e6e640911\">\n",
              "    <div class=\"colab-df-container\">\n",
              "      <div>\n",
              "<style scoped>\n",
              "    .dataframe tbody tr th:only-of-type {\n",
              "        vertical-align: middle;\n",
              "    }\n",
              "\n",
              "    .dataframe tbody tr th {\n",
              "        vertical-align: top;\n",
              "    }\n",
              "\n",
              "    .dataframe thead th {\n",
              "        text-align: right;\n",
              "    }\n",
              "</style>\n",
              "<table border=\"1\" class=\"dataframe\">\n",
              "  <thead>\n",
              "    <tr style=\"text-align: right;\">\n",
              "      <th></th>\n",
              "      <th>index</th>\n",
              "      <th>Medal</th>\n",
              "    </tr>\n",
              "  </thead>\n",
              "  <tbody>\n",
              "    <tr>\n",
              "      <th>0</th>\n",
              "      <td>Marcelo Bastos Ferreira</td>\n",
              "      <td>2</td>\n",
              "    </tr>\n",
              "    <tr>\n",
              "      <th>1</th>\n",
              "      <td>Thasa Daher de Menezes</td>\n",
              "      <td>2</td>\n",
              "    </tr>\n",
              "    <tr>\n",
              "      <th>2</th>\n",
              "      <td>Robert Scheidt</td>\n",
              "      <td>2</td>\n",
              "    </tr>\n",
              "    <tr>\n",
              "      <th>3</th>\n",
              "      <td>Giovane Farinazzo Gvio</td>\n",
              "      <td>2</td>\n",
              "    </tr>\n",
              "    <tr>\n",
              "      <th>4</th>\n",
              "      <td>Sheilla Tavares de Castro Blassioli</td>\n",
              "      <td>2</td>\n",
              "    </tr>\n",
              "    <tr>\n",
              "      <th>5</th>\n",
              "      <td>Fabiana Marcelino Claudino</td>\n",
              "      <td>2</td>\n",
              "    </tr>\n",
              "    <tr>\n",
              "      <th>6</th>\n",
              "      <td>Fabiana \"Fabi\" Alvim de Oliveira</td>\n",
              "      <td>2</td>\n",
              "    </tr>\n",
              "    <tr>\n",
              "      <th>7</th>\n",
              "      <td>Srgio \"Escadinha\" Dutra dos Santos</td>\n",
              "      <td>2</td>\n",
              "    </tr>\n",
              "    <tr>\n",
              "      <th>8</th>\n",
              "      <td>Torben Schmidt Grael</td>\n",
              "      <td>2</td>\n",
              "    </tr>\n",
              "    <tr>\n",
              "      <th>9</th>\n",
              "      <td>Adhemar Ferreira da Silva</td>\n",
              "      <td>2</td>\n",
              "    </tr>\n",
              "    <tr>\n",
              "      <th>10</th>\n",
              "      <td>Jaqueline Maria \"Jaque\" Pereira de Carvalho En...</td>\n",
              "      <td>2</td>\n",
              "    </tr>\n",
              "    <tr>\n",
              "      <th>11</th>\n",
              "      <td>Paula Renata Marques Pequeno</td>\n",
              "      <td>2</td>\n",
              "    </tr>\n",
              "    <tr>\n",
              "      <th>12</th>\n",
              "      <td>Maurcio Camargo Lima</td>\n",
              "      <td>2</td>\n",
              "    </tr>\n",
              "    <tr>\n",
              "      <th>13</th>\n",
              "      <td>Rodrigo de Paula Pessoa</td>\n",
              "      <td>1</td>\n",
              "    </tr>\n",
              "    <tr>\n",
              "      <th>14</th>\n",
              "      <td>Natlia Zlio Pereira</td>\n",
              "      <td>1</td>\n",
              "    </tr>\n",
              "  </tbody>\n",
              "</table>\n",
              "</div>\n",
              "      <button class=\"colab-df-convert\" onclick=\"convertToInteractive('df-c9ff3c01-3504-4f8a-aa36-9b2e6e640911')\"\n",
              "              title=\"Convert this dataframe to an interactive table.\"\n",
              "              style=\"display:none;\">\n",
              "        \n",
              "  <svg xmlns=\"http://www.w3.org/2000/svg\" height=\"24px\"viewBox=\"0 0 24 24\"\n",
              "       width=\"24px\">\n",
              "    <path d=\"M0 0h24v24H0V0z\" fill=\"none\"/>\n",
              "    <path d=\"M18.56 5.44l.94 2.06.94-2.06 2.06-.94-2.06-.94-.94-2.06-.94 2.06-2.06.94zm-11 1L8.5 8.5l.94-2.06 2.06-.94-2.06-.94L8.5 2.5l-.94 2.06-2.06.94zm10 10l.94 2.06.94-2.06 2.06-.94-2.06-.94-.94-2.06-.94 2.06-2.06.94z\"/><path d=\"M17.41 7.96l-1.37-1.37c-.4-.4-.92-.59-1.43-.59-.52 0-1.04.2-1.43.59L10.3 9.45l-7.72 7.72c-.78.78-.78 2.05 0 2.83L4 21.41c.39.39.9.59 1.41.59.51 0 1.02-.2 1.41-.59l7.78-7.78 2.81-2.81c.8-.78.8-2.07 0-2.86zM5.41 20L4 18.59l7.72-7.72 1.47 1.35L5.41 20z\"/>\n",
              "  </svg>\n",
              "      </button>\n",
              "      \n",
              "  <style>\n",
              "    .colab-df-container {\n",
              "      display:flex;\n",
              "      flex-wrap:wrap;\n",
              "      gap: 12px;\n",
              "    }\n",
              "\n",
              "    .colab-df-convert {\n",
              "      background-color: #E8F0FE;\n",
              "      border: none;\n",
              "      border-radius: 50%;\n",
              "      cursor: pointer;\n",
              "      display: none;\n",
              "      fill: #1967D2;\n",
              "      height: 32px;\n",
              "      padding: 0 0 0 0;\n",
              "      width: 32px;\n",
              "    }\n",
              "\n",
              "    .colab-df-convert:hover {\n",
              "      background-color: #E2EBFA;\n",
              "      box-shadow: 0px 1px 2px rgba(60, 64, 67, 0.3), 0px 1px 3px 1px rgba(60, 64, 67, 0.15);\n",
              "      fill: #174EA6;\n",
              "    }\n",
              "\n",
              "    [theme=dark] .colab-df-convert {\n",
              "      background-color: #3B4455;\n",
              "      fill: #D2E3FC;\n",
              "    }\n",
              "\n",
              "    [theme=dark] .colab-df-convert:hover {\n",
              "      background-color: #434B5C;\n",
              "      box-shadow: 0px 1px 3px 1px rgba(0, 0, 0, 0.15);\n",
              "      filter: drop-shadow(0px 1px 2px rgba(0, 0, 0, 0.3));\n",
              "      fill: #FFFFFF;\n",
              "    }\n",
              "  </style>\n",
              "\n",
              "      <script>\n",
              "        const buttonEl =\n",
              "          document.querySelector('#df-c9ff3c01-3504-4f8a-aa36-9b2e6e640911 button.colab-df-convert');\n",
              "        buttonEl.style.display =\n",
              "          google.colab.kernel.accessAllowed ? 'block' : 'none';\n",
              "\n",
              "        async function convertToInteractive(key) {\n",
              "          const element = document.querySelector('#df-c9ff3c01-3504-4f8a-aa36-9b2e6e640911');\n",
              "          const dataTable =\n",
              "            await google.colab.kernel.invokeFunction('convertToInteractive',\n",
              "                                                     [key], {});\n",
              "          if (!dataTable) return;\n",
              "\n",
              "          const docLinkHtml = 'Like what you see? Visit the ' +\n",
              "            '<a target=\"_blank\" href=https://colab.research.google.com/notebooks/data_table.ipynb>data table notebook</a>'\n",
              "            + ' to learn more about interactive tables.';\n",
              "          element.innerHTML = '';\n",
              "          dataTable['output_type'] = 'display_data';\n",
              "          await google.colab.output.renderOutput(dataTable, element);\n",
              "          const docLink = document.createElement('div');\n",
              "          docLink.innerHTML = docLinkHtml;\n",
              "          element.appendChild(docLink);\n",
              "        }\n",
              "      </script>\n",
              "    </div>\n",
              "  </div>\n",
              "  "
            ]
          },
          "metadata": {},
          "execution_count": 126
        }
      ]
    },
    {
      "cell_type": "markdown",
      "source": [
        "- Na história dos Jogos Modernos de Verão, **treze** foram os atletas brasileiros que conseguiram o feito de se sagrarem bicampeão olímpico."
      ],
      "metadata": {
        "id": "oI1VgCxuy0_K"
      }
    }
  ]
}